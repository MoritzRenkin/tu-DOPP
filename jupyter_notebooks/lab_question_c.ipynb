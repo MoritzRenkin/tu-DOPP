{
 "cells": [
  {
   "cell_type": "markdown",
   "id": "9d6edd0a",
   "metadata": {},
   "source": [
    "# Lab for answering question C\n",
    "Responsible: Moritz"
   ]
  },
  {
   "cell_type": "code",
   "execution_count": 12,
   "id": "0c6de70c",
   "metadata": {},
   "outputs": [],
   "source": [
    "import numpy as np\n",
    "import pandas as pd\n",
    "import pickle"
   ]
  },
  {
   "cell_type": "code",
   "execution_count": 41,
   "id": "60b10c86",
   "metadata": {},
   "outputs": [],
   "source": [
    "transformed_df_serial_path = \"../data/data_transformed.pickle\"\n",
    "\n",
    "with open(transformed_df_serial_path, \"rb\") as file:\n",
    "    df: pd.DataFrame = pickle.load(file)\n",
    "\n",
    "assert isinstance(df, pd.DataFrame),f\"The serialized object in {transformed_df_serial_path} is not a pandas dataframe!\"\n",
    "assert len(df)!=0, \"The serialized dataframe contains no data!\""
   ]
  },
  {
   "cell_type": "markdown",
   "id": "59f362dd",
   "metadata": {},
   "source": [
    "## Regarding Groupby and Pandas Datatypes\n",
    "\n",
    "Pandas usually uses numpy datatypes. However, **numpy integer arrays do not allow for null values (np.nan)**. That's why pandas introduces their own Integer array, which can inlcude null values (pd.NA). However, for groupby operations these pd.NA values can cause problems, so it is advisable to convert back to a numpy float array (which does allow for np.nan) before applying the groupby."
   ]
  },
  {
   "cell_type": "code",
   "execution_count": 56,
   "id": "0c695d2f",
   "metadata": {},
   "outputs": [],
   "source": [
    "series = pd.Series(np.arange(10))\n",
    "\n",
    "series.astype(\"int32\") # <-- \"int32\" (small i) = numpy int, no empty values\n",
    "series.astype(\"Int32\") # <-- \"Int32\" (big i) = pandas int, allows empty values (pd.NA)\n",
    "series.astype(\"float32\") # <-- numpy float, allows empty values (np.nan)\n",
    "pass"
   ]
  },
  {
   "cell_type": "code",
   "execution_count": 52,
   "id": "f033a388",
   "metadata": {
    "scrolled": false
   },
   "outputs": [
    {
     "data": {
      "text/html": [
       "<div>\n",
       "<style scoped>\n",
       "    .dataframe tbody tr th:only-of-type {\n",
       "        vertical-align: middle;\n",
       "    }\n",
       "\n",
       "    .dataframe tbody tr th {\n",
       "        vertical-align: top;\n",
       "    }\n",
       "\n",
       "    .dataframe thead th {\n",
       "        text-align: right;\n",
       "    }\n",
       "</style>\n",
       "<table border=\"1\" class=\"dataframe\">\n",
       "  <thead>\n",
       "    <tr style=\"text-align: right;\">\n",
       "      <th></th>\n",
       "      <th>Total_Deaths</th>\n",
       "      <th>No_Affected</th>\n",
       "    </tr>\n",
       "    <tr>\n",
       "      <th>Disaster_Subgroup</th>\n",
       "      <th></th>\n",
       "      <th></th>\n",
       "    </tr>\n",
       "  </thead>\n",
       "  <tbody>\n",
       "    <tr>\n",
       "      <th>Biological</th>\n",
       "      <td>7508.833724</td>\n",
       "      <td>1569963.310197</td>\n",
       "    </tr>\n",
       "    <tr>\n",
       "      <th>Climatological</th>\n",
       "      <td>41626.964539</td>\n",
       "      <td>4166908.930736</td>\n",
       "    </tr>\n",
       "    <tr>\n",
       "      <th>Extra-terrestrial</th>\n",
       "      <td>NaN</td>\n",
       "      <td>300000.0</td>\n",
       "    </tr>\n",
       "    <tr>\n",
       "      <th>Geophysical</th>\n",
       "      <td>1836.688537</td>\n",
       "      <td>180643.075743</td>\n",
       "    </tr>\n",
       "    <tr>\n",
       "      <th>Hydrological</th>\n",
       "      <td>1431.269028</td>\n",
       "      <td>872651.870358</td>\n",
       "    </tr>\n",
       "    <tr>\n",
       "      <th>Meteorological</th>\n",
       "      <td>409.528254</td>\n",
       "      <td>588057.401987</td>\n",
       "    </tr>\n",
       "  </tbody>\n",
       "</table>\n",
       "</div>"
      ],
      "text/plain": [
       "                   Total_Deaths     No_Affected\n",
       "Disaster_Subgroup                              \n",
       "Biological          7508.833724  1569963.310197\n",
       "Climatological     41626.964539  4166908.930736\n",
       "Extra-terrestrial           NaN        300000.0\n",
       "Geophysical         1836.688537   180643.075743\n",
       "Hydrological        1431.269028   872651.870358\n",
       "Meteorological       409.528254   588057.401987"
      ]
     },
     "execution_count": 52,
     "metadata": {},
     "output_type": "execute_result"
    }
   ],
   "source": [
    "groupby_base = df[[\"Disaster_Subgroup\", \"Total_Deaths\", \"No_Affected\"]].astype({\"Total_Deaths\": np.float})\n",
    "\n",
    "groupby_base.groupby([\"Disaster_Subgroup\"]).mean()"
   ]
  },
  {
   "cell_type": "code",
   "execution_count": null,
   "id": "06703406",
   "metadata": {},
   "outputs": [],
   "source": []
  }
 ],
 "metadata": {
  "kernelspec": {
   "display_name": "Python 3 (ipykernel)",
   "language": "python",
   "name": "python3"
  },
  "language_info": {
   "codemirror_mode": {
    "name": "ipython",
    "version": 3
   },
   "file_extension": ".py",
   "mimetype": "text/x-python",
   "name": "python",
   "nbconvert_exporter": "python",
   "pygments_lexer": "ipython3",
   "version": "3.9.2"
  }
 },
 "nbformat": 4,
 "nbformat_minor": 5
}
