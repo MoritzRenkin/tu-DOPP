{
 "cells": [
  {
   "cell_type": "markdown",
   "id": "9d6edd0a",
   "metadata": {},
   "source": [
    "# Lab for answering question C\n",
    "Responsible: Moritz"
   ]
  },
  {
   "cell_type": "code",
   "execution_count": 1,
   "id": "0c6de70c",
   "metadata": {},
   "outputs": [],
   "source": [
    "import numpy as np\n",
    "import pandas as pd\n",
    "import pickle"
   ]
  },
  {
   "cell_type": "code",
   "execution_count": 3,
   "id": "60b10c86",
   "metadata": {},
   "outputs": [],
   "source": [
    "with open(\"../data/data_transformed.pickle\", \"rb\") as file:\n",
    "    df = pickle.load(file)"
   ]
  },
  {
   "cell_type": "code",
   "execution_count": 6,
   "id": "86c93d3c",
   "metadata": {},
   "outputs": [],
   "source": [
    "df"
   ]
  }
 ],
 "metadata": {
  "kernelspec": {
   "display_name": "Python 3 (ipykernel)",
   "language": "python",
   "name": "python3"
  },
  "language_info": {
   "codemirror_mode": {
    "name": "ipython",
    "version": 3
   },
   "file_extension": ".py",
   "mimetype": "text/x-python",
   "name": "python",
   "nbconvert_exporter": "python",
   "pygments_lexer": "ipython3",
   "version": "3.9.2"
  }
 },
 "nbformat": 4,
 "nbformat_minor": 5
}
