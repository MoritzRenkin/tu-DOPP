{
 "cells": [
  {
   "cell_type": "markdown",
   "id": "8de5b8be",
   "metadata": {},
   "source": [
    "# Lab\n",
    "For exploring and testing"
   ]
  },
  {
   "cell_type": "code",
   "execution_count": 1,
   "id": "5391e80d",
   "metadata": {},
   "outputs": [],
   "source": [
    "import numpy as np"
   ]
  },
  {
   "cell_type": "markdown",
   "id": "2664e6ce",
   "metadata": {},
   "source": [
    "# Ideas\n",
    "\n",
    "\n",
    "* Idea 1\n",
    "    *sub idea"
   ]
  },
  {
   "cell_type": "code",
   "execution_count": null,
   "id": "df84e866",
   "metadata": {},
   "outputs": [],
   "source": []
  }
 ],
 "metadata": {
  "kernelspec": {
   "display_name": "Python 3 (ipykernel)",
   "language": "python",
   "name": "python3"
  },
  "language_info": {
   "codemirror_mode": {
    "name": "ipython",
    "version": 3
   },
   "file_extension": ".py",
   "mimetype": "text/x-python",
   "name": "python",
   "nbconvert_exporter": "python",
   "pygments_lexer": "ipython3",
   "version": "3.9.2"
  }
 },
 "nbformat": 4,
 "nbformat_minor": 5
}
