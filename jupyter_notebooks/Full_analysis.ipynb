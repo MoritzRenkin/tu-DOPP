{
 "cells": [
  {
   "cell_type": "markdown",
   "id": "c71daa45",
   "metadata": {},
   "source": [
    "# Setup\n",
    "\n",
    "There are some external libraries necessary for running the notebook. They are listed in `requirements.txt` and can be installed with pip or conda like:\n",
    "```\n",
    "pip install -r requirements.txt\n",
    "```\n",
    "```\n",
    "conda install --yes --file requirements.txt\n",
    "```\n",
    "\n",
    "As usual, using a virtual environment like venv or conda environment is recommended."
   ]
  },
  {
   "cell_type": "code",
   "execution_count": 1,
   "id": "4a93eb8c",
   "metadata": {},
   "outputs": [],
   "source": [
    "import numpy as np\n",
    "import pandas as pd\n",
    "import matplotlib.pyplot as plt\n",
    "import seaborn as sns\n",
    "from scipy.stats import linregress\n",
    "import geopandas as gpd\n",
    "import numpy as np\n",
    "from math import inf\n",
    "from sklearn.preprocessing import MinMaxScaler\n",
    "import warnings\n",
    "warnings.simplefilter(action='ignore', category=FutureWarning)\n",
    "warnings.simplefilter(action='ignore', category=UserWarning)\n",
    "warnings.simplefilter(action='ignore', category=RuntimeWarning)\n",
    "%run -i utility_functions.py # running utility_functions.py in IPython's namespace, importing the functions"
   ]
  },
  {
   "cell_type": "markdown",
   "id": "0807bcff",
   "metadata": {},
   "source": [
    "# Lab for loading and transforming the data\n",
    "Responsible: Fabian (01126693)"
   ]
  },
  {
   "cell_type": "markdown",
   "id": "bd21f474",
   "metadata": {},
   "source": [
    "## Task\n",
    "\n",
    "As group 5 we have chosen task 6. Task 6 deals with natural disasters and poses 3 questions to be answered:\n",
    "\n",
    "1. How did the number of deaths per year from natural disasters change over the last years? \n",
    "2. How does this vary by country? How does this vary by type of natural disaster?  \n",
    "3. Are there trends visible that could be due to Global Warming? \n",
    "\n",
    "Based on the questions posed, some requirements for the data set emerge. Question 1 aims at the change in death counts over the last years. Therefore, the dataset must contain death counts as well as a history as long as possible (optimally in the range of 100 years). Question 2 focuses on the development in different countries and whether there are differences between different types of natural disasters. Therefore, the data set must include both geographic characteristics and attributes to distinguish between different types of natural disasters. "
   ]
  },
  {
   "cell_type": "markdown",
   "id": "c4d8a613",
   "metadata": {},
   "source": [
    "## Data Source(s)\n",
    "Based on these requirements, publicly available datasets were sought. The 2 most relevant of these are presented briefly here and an explanation is given of how the final choice of dataset was made. \n",
    "\n",
    "### WHO data [<sup>1</sup>](#fn1) ( Explored but not used)\n",
    "\n",
    "The data was queried from the Mortality Database provided by the WHO. With regard to the origin, completeness and scope of the data, the WHO says: \n",
    "\n",
    "> The WHO Mortality Database is a compilation of mortality data by country and area, year, sex, age and cause of death, as transmitted annually by national authorities from their civil registration and vital statistics system. It comprises data since 1950 to date. Only data with at least 65% completeness are published here\n",
    "\n",
    "##### Requirements met\n",
    " - Total death counts per year \n",
    " - Split by country and geographical region \n",
    " - Split by sex (additional information)\n",
    " - Split by age (additional information)\n",
    "\n",
    "##### Requirements not met\n",
    " - Long history missing: data for natural disasters starts 1979\n",
    " - Missing split by type of natural disaster\n",
    " \n",
    "It can be seen that the WHO data are more detailed in terms of gender and age categories, but they have no distinction of natural disaster categories and also have a limited history of only 50 years. \n",
    "\n",
    "### EM-DAT data [<sup>2</sup>](#fn2) (Explored and used)\n",
    "\n",
    "> In 1988, the Centre for Research on the Epidemiology of Disasters (CRED) launched the Emergency  Events Database (EM-DAT). EM-DAT was created with the initial support of the World Health Organisation (WHO) and the Belgian Government.\n",
    ">\n",
    ">The main objective of the database is to serve the purposes of humanitarian action at national and international levels. The initiative aims to rationalise decision making for disaster preparedness, as well as provide an objective base for vulnerability assessment and priority setting.\n",
    ">\n",
    ">EM-DAT contains essential core data on the occurrence and effects of over 22,000 mass disasters in the world from 1900 to the present day. The database is compiled from various sources, including UN agencies, non-governmental organisations, insurance companies, research institutes and press agencies.\n",
    ">\n",
    "> -- Source: https://www.emdat.be/\n",
    "\n",
    "##### Requirements met\n",
    " - Total death counts per event \n",
    " - Country, region and continent information per event\n",
    " - Events dated back till 1900\n",
    " - Disaster type per event\n",
    " \n",
    "Since the questions do not require an analysis based on gender or age categories, but the EM-DAT dataset covers a much longer period (since 1900) and also assigns a category to each natural disaster, this dataset is perfectly suited for the task and therefore used for the analysis. The database is event based and covers all events for which at least one of the following criteria is fulfilled [<sup>3</sup>](#fn3): \n",
    "\n",
    " - 10 or more people reported killed\n",
    " - 100 or more people reported affected\n",
    " - Declaration of a state of emergency\n",
    " - Call for international assistance\n",
    "\n",
    "\n",
    "In the following section, a detailed overview of the attributes used in the further analysis will be given. \n",
    "\n",
    "#### Data fields\n",
    "\n",
    " - `Disaster_Group`: Two different types of disasters can be distinguished in the EM-DAT database: natural disasters and technological disasters. Since we are only interested in natural disasters, only they were requested and consequently this field contains only the value *Natural*. No missing values are present for this attribute. \n",
    " - `Disaster_Subgroup`: Every natural disaster is assigned to one of the following six subgroups: *Biological, Geophysical, Climatological, Hydrological, Meteorological and Extra-terrestrial* to describe the type of natural disaster. No missing values are present for this attribute. \n",
    " - `Disaster_type`: For every natural disaster event one main disaster type is identified. If two or more disasters are related because they are consequences of each other, then this information is encoded in the attributes `Associated_Dis` and `Associated_Dis2`. No missing values are present for this attribute. \n",
    " \n",
    " - `Disaster Sub-Type`: Subdivision related to the attribute `Disaster_type` so that a the disaster type Storm can be further classified as tropical, extra-tropical or convective storm. \n",
    " \n",
    " - `Disaster Sub-Sub Type`: Any appropriate sub-division of the disaster sub-type (not applicable for all disaster sub-types).\n",
    " \n",
    "> Types of natural disasters could be further broken down using two more categories which would be available in the database. For example, the Disaster type *Storm* could be further subdivided into *Tropical storm*, *Extra-tropical storm* or *Convective storm*. Even a further subdivision of the category *Convective storm* would be possible. Since the analysis is aimed at detecting trends on a high level, the classification of each event based on the attributes `Disaster_Subgroup` and `Disaster _Type` was considered sufficient and the further subdivisions into `Disaster sub-type` and `Disaster Subsubtype` is only intended to be considered for detailed analysis. The full table is saved in /data/disaster_classification (w/o the technological disaster group) and shown in the Appendix of this notebook.\n",
    "\n",
    " - `Associated_Dis`: Secondary event triggered by a natural disaster (i.e. Landslide for a flood, explosion after an earthquake, ...)\n",
    " - `Associated_Dis2`: Another secondary event triggered by a natural disaster. (i.e. Landslide for a flood, explosion after an earthquake, ...)\n",
    " \n",
    " Example: If a tsunami is triggered by an earthquake, then the attribute `Disaster_Type` would be *Earthquake*, the attribute `Disaster_Subtype` would be *Ground movement* and the attribute `Associated_Dis` would be *Tsunami/Tidal wave*.\n",
    " \n",
    " - `Country`: The country in which the disaster has occurred or had an impact. If a disaster has affected more than one country, a seperate entry is created in the database for each country affected. No missing values are present for this attribute. \n",
    " - `ISO`: Unique 3-letter code for each country defined by ISO 3166. No missing values are present for this attribute. \n",
    " - `Region`: The region to which the country belongs, based on the UN regional division. No missing values are present for this attribute. \n",
    " - `Continent`: The continent to which the country belongs. No missing values are present for this attribute. \n",
    " - `Start_Year`: The year when the disaster occurred. No missing values are present for this attribute.\n",
    " \n",
    " - `End Year`: The year when the disaster ended. No missing values are present for this attribute.\n",
    " \n",
    "> For sudden-impact disasters also the month and the day are well defined and available. For disaster situations developing gradually over a longer time period (i.e. drought) with no specific start date the day attribute is empty. For our questions the exact date plays a subordinate role and therefore the year of the beginning of the disaster is completely sufficient for our analysis.    \n",
    "\n",
    " - `Total_Deaths`: Number of people who lost their life because the event happened plus the number of people whose whereabouts since the disaster are unknown, and presumed dead based on official figures. Missing values present for approx. 25% of all events.\n",
    " \n",
    " - `No_Affected`: Number of people which requiring immediate assistance during an emergency situation. The indicator affected is often reported and is widely used by different actors to convey the extent, impact, or severity of a disaster in non-spatial terms. In case that no values for the attribute `Total_Deaths` are available this attribute could be used as a proxy."
   ]
  },
  {
   "cell_type": "markdown",
   "id": "48fe8fa3",
   "metadata": {},
   "source": [
    "Loading the disaster classification mapping, according to EM-DAT."
   ]
  },
  {
   "cell_type": "code",
   "execution_count": 2,
   "id": "81bd7f4c",
   "metadata": {},
   "outputs": [],
   "source": [
    "disaster_classification: pd.DataFrame = pd.read_csv(\"../data/disaster_classification.csv\")\n",
    "disaster_subgroups = set(disaster_classification.loc[disaster_classification[\"Disaster Sub-Group\"].notna(), \"Disaster Sub-Group\"])"
   ]
  },
  {
   "cell_type": "markdown",
   "id": "540d8b62",
   "metadata": {},
   "source": [
    "#### Load - Transform - Explore - Export\n",
    "\n",
    "The next steps are to load the data, assign a corresponding data type to each column, and give a brief overview of the data. The detailed analysis of the data set happens in the course of the answering of the questions defined above further down in the notebook. Since the data doesn't cover the whole year 2022, those records are exluded from the analysis in order to have only event data of entire years."
   ]
  },
  {
   "cell_type": "code",
   "execution_count": null,
   "id": "89ac01fe",
   "metadata": {},
   "outputs": [],
   "source": [
    "raw_xlsx = pd.read_excel(\"../data/emdat.xlsx\",\n",
    "                         skiprows = 5,\n",
    "                         header = 1,\n",
    "                         usecols = ['Disaster Group',\n",
    "                                    'Disaster Subgroup',\n",
    "                                    'Disaster Type',\n",
    "                                    'Disaster Subtype',\n",
    "                                    'Disaster Subsubtype',\n",
    "                                    'Associated Dis',\n",
    "                                    'Associated Dis2',\n",
    "                                    'Country',\n",
    "                                    'ISO',\n",
    "                                    'Region',\n",
    "                                    'Continent',\n",
    "                                    'Start Year',\n",
    "                                    'End Year',\n",
    "                                    'Total Deaths',\n",
    "                                    'Total Affected'])\n",
    "raw_xlsx.columns = raw_xlsx.columns.str.replace(' ', '_') # replace all spaces in header names\n",
    "raw_xlsx.head()"
   ]
  },
  {
   "cell_type": "code",
   "execution_count": null,
   "id": "ecc8ebb8",
   "metadata": {},
   "outputs": [],
   "source": [
    "df_transformed = pd.DataFrame() \n",
    "df_transformed = raw_xlsx.convert_dtypes() # assign meaningful data types\n",
    "print(df_transformed.dtypes) # check data types\n",
    "df_transformed = df_transformed[(df_transformed['Start_Year'] != 2022)] # filter out data from 2022"
   ]
  },
  {
   "cell_type": "code",
   "execution_count": null,
   "id": "1e05049d",
   "metadata": {},
   "outputs": [],
   "source": [
    "print(df_transformed.shape[0]) # check number of records\n",
    "print(df_transformed['Total_Deaths'].isna().sum() ) # check number of NA values\n",
    "print(df_transformed['Start_Year'].min()) # get first year of records\n",
    "print(df_transformed['Start_Year'].max()) # get last year of records\n",
    "\n",
    "df_transformed['Disaster_Decade'] = df_transformed['Start_Year']//10*10 # assign every year to the correspondig decade\n",
    "print(df_transformed[\"Total_Deaths\"].isnull().groupby(df_transformed.Disaster_Decade).sum().astype(int)) # NA values per decade\n",
    "print(df_transformed[\"Total_Deaths\"].isnull().groupby(df_transformed.Continent).sum().astype(int)) # NA values per continent"
   ]
  },
  {
   "cell_type": "markdown",
   "id": "c64a12a2",
   "metadata": {},
   "source": [
    "#### Missing data\n",
    "\n",
    "As discussed earlier, data is collected from multiple sources and therefore there is always the possibility of missing values. The data set contains a total of 16.132 recorded events starting from 1900 up to 2021. For the attribute `Total Deaths` it can be seen that 4.647 records have a missing value which corresponds to a portion of approximately 29% of missing values. Due to the nature of the available data, interpolation of missing values is not appropriate, as disasters can vary significantly in severity, location, and number of people killed. One way to approximate the missing data in terms of deaths is to use the number of affected. However, it must be taken into account that this number is sometimes considerably different from the number of deaths and always overestimates them. Looking at the distribtuion of missing values per decade one can see that the majority of records is from the 1980s or later. When it comes to geografical location of the records with missing data one can observe that the majority of disasters are linked to Americas and Asia. \n"
   ]
  },
  {
   "cell_type": "markdown",
   "id": "7839fa8d",
   "metadata": {},
   "source": [
    "### Population Data\n",
    "TODO Luka"
   ]
  },
  {
   "cell_type": "markdown",
   "id": "c8e80058",
   "metadata": {},
   "source": [
    "### Temperature Data\n",
    "Loading and transformation by Moritz Renkin (11807211)\n",
    "The temperature data is necessary only for the question regarding Global Warming. We use two different datasets in order to investigate a possible relation between natural disasters and global warming, as outlined below."
   ]
  },
  {
   "cell_type": "markdown",
   "id": "bdfa691e",
   "metadata": {},
   "source": [
    "#### Temperature Delta per Country (Berkeley)\n",
    "Berkeley Earth gathers temperature data from different sources all around the globe. An overview over their methodology and data sources is available [here](https://berkeleyearth.org/data/) and its absolute uncertainty (95% range). The specific dataset for this case study is already aggregated per Country and contains the calculated Warming/Century per Country in degrees Celsius. It is available at: [https://berkeleyearth.lbl.gov/country-list/](https://berkeleyearth.lbl.gov/country-list/).\n",
    "The main reason for choosing Berkeley Earth's dataset is that is thoroughly bias-corrected, in contrast to other common sources such as the World Bank API."
   ]
  },
  {
   "cell_type": "code",
   "execution_count": null,
   "id": "64fcd5a7",
   "metadata": {},
   "outputs": [],
   "source": [
    "country_temp_delta = pd.read_csv(\"../data/country_temp_delta.csv\", index_col=\"Country\")"
   ]
  },
  {
   "cell_type": "markdown",
   "id": "fd84f9b2",
   "metadata": {},
   "source": [
    "The \"Warming since...\" column needs to be split into a warming and uncertainty column."
   ]
  },
  {
   "cell_type": "code",
   "execution_count": null,
   "id": "840d4233",
   "metadata": {},
   "outputs": [],
   "source": [
    "country_temp_delta[[\"Warming/Century\", \"Uncertainty (±)\"]] = country_temp_delta[\"Warming since 1960 (°C / century)\"].str.split(\"±\", expand=True).apply(pd.to_numeric, errors=\"coerce\")\n",
    "country_temp_delta.drop(\"Warming since 1960 (°C / century)\", inplace=True, axis=1)\n",
    "country_temp_delta"
   ]
  },
  {
   "cell_type": "markdown",
   "id": "b1e6d93f",
   "metadata": {},
   "source": [
    "#### Global temperature delta per year (NASA)\n",
    "In order to identify trends and potential relations in the temporal dimension, the yearly global temperature was sourced from NASA. Source: [https://climate.nasa.gov/vital-signs/global-temperature/](https://climate.nasa.gov/vital-signs/global-temperature/). It contains the yearly temperature delta to the long-term average from 1951 to 1980 in degrees Celsius."
   ]
  },
  {
   "cell_type": "code",
   "execution_count": null,
   "id": "bc8d73e5",
   "metadata": {},
   "outputs": [],
   "source": [
    "yearly_global_temp: pd.DataFrame = pd.read_csv(\"../data/nasa_yearly_global_temperature.csv\", index_col=\"Year\", usecols=[\"Year\", \"Temp_No_Smoothing\"]).rename(columns={\"Temp_No_Smoothing\": \"Temperature Delta\"})\n",
    "yearly_global_temp"
   ]
  },
  {
   "cell_type": "markdown",
   "id": "ce3883ec",
   "metadata": {},
   "source": [
    "<sup>1</sup> WHO data: <span id=\"fn1\"> https://platform.who.int/mortality/themes/theme-details/topics/indicator-groups/indicator-group-details/MDB/natural-disasters</span>\n",
    "\n",
    "<sup>2</sup> EM-dat data: <span id=\"fn2\"> https://public.emdat.be/data Based on the terms of use, the data can be used for this exercise:  \n",
    "    \n",
    "> If you are an academic organization, a university, a non-profit research institution and/or an international public organization (UN agencies, multi-lateral banks, other multilateral institution and national governments) and/or part of a Media agency (journalist, press agencies) with the intention to use the EM-DAT database (hereafter ‘EM-DAT’) for research, teaching or information purposes, you shall, conditional upon the acceptance of the present conditions of use, be granted free access to EM-DAT (also ‘Authorized Use’).\n",
    "    \n",
    "<sup>3</sup> EM-dat data: <span id=\"fn3\"> https://www.emdat.be/explanatory-notes"
   ]
  },
  {
   "cell_type": "markdown",
   "id": "5905dad3",
   "metadata": {},
   "source": [
    "# a) How did the number of deaths per year from natural disasters change over the last years? "
   ]
  },
  {
   "cell_type": "code",
   "execution_count": null,
   "id": "f4a33540",
   "metadata": {},
   "outputs": [],
   "source": [
    "df_a = df_transformed\n",
    "df_a = df_a.astype({\"Total_Deaths\": np.float64, \"Total_Affected\": np.float64, \"Start_Year\": np.int32, \"Disaster_Decade\":np.int32})"
   ]
  },
  {
   "cell_type": "code",
   "execution_count": null,
   "id": "6f6db6a5",
   "metadata": {},
   "outputs": [],
   "source": [
    "print(df_a.sum()['Total_Deaths']/(df_a.max()['Start_Year']-df_a.min()['Start_Year']+1))\n",
    "cutoff_date = 1921 \n",
    "df_a_100 = df_a[df_a[\"Start_Year\"] > cutoff_date]\n",
    "print(df_a_100.sum()['Total_Deaths']/(df_a_100.max()['Start_Year']-df_a_100.min()['Start_Year']+1))\n",
    "cutoff_date = 1971 \n",
    "df_a_50 = df_a[df_a[\"Start_Year\"] > cutoff_date]\n",
    "print(df_a_50.sum()['Total_Deaths']/(df_a_50.max()['Start_Year']-df_a_50.min()['Start_Year']+1))"
   ]
  },
  {
   "cell_type": "markdown",
   "id": "d01a6596",
   "metadata": {},
   "source": [
    "Natural disasters killed globally on average 266 thousand people per year over the last 122 years. \n",
    "This average lowers to 202 thousand when only having a look at the last 100 years.\n",
    "There died on average 66 thousand people per year in the last 50 years."
   ]
  },
  {
   "cell_type": "code",
   "execution_count": null,
   "id": "4560fa0e",
   "metadata": {},
   "outputs": [],
   "source": [
    "# calc mean deaths per disaster over the years\n",
    "\n",
    "means = df_a.groupby([\"Start_Year\"]).mean()['Total_Deaths'].round()\n",
    "ax = means.plot(kind = 'line')\n",
    "ax.set_ylabel('Average deaths in Million')\n",
    "ax.set_xlabel ('year of disaster')\n",
    "ax.set_title('Average of deaths per natural disaster over years')"
   ]
  },
  {
   "cell_type": "markdown",
   "id": "41318365",
   "metadata": {},
   "source": [
    "The graphic shows how many people died on average per natural disaster per year. As there is only one event with 1.2 million death in 1921 it leads to that big spike. Therefor we decided to use decades instead of years."
   ]
  },
  {
   "cell_type": "code",
   "execution_count": null,
   "id": "9727363c",
   "metadata": {},
   "outputs": [],
   "source": [
    "# calc mean deaths, per Decade and plot them in a bar plot\n",
    "means = df_a.groupby([\"Disaster_Decade\"]).mean()['Total_Deaths'].round()\n",
    "ax = means.plot(kind = 'bar', figsize = (7,4))\n",
    "ax.set_ylabel('Average deaths')\n",
    "ax.set_xlabel ('Decade of disaster')\n",
    "ax.set_title('Average of deaths per natural disaster over decades')\n",
    "ax.bar_label(ax.containers[0])\n",
    "plt.show()"
   ]
  },
  {
   "cell_type": "markdown",
   "id": "d7e37f8c",
   "metadata": {},
   "source": [
    "When having a look at the average deaths per decade per natural disaster, it can be seen that there was a peek in the 1920th and the number of deaths decreased over the years. However, this does not automatically mean that the number of natural disasters is decreasing. "
   ]
  },
  {
   "cell_type": "code",
   "execution_count": null,
   "id": "246b2a1a",
   "metadata": {},
   "outputs": [],
   "source": [
    "# calc median deaths, per Decade and plot them in a bar plot\n",
    "medians = df_a.groupby([\"Disaster_Decade\"]).median()['Total_Deaths']\n",
    "ax = medians.plot(kind = 'bar', figsize = (6,4))\n",
    "ax.set_ylabel('Median deaths')\n",
    "ax.set_xlabel ('Decade of disaster')\n",
    "ax.set_title('Median of deaths per natural disaster over decades')\n",
    "ax.bar_label(ax.containers[0])\n",
    "plt.show()"
   ]
  },
  {
   "cell_type": "markdown",
   "id": "bbe76996",
   "metadata": {},
   "source": [
    "The median compared to the mean shows that there seem to have been some events in 1920 leading to a really high number of deaths. Still we can see, that the number of deaths have significantly decreased in the last 90 years."
   ]
  },
  {
   "cell_type": "code",
   "execution_count": null,
   "id": "d6534017",
   "metadata": {},
   "outputs": [],
   "source": [
    "# calc count, per Decade and plot them in a bar plot\n",
    "counts = df_a.groupby([\"Disaster_Decade\"]).count()['Total_Deaths']\n",
    "plt.subplot(1, 2,1)\n",
    "ax = counts.plot(kind = 'bar', figsize = (6,4), color =\"green\")\n",
    "ax.set_ylabel('# disasters (with known No. deaths)')\n",
    "ax.set_xlabel ('Decade of disaster')\n",
    "ax.set_title('Number of disasters with/without known number of deaths')\n",
    "#ax.bar_label(ax.containers[0])\n",
    "\n",
    "counts = df_a.groupby([\"Disaster_Decade\"]).count()['Continent'] # continent just used, because then we to not have a look at na values\n",
    "plt.subplot(1, 2, 2)\n",
    "ax = counts.plot(kind = 'bar', figsize = (10,4), color =\"green\")\n",
    "ax.set_ylabel('# disasters (without known No. deaths)')\n",
    "ax.set_xlabel ('Decade of disaster')\n",
    "#ax.bar_label(ax.containers[0])\n",
    "plt.show()\n",
    "\n",
    "print(counts)\n",
    "print(\"Last Start_year of data : \" +str(df_a[\"Start_Year\"].max()))\n",
    "print( \"Hochgerechnete Number of natural disasters 2020-2029: \" + str(1204*3.5))"
   ]
  },
  {
   "cell_type": "markdown",
   "id": "cf9f430e",
   "metadata": {},
   "source": [
    "In the last decade, the number of deaths/disasters is of course much smaller, since the data only contain information up to the year 2021. So -- assuming that the first 2 years of the 1920s are representative of the decade  - this value would have to be multiplied by 5 to get a correct ratio.\n",
    "Additionally it can be seen, that (as the graphics above have shown) the number of deaths per natural disaster decreased in the last century, but the number of natural disasters has definitifly constantly increased. This could either mean, that there are more natural disasters with a lower impact or that e.g. due to better health care or faster help there are just less people dying and the intensity of the disasters did not change that much."
   ]
  },
  {
   "cell_type": "markdown",
   "id": "8c090c1a",
   "metadata": {},
   "source": [
    "To look a bit more into that, we decided to have a look at the number of affected."
   ]
  },
  {
   "cell_type": "code",
   "execution_count": null,
   "id": "5bc535ac",
   "metadata": {},
   "outputs": [],
   "source": [
    "# calc mean affected, per Decade and plot them in a bar plot\n",
    "means_aff = round(df_a.groupby([\"Disaster_Decade\"]).mean()['Total_Affected'].round()/1_000_000,2)\n",
    "#plt.subplot(1, 2,1)\n",
    "ax = means_aff.plot(kind = 'bar', figsize = (6,4), color =\"red\")\n",
    "ax.set_ylabel('Average Affected in million')\n",
    "ax.set_xlabel ('Decade of disaster')\n",
    "ax.set_title('Average of affected per natural disaster over decades')\n",
    "print(means_aff)\n",
    "ax.bar_label(ax.containers[0])\n",
    "plt.show()\n",
    "\n",
    "# calc median deaths, per Decade and plot them in a bar plot\n",
    "medians_aff = round(df_a.groupby([\"Disaster_Decade\"]).median()['Total_Affected']/1_000,2)\n",
    "#plt.subplot(1, 2,2)\n",
    "plt.tight_layout()\n",
    "ax = medians_aff.plot(kind = 'bar', figsize = (6,4), color =\"red\")\n",
    "ax.set_ylabel('Median Affected in thousand')\n",
    "ax.set_xlabel ('Decade of disaster')\n",
    "ax.set_title('Median of affected per natural disaster over decades')\n",
    "ax.bar_label(ax.containers[0])\n",
    "plt.show()\n",
    "\n",
    "print(medians_aff)"
   ]
  },
  {
   "cell_type": "markdown",
   "id": "a4708bd9",
   "metadata": {},
   "source": [
    "The number of affected shows a different picture than the one from the number of deaths. This supports our supposition, that less people die but that there are more and more people affected from natural disasters."
   ]
  },
  {
   "cell_type": "markdown",
   "id": "cf525f12",
   "metadata": {},
   "source": [
    "We take one quick look why the 1920 decade has so many deaths."
   ]
  },
  {
   "cell_type": "code",
   "execution_count": null,
   "id": "585c2a72",
   "metadata": {},
   "outputs": [],
   "source": [
    "data_1920 = df_a.loc[df_a[\"Disaster_Decade\"]==1920]\n",
    "data_1920.nlargest(6,\"Total_Deaths\")\n",
    "#df_a.nlargest(15,\"Total_Deaths\")"
   ]
  },
  {
   "cell_type": "markdown",
   "id": "2f1e6be7",
   "metadata": {},
   "source": [
    "Up until now we have used \"Start_Year\" as the relevant year. Now let's look at how the results change if we distribute the deaths per event equally over all years (from \"Start_Year\" to \"End_Year)"
   ]
  },
  {
   "cell_type": "code",
   "execution_count": null,
   "id": "239b3e35",
   "metadata": {},
   "outputs": [],
   "source": [
    "df_a_deaths = get_yearly_deaths(df_a, include_zero=True).to_frame().reset_index()\n",
    "df_a_deaths = df_a_deaths[(df_a_deaths['Year'] != 2022)] # filter out data from 2022\n",
    "# new column (decade)\n",
    "df_a_deaths['Disaster_Decade'] = df_a_deaths['Year']//10*10 \n",
    "df_a_deaths = df_a_deaths.astype({\"Total_Deaths\": np.float64, \"Year\": np.int32, \"Disaster_Decade\":np.int32})\n",
    "df_a_deaths.sum()['Total_Deaths']/(df_a_deaths.max()['Year']-df_a_deaths.min()['Year']+1)# check, daran verändert sich nichts\n",
    "#df_a_deaths"
   ]
  },
  {
   "cell_type": "code",
   "execution_count": null,
   "id": "0da9dfb2",
   "metadata": {},
   "outputs": [],
   "source": [
    "# calc mean deaths, per year and plot them in a bar plot\n",
    "\n",
    "dth_distr = df_a_deaths.groupby([\"Year\"]).sum()['Total_Deaths'].round()\n",
    "ax = dth_distr.plot(kind = 'line')\n",
    "ax.set_ylabel('Total deaths in Million')\n",
    "ax.set_xlabel ('year of disaster')\n",
    "ax.set_title(' Deaths per year from natural disaster')"
   ]
  },
  {
   "cell_type": "code",
   "execution_count": null,
   "id": "1501a087",
   "metadata": {},
   "outputs": [],
   "source": [
    "# calc deaths per Decade and plot them in a bar plot\n",
    "sum_distr = round(df_a_deaths.groupby([\"Disaster_Decade\"]).sum()['Total_Deaths']/1_000_000,2)\n",
    "ax = sum_distr.plot(kind = 'bar')\n",
    "ax.set_ylabel('Total deaths in million')\n",
    "ax.set_xlabel ('Decade of disaster')\n",
    "ax.set_title('Deaths per decade from natural disaster')\n",
    "ax.bar_label(ax.containers[0])\n",
    "plt.show()"
   ]
  },
  {
   "cell_type": "markdown",
   "id": "1bc7cda1",
   "metadata": {},
   "source": [
    "## Conclusions:\n",
    "The average/median number of deaths per natural disaster over the last century has definitly decreased.\n",
    "The number of deaths per decade has also decreased over the last 122 years. (Always keepining in mind, that the 2020 decade only contains 2 years, not ten as the others.\n",
    "The number of natural disasters itself and also the average/median number of people affected per natural disasters however has increased.\n",
    "\n",
    "Trend Analysis: Have a look, why the number of deaths in the 1920th is so high (5 from the 15 biggest disasters happend in the 1920th)\n",
    "\n",
    "- Drought in China (1928): more political than natural (warlords using grain for themselves, less production due to opium plantation); Reference: https://disasterhistory.org/the-northwest-china-famine-1928-1930\n",
    "\n",
    "- Epidemic in India (1920): Encephalitis lethargica; Reference https://simplifiedupsc.in/epidemics-that-have-hit-india-since-1900/\n",
    "\n",
    "- Drought in Soviet Union (1921): natural and human caused - (Civil War, Russian Revolution: confiscation of stored grain) ; Reference: https://www.norkarussia.info/famine-1921-1924.html\n",
    "\n",
    "- Viral disease (1926): Spanish flu brought back from soldiers; Reference: https://simplifiedupsc.in/epidemics-that-have-hit-india-since-1900/\n",
    "\n",
    "- Drought in China (1920): rainless 12 months - total failure of Harvest; Reference: http://disasterhistory.org/north-china-famine-1920-21\n",
    "\n",
    "Natural disasters in the early 1920s are partly also consequences of the first world war."
   ]
  },
  {
   "cell_type": "markdown",
   "id": "2cdb8d07",
   "metadata": {},
   "source": [
    "# b) How does this vary by country? How does this vary by type of natural disaster?  "
   ]
  },
  {
   "cell_type": "markdown",
   "id": "634359e9",
   "metadata": {},
   "source": [
    "## How does this vary by country?"
   ]
  },
  {
   "cell_type": "markdown",
   "id": "0bc932de",
   "metadata": {},
   "source": [
    "To find answers for this question, we are going to have two types of world map plots! For both of them, we will have separate maps for each decade.\n",
    "\n",
    "### Plot country's average number of deaths through decades\n",
    "\n",
    "For the first type of plot, we are plotting each country's number of deaths through decades. The main idea behind this type of plotting is to see, for which decade most of the countries had on average most deaths by natural disasters. Does the concept of Global Warming relates only to frequencies of disasters or also the amount of deaths?"
   ]
  },
  {
   "cell_type": "code",
   "execution_count": null,
   "id": "a20a25f4",
   "metadata": {
    "scrolled": false
   },
   "outputs": [],
   "source": [
    "df_b = df_transformed.copy()\n",
    "df_b = df_b[df_b[\"Total_Deaths\"].isna() == False]\n",
    "shapefile = '../data/countries_110m/ne_110m_admin_0_countries.shp'\n",
    "gdf = gpd.read_file(shapefile)[['ADMIN', 'ADM0_A3', 'geometry']]\n",
    "gdf.columns = ['country', 'country_code', 'geometry']\n",
    "\n",
    "df_new = get_yearly_deaths(df_b, custom_index=[\"ISO\"], include_zero=True).to_frame()\n",
    "\n",
    "df_grouped = df_new.groupby([(df_new.index.get_level_values(\"Year\")//10)*10+2,\"ISO\"]).sum()\n",
    "df_grouped = df_grouped.loc[df_grouped.index.get_level_values(\"Year\") != 2022]\n",
    "scaler = MinMaxScaler()\n",
    "\n",
    "df_scaled = df_grouped.groupby(level=1, group_keys=False).apply(lambda x : pd.DataFrame(scaler.fit_transform(x), columns=x.columns, index=x.index).round(5))\n",
    "\n",
    "for i in df_scaled.index.get_level_values(\"Year\").unique():\n",
    "    df_yearly = df_scaled.loc[df_grouped.index.get_level_values(\"Year\") == i]\n",
    "    merged = gdf.merge(df_yearly.reset_index(\"ISO\"), left_on = 'country_code', right_on = 'ISO')\n",
    "    plot_world_map(merged,f\"Normalized number of deaths by country for {i} - {i+10} decade\")"
   ]
  },
  {
   "cell_type": "markdown",
   "id": "bef2b44b",
   "metadata": {},
   "source": [
    "This map show us perfectly the increasing trend for total number of deaths for each country. When we look at earlier decades, most of the countries were plain yellow. Of course, for some countries there was a problem for gathering the data at that time, or maybe they didn't even exist. Nevertheless, the reality of increasing number of deaths for each country is real."
   ]
  },
  {
   "cell_type": "markdown",
   "id": "400b019d",
   "metadata": {},
   "source": [
    "### Plot country's normalized number of deaths through decades\n",
    "\n",
    "For the second type of plot, we want to see if there are some countries (or even regions) in the world which are proportionally hit the heaviest by the number of deaths. Naturally, for comparing countries between themselves, we are going to have to normalize the number of deaths by the population of each country! For general research, can we recognize some changes in the world by looking beyond country view, are there also for continents some trends?"
   ]
  },
  {
   "cell_type": "code",
   "execution_count": null,
   "id": "f7c6e96c",
   "metadata": {
    "scrolled": false
   },
   "outputs": [],
   "source": [
    "df_grouped = df_new.groupby([(df_new.index.get_level_values(\"Year\")//10)*10+2,\"ISO\"]).sum()\n",
    "df_grouped = df_grouped.loc[df_grouped.index.get_level_values(\"Year\") >= 1962]\n",
    "df_grouped = df_grouped.loc[df_grouped.index.get_level_values(\"Year\") != 2022]\n",
    "population = pd.read_csv('../data/population.csv',skiprows=4)\n",
    "population = population.drop([\"Unnamed: 66\", \"Indicator Name\", \"Indicator Code\", \"Country Name\"], axis=1)\n",
    "population = population.melt(id_vars=[\"Country Code\"], \n",
    "        var_name=\"Year\", \n",
    "        value_name=\"Population\")\n",
    "population[\"Year\"] = population[\"Year\"].astype(int)\n",
    "population.rename(columns={'Country Code': 'ISO'}, inplace=True)\n",
    "population.set_index([\"Year\", \"ISO\"], inplace=True)\n",
    "\n",
    "df_pop = population.groupby([(population.index.get_level_values(\"Year\")//10)*10+2,\"ISO\"]).mean()\n",
    "df_grouped[\"Total_Deaths\"] = df_grouped[\"Total_Deaths\"]/df_pop[\"Population\"] * 100000000\n",
    "df_grouped[\"Total_Deaths\"] = np.log(df_grouped[\"Total_Deaths\"])\n",
    "df_grouped[\"Total_Deaths\"] = pd.to_numeric(df_grouped[\"Total_Deaths\"], errors ='coerce').fillna(0).astype('float64')\n",
    "df_grouped[\"Total_Deaths\"].replace([np.inf, -np.inf], 0, inplace=True)\n",
    "\n",
    "df_scaled = df_grouped.groupby(level=0, group_keys=False).apply(lambda x : pd.DataFrame(scaler.fit_transform(x), columns=x.columns, index=x.index).round(5))\n",
    "\n",
    "for i in df_scaled.index.get_level_values(\"Year\").unique():\n",
    "    df_yearly = df_scaled.loc[df_scaled.index.get_level_values(\"Year\") == i]\n",
    "    merged = gdf.merge(df_yearly.reset_index(\"ISO\"), left_on = 'country_code', right_on = 'ISO')\n",
    "    plot_world_map(merged,f\"Normalized number of deaths between countries for {i} - {i+10} decade\")"
   ]
  },
  {
   "cell_type": "markdown",
   "id": "a6399064",
   "metadata": {},
   "source": [
    "By looking at these plots, the first thing we notice is how there are less countries with proportionally small number of deaths, and this is definitely alarming. One of the key takeaways will be not only that but also changes based on different geographical position of countries."
   ]
  },
  {
   "cell_type": "markdown",
   "id": "9e7c11ec",
   "metadata": {},
   "source": [
    "## Conclusion\n",
    "\n",
    "These types of plots offer us various ways of interpreting them and can also serve as a good specimen for setting hypothesis for testing. \n",
    "\n",
    "From the first plot we found out that the average number of deaths for each country is slowly increasing, hence, the consequences of GW (Global Warming) span not only increasing number of natural disasters but also total number of deaths. We are stating this because there was at the beginning our assumption, which stated that as the more we looked into the deaths from natural disasters of later years, the less there would be because the world standard is also increasing (new more quality buildings, better healthcare...). We notice that is not the case. From geographical perspective, there is no trend that goes for one specific region. Countries regardless of their position are getting maxed number of deaths, which also implies that GW is not predominately increasing hits for countries close to the equator but also from all parts of the world.\n",
    "\n",
    "From the second plot, we are trying to see which countries suffer the most proportionally. The most important trend which we can notice is how the countries far away from equator change their color over time. For example, take Europe. In the first decades we see that it is mostly \"untouched\" but the furthermore we look we can see it changes colors. Also goes for Russia, South Africa... All the countries from the world are experience proportionally more deaths by each decade and to state even worse, the map is getting similar colors for all countries. This is definitely a fight we are all included in!"
   ]
  },
  {
   "cell_type": "markdown",
   "id": "e055fce9",
   "metadata": {},
   "source": [
    "## How does this vary by type of natural disaster?\n",
    "\n",
    "To answer this question, we are going to look into various types of visualizations. First, let's see which type of disaster is the deadliest. We are going to check this using bar plots."
   ]
  },
  {
   "cell_type": "code",
   "execution_count": null,
   "id": "83a3ff79",
   "metadata": {},
   "outputs": [],
   "source": [
    "groupby_base = df_b.astype({\"Total_Deaths\": np.float64, \"Total_Affected\": np.float64, \"Start_Year\": np.int32})\n",
    "\n",
    "bars = groupby_base[[\"Disaster_Subgroup\", \"Total_Deaths\"]].groupby([\"Disaster_Subgroup\"]).sum()\n",
    "sns.barplot(data=bars.reset_index(), x=\"Disaster_Subgroup\",y=\"Total_Deaths\")"
   ]
  },
  {
   "cell_type": "markdown",
   "id": "6535bfb3",
   "metadata": {},
   "source": [
    "For the second plot we are going to see for each year total number of deaths by disaster."
   ]
  },
  {
   "cell_type": "code",
   "execution_count": null,
   "id": "3701759c",
   "metadata": {},
   "outputs": [],
   "source": [
    "df_new = get_yearly_deaths(df_b, custom_index=[\"Disaster_Subgroup\"], include_zero=True).to_frame() # Deaths can be grouped by year and each of custom_index\n",
    "df_grouped = df_new.groupby([(df_new.index.get_level_values(\"Year\")//10)*10+2,\"Disaster_Subgroup\"]).sum()\n",
    "df_grouped = df_grouped.loc[df_grouped.index.get_level_values(\"Year\") != 2022]\n",
    "df_grouped.unstack(level=1)\n",
    "df_plt = df_grouped.reset_index()\n",
    "df_plt = df_plt.set_index(\"Year\")\n",
    "df_plt = df_plt.pivot_table('Total_Deaths', [\"Year\"], 'Disaster_Subgroup')\n",
    "df_plt.plot(kind=\"bar\", width=0.75)\n",
    "plt.title(\"Total number of deaths from disasters by decade\")\n",
    "plt.ylabel(\"Number of deaths\")"
   ]
  },
  {
   "cell_type": "markdown",
   "id": "fc964ec1",
   "metadata": {},
   "source": [
    "## Conclusion\n",
    "\n",
    "From the first visualization, we can see that the deadliest disaster is Climatological, and the least deadly is Geophysical. This is a bit ironic because if we look at the second plot, we can see that the number of deaths from Climatological disasters was rapidly decreasing for decades while Geophysical stayed on average the same for all years. Without a second plot, this would definitely mislead us in our conclusions. \n",
    "\n",
    "Two of the most common types of Climatological disaster are droughts and wildfires. This information certainly explains why the number of deaths have been decreasing over the years. It certainly is connected to better water supply for all household over the world's and better wildfire localization. Biological is also in decline (pandemics and diseases), and it can be also explained by overall better healthcare worldwide. Hydrological is very oscillating, which can infer that there were very deadly floods back in the time. The good news is that it is also in decline. Meteorological (cyclones and storms) is in a little incline. Alongside Geophysical disaster (earthquakes, landslides and volcanic activity), Meteorological disaster represent the main type of disaster problem these days. The fact that Geophysical's number of deaths is very constant, says that humankind is still struggling to find solution on how to deal with this type of disaster. If we can find common ground between these two disasters, it would for sure be very poor type of constructions where the people live."
   ]
  },
  {
   "cell_type": "markdown",
   "id": "439d2eb8",
   "metadata": {},
   "source": [
    "# c) Are there trends visible that could be due to Global Warming?\n",
    "Responsible: Moritz Renkin (11807211)"
   ]
  },
  {
   "cell_type": "markdown",
   "id": "4e737302",
   "metadata": {},
   "source": [
    "Dumping all data before 1950 as it is not relevant to Global Warming."
   ]
  },
  {
   "cell_type": "code",
   "execution_count": null,
   "id": "4ec51d02",
   "metadata": {},
   "outputs": [],
   "source": [
    "cutoff_year = 1950 # TODO check\n",
    "df_climate = df_transformed[df_transformed[\"Start_Year\"] >= cutoff_year]\n",
    "min_year = df_climate[\"Start_Year\"].min()\n",
    "max_year = df_climate[\"Start_Year\"].max()\n",
    "\n",
    "yearly_global_temp = yearly_global_temp[yearly_global_temp.index >= cutoff_year]"
   ]
  },
  {
   "cell_type": "markdown",
   "id": "61868d83",
   "metadata": {},
   "source": [
    "Dumping extra-terrestrial and geophysical disasters can be assumed to be indifferent to Global Warming"
   ]
  },
  {
   "cell_type": "code",
   "execution_count": null,
   "id": "0624a032",
   "metadata": {},
   "outputs": [],
   "source": [
    "df_climate = df_climate[(df_climate[\"Disaster_Subgroup\"] != \"Extra-terrestrial\") & (df_climate[\"Disaster_Subgroup\"] != \"Geophysical\")]\n",
    "yearly_disaster_deaths = get_yearly_deaths(df_climate, include_zero=True) # remove"
   ]
  },
  {
   "cell_type": "markdown",
   "id": "0e0f677f",
   "metadata": {},
   "source": [
    "## Regarding Groupby and Pandas Datatypes\n",
    "\n",
    "Pandas usually uses numpy datatypes. However, **numpy integer arrays do not allow for null values (np.nan)**. That's why pandas introduces their own Integer array, which can inlcude null values (pd.NA). However, for groupby operations these pd.NA values can cause problems, so it is advisable to convert back to a numpy float array (which does allow for np.nan) before applying the groupby."
   ]
  },
  {
   "cell_type": "code",
   "execution_count": null,
   "id": "219bf76b",
   "metadata": {},
   "outputs": [],
   "source": [
    "groupby_base = df_climate.astype({\"Total_Deaths\": np.float64, \"Total_Affected\": np.float64, \"Start_Year\": np.int32, \"Disaster_Decade\": np.int32})\n",
    "groupby_base = groupby_base[groupby_base[\"Disaster_Decade\"] < 2020]\n",
    "groupby_base[[\"Disaster_Subgroup\", \"Total_Deaths\"]].groupby([\"Disaster_Subgroup\"]).mean()"
   ]
  },
  {
   "cell_type": "markdown",
   "id": "863866f9",
   "metadata": {},
   "source": [
    "## Data Exploration"
   ]
  },
  {
   "cell_type": "code",
   "execution_count": null,
   "id": "c592ef5c",
   "metadata": {},
   "outputs": [],
   "source": [
    "year_range = range(min_year, max_year)\n",
    "\n",
    "def fill_missing_year():\n",
    "    set(groupby_base.groupby(\"Start_Year\").size().rename(\"No_Disasters\").index).difference(year_range)\n",
    "    # TODO"
   ]
  },
  {
   "cell_type": "code",
   "execution_count": null,
   "id": "45e06bf0",
   "metadata": {},
   "outputs": [],
   "source": [
    "total_disaster_per_year = get_yearly_disaster_count(groupby_base, include_zero=True)\n",
    "\n",
    "fig, ax_dis = plt.subplots()\n",
    "\n",
    "plot_dis = ax_dis.plot(total_disaster_per_year.index, total_disaster_per_year, label=\"Number of disasters\")\n",
    "ax_dis.set_ylabel(\"Number of Disasters\")\n",
    "ax_dis.set_xlabel(\"Year\")\n",
    "ax_temp = ax_dis.twinx()\n",
    "\n",
    "plot_temp = ax_temp.plot(yearly_global_temp.index, yearly_global_temp[\"Temperature Delta\"], color=\"r\", label=\"Temperature Delta to long-term average\")\n",
    "ax_temp.set_ylabel(\"Degrees (C)\")\n",
    "\n",
    "plots = plot_dis + plot_temp\n",
    "plt.legend(plots, [plot.get_label() for plot in plots])\n",
    "plt.title(\"Number of Disasters and Temperature per Year (Global)\")\n",
    "\n",
    "plt.show()\n",
    "print(f\"Correlation Coefficient: {total_disaster_per_year.corr(yearly_global_temp['Temperature Delta'])}\")"
   ]
  },
  {
   "cell_type": "markdown",
   "id": "40b9edfd",
   "metadata": {},
   "source": [
    "The plot above shows that there has been an overall increase in the number of yearly disaster occurrences in the considered time frame.\n",
    "At the same time, there is a trend of increasing global temperature.\n",
    "The correlation between the two values over the considered time frame is quite high, but this correlation does not prove a causal influence.\n",
    "We will be looking exploring general trends in the different disaster subgroups/types before trying to relate them to Global Warming."
   ]
  },
  {
   "cell_type": "code",
   "execution_count": null,
   "id": "96e665b9",
   "metadata": {},
   "outputs": [],
   "source": [
    "sns.lineplot(data=get_yearly_disaster_count(groupby_base, index_cols=[\"Start_Year\",\"Disaster_Subgroup\"]).reset_index(),\n",
    "             x=\"Start_Year\",\n",
    "             y=\"No_Disasters\",\n",
    "             hue=\"Disaster_Subgroup\")\n",
    "plt.ylabel(\"Number of disasters\")\n",
    "plt.xlabel(\"Year\")\n",
    "plt.title(\"\") # TODO\n",
    "plt.show()"
   ]
  },
  {
   "cell_type": "code",
   "execution_count": null,
   "id": "3304d7d2",
   "metadata": {},
   "outputs": [],
   "source": [
    "sns.lineplot(data=get_yearly_disaster_count(groupby_base, index_cols=[\"Start_Year\",\"Disaster_Type\"]).reset_index(),\n",
    "             x=\"Start_Year\",\n",
    "             y=\"No_Disasters\",\n",
    "             hue=\"Disaster_Type\")"
   ]
  },
  {
   "cell_type": "markdown",
   "id": "1cb2482b",
   "metadata": {},
   "source": [
    "### Global trends related to rising temperature"
   ]
  },
  {
   "cell_type": "code",
   "execution_count": null,
   "id": "53a4077c",
   "metadata": {},
   "outputs": [],
   "source": [
    "yearly_temp_disasters = pd.concat((yearly_global_temp, get_yearly_disaster_count(groupby_base)), axis=\"columns\")#.rename_axis(\"Year\")\n",
    "yearly_temp_disasters[\"Disaster_Decade\"] = yearly_temp_disasters.index//10*10\n",
    "sns.lmplot(data=yearly_temp_disasters,\n",
    "           x=\"Temperature Delta\",\n",
    "           y=\"No_Disasters\")\n",
    "plt.xlabel(\"Temperature Delta\")\n",
    "plt.ylabel(\"Number of Disasters\")\n",
    "plt.title(\"Relationship between yearly temperature delta and number of disasters\")\n",
    "plt.show()\n",
    "print(f\"Correlation coefficient: {yearly_temp_disasters['Temperature Delta'].corr(yearly_temp_disasters['No_Disasters'])}\")"
   ]
  },
  {
   "cell_type": "markdown",
   "id": "be40c258",
   "metadata": {},
   "source": [
    "In the graph above, a linear regression is depicted to show the supposed impact of rising temperatures on the number of natural disaster occurrences. Specially, the linear regression is performed on the global temperature delta of a given year to long-term average (x-axis) and the Number of natural disasters in that year (y-axis)."
   ]
  },
  {
   "cell_type": "code",
   "execution_count": null,
   "id": "e84decdc",
   "metadata": {},
   "outputs": [],
   "source": [
    "yearly_disaster_temp_by_subgroup: pd.DataFrame = get_yearly_disaster_count(groupby_base, index_cols=[\"Start_Year\",\"Disaster_Type\"]).to_frame()\n",
    "yearly_disaster_temp_by_subgroup[\"Temperature Delta\"] = 0\n",
    "yearly_disaster_temp_by_subgroup[\"Temperature Delta\"] = yearly_disaster_temp_by_subgroup[\"Temperature Delta\"].add(yearly_temp_disasters[\"Temperature Delta\"].rename_axis(index=\"Start_Year\"))#.groupby(\"Disaster_Decade\")[\"Temperature Delta\"].mean().drop(2020))\n",
    "yearly_disaster_temp_by_subgroup.reset_index(inplace=True)\n",
    "\n",
    "sns.lmplot(data=yearly_disaster_temp_by_subgroup,\n",
    "           x=\"Temperature Delta\",\n",
    "           y=\"No_Disasters\",\n",
    "           hue=\"Disaster_Type\")\n",
    "plt.title(\"Linear regression with temperature delta and disaster occurrences, per disaster type\")\n",
    "plt.ylabel(\"Number of disasters\")"
   ]
  },
  {
   "cell_type": "markdown",
   "id": "d91cb0ea",
   "metadata": {},
   "source": [
    "Similar to the previous graph, this one tries to show the relationship between increasing temperature and the number of disaster occurrences. For this graphic, though, the regression is performed for each disaster type independently. It has to be noted that the natural disaster occurrences here are in **absolute** numbers, not relative to a long-term average or similar.\n",
    "Disaster type \"Flood\" and \"Storm\" have the steepest slope which corresponds to their linear regression coefficients. Note that this does not mean that they also are the most strongly correlated to temperature. We will investigate the correlation per disaster type next."
   ]
  },
  {
   "cell_type": "code",
   "execution_count": null,
   "id": "8987f5a2",
   "metadata": {},
   "outputs": [],
   "source": [
    "subgroup_correlations = yearly_disaster_temp_by_subgroup.groupby(\"Disaster_Type\", as_index=True, group_keys=True).apply(lambda dis_type: dis_type[\"No_Disasters\"].corr(dis_type[\"Temperature Delta\"])).rename(\"Correlation\").sort_values(ascending=True)\n",
    "subgroup_correlations.plot.barh()\n",
    "plt.xlabel(\"Correlation coefficient\")\n",
    "plt.title(\"Correlation between yearly number of disasters and temperature delta, per disaster type\")\n",
    "plt.show()"
   ]
  },
  {
   "cell_type": "markdown",
   "id": "29d58158",
   "metadata": {},
   "source": [
    "Similar to our linear regression models from before, flood and storm occurrences show the highest correlation to the yearly temperature, with both disaster types having a correlation coefficient higher than 0.8.\n",
    "\n",
    "As noted before, **no causal influence can be assumed due to a strong correlation alone**. We are merely looking at trends here."
   ]
  },
  {
   "cell_type": "markdown",
   "id": "a2d292ba",
   "metadata": {},
   "source": [
    "### Country-specific trends due to temperature increase\n",
    "In this section, we try to investigate a potential trend of specific countries and their respective frequency of disaster occurrences. The hypothesis is that Countries which experienced a relatively strong warming also have a stronger trend of more frequent natural disaster occurrences.\n",
    "We calculate the linear regression coefficient for Year (X) and number disaster occurrences (y) as a measure of this trend. The result of this calculation is saved in the \"Disaster Occurrence Trend\" column shown below. The values of this column can be interpreted as an estimator for absolute yearly increase in disaster occurrences."
   ]
  },
  {
   "cell_type": "code",
   "execution_count": null,
   "id": "cf8203d6",
   "metadata": {},
   "outputs": [],
   "source": [
    "yearly_country_disasters = get_yearly_disaster_count(groupby_base, index_cols=[\"Start_Year\", \"Country\"], include_zero=True)\n",
    "disaster_occurrence_trend = yearly_country_disasters.groupby(level=\"Country\", sort=False).apply(lambda country: linregress(country, country.index.get_level_values(\"Start_Year\")).slope).rename(\"Disaster Occurrence Trend\")\n",
    "\n",
    "\n",
    "yearly_country_deaths = get_yearly_deaths(df_climate, custom_index=[\"Country\"], include_zero=True)\n",
    "disaster_death_trend = yearly_country_deaths.groupby(level=\"Country\").apply(lambda country: linregress(country.index.get_level_values(\"Year\"), country).slope).rename(\"Disaster Deaths Trend\")\n",
    "\n",
    "countries_complete = pd.concat((country_temp_delta, disaster_occurrence_trend, disaster_death_trend), axis=\"columns\", join=\"inner\")\n",
    "countries_complete"
   ]
  },
  {
   "cell_type": "code",
   "execution_count": null,
   "id": "ef687774",
   "metadata": {},
   "outputs": [],
   "source": [
    "sns.lmplot(data=countries_complete,\n",
    "           x=\"Warming/Century\",\n",
    "           y=\"Disaster Occurrence Trend\")\n",
    "plt.title(\"Regression for Warming and Disaster Occurrence Trend\")\n",
    "plt.show()\n",
    "print(f\"Correlation coefficient: {countries_complete['Warming/Century'].corr(countries_complete['Disaster Occurrence Trend'])}\")"
   ]
  },
  {
   "cell_type": "markdown",
   "id": "022f57d1",
   "metadata": {},
   "source": [
    "It is pretty obvious that from the scatter plot and regression above that with our chosen method, no influence of a countries warming and disaster occurrence trend can be shown. The correlation coefficient of these two measures is low with ~0.15. Our initial hypothesis is not supported by the data."
   ]
  },
  {
   "cell_type": "markdown",
   "id": "2c1a46d6",
   "metadata": {},
   "source": [
    "## Conclusion\n",
    "\n",
    "As already discussed when answering the previous two questions, several trends with respect to disaster occurrences are identifiable in the dataset. In this section we delved deeper into trends within the different disaster subgroups and (sub-)types as well as their potential relationship to global warming.\n",
    "\n",
    "It was shown that yearly flood and storm occurrences correlate most strongly with the global temperature, whereas occurrences of animal accidents, insect infestation and fog have only a slight positive or in the latter case even a negative correlation. For each of these disaster subtypes, a linear regression model was devised, with the results suggesting a relationship between global temperatures and disaster occurrences. However, a causal link between disaster occurrences and global temperature could not be conclusively demonstrated, since the results could be due to the hardly eliminable survivorship bias in the disaster dataset.\n",
    "\n",
    "Additionally, the relation between total disaster occurrences and temperature was investigated per country. A separate comprehensive dataset was acquired and transformed but no the result no relationship could be demonstrated, as visibly clear in the last scatter/regression figure.\n",
    "\n",
    "Although a causal connection between global warming has been shown to causally influence natural disaster occurrences in academic climate research, our research project could only hint at this relationship. We conclude that our research question and the underlying climatological processes are, in hindsight, too complex achieve any conclusively answers within our limited project scope."
   ]
  },
  {
   "cell_type": "markdown",
   "id": "1eaffd99",
   "metadata": {},
   "source": [
    "# Appendix\n",
    "## Disaster Classification according to EM-DAT\n",
    "\n",
    "Sourced from https://public.emdat.be/about.\n",
    "\n",
    "<table style=\"border: 1px solid lightgray;float:left;\">\n",
    "    <tbody>\n",
    "        <tr>\n",
    "            <td>\n",
    "                <p><strong>Disaster </strong></p>\n",
    "                <p><strong>Group</strong></p>\n",
    "            </td>\n",
    "            <td>\n",
    "                <p><strong>Disaster </strong></p>\n",
    "                <p><strong>Sub-Group</strong></p>\n",
    "            </td>\n",
    "            <td>\n",
    "                <p><strong>Disaster </strong></p>\n",
    "                <p><strong>Type</strong></p>\n",
    "            </td>\n",
    "            <td>\n",
    "                <p><strong>Disaster </strong></p>\n",
    "                <p><strong>Sub-Type</strong></p>\n",
    "            </td>\n",
    "            <td>\n",
    "                <p><strong>Disaster </strong></p>\n",
    "                <p><strong>Sub-Sub Type</strong></p>\n",
    "            </td>\n",
    "        </tr>\n",
    "        <tr>\n",
    "            <td>\n",
    "                <p><strong>Natural</strong></p>\n",
    "            </td>\n",
    "            <td>\n",
    "                <p>Geophysical</p>\n",
    "            </td>\n",
    "            <td>\n",
    "                <p>Earthquake</p>\n",
    "            </td>\n",
    "            <td>\n",
    "                <p>Ground movement</p>\n",
    "            </td>\n",
    "            <td></td>\n",
    "        </tr>\n",
    "        <tr>\n",
    "            <td></td>\n",
    "            <td></td>\n",
    "            <td></td>\n",
    "            <td>\n",
    "                <p>Tsunami</p>\n",
    "            </td>\n",
    "            <td></td>\n",
    "        </tr>\n",
    "        <tr>\n",
    "            <td></td>\n",
    "            <td></td>\n",
    "            <td>\n",
    "                <p>Volcanic activity</p>\n",
    "            </td>\n",
    "            <td>\n",
    "                <p>Ash fall</p>\n",
    "            </td>\n",
    "            <td></td>\n",
    "        </tr>\n",
    "        <tr>\n",
    "            <td></td>\n",
    "            <td></td>\n",
    "            <td></td>\n",
    "            <td>\n",
    "                <p>Lahar</p>\n",
    "            </td>\n",
    "            <td></td>\n",
    "        </tr>\n",
    "        <tr>\n",
    "            <td></td>\n",
    "            <td></td>\n",
    "            <td></td>\n",
    "            <td>\n",
    "                <p>Pyroclastic flow</p>\n",
    "            </td>\n",
    "            <td></td>\n",
    "        </tr>\n",
    "        <tr>\n",
    "            <td></td>\n",
    "            <td></td>\n",
    "            <td></td>\n",
    "            <td>\n",
    "                <p>Lava flow</p>\n",
    "            </td>\n",
    "            <td></td>\n",
    "        </tr>\n",
    "        <tr>\n",
    "            <td></td>\n",
    "            <td></td>\n",
    "            <td>\n",
    "                <p>Mass Movement</p>\n",
    "            </td>\n",
    "            <td></td>\n",
    "            <td></td>\n",
    "        </tr>\n",
    "        <tr>\n",
    "            <td></td>\n",
    "            <td>\n",
    "                <p>Meteorological</p>\n",
    "            </td>\n",
    "            <td>\n",
    "                <p>Storm</p>\n",
    "            </td>\n",
    "            <td>\n",
    "                <p>Tropical storm</p>\n",
    "            </td>\n",
    "            <td></td>\n",
    "        </tr>\n",
    "        <tr>\n",
    "            <td></td>\n",
    "            <td></td>\n",
    "            <td></td>\n",
    "            <td>\n",
    "                <p>Extra-tropical storm</p>\n",
    "            </td>\n",
    "            <td></td>\n",
    "        </tr>\n",
    "        <tr>\n",
    "            <td></td>\n",
    "            <td></td>\n",
    "            <td></td>\n",
    "            <td>\n",
    "                <p>Convective storm</p>\n",
    "            </td>\n",
    "            <td>\n",
    "                <p>Derecho</p>\n",
    "            </td>\n",
    "        </tr>\n",
    "        <tr>\n",
    "            <td></td>\n",
    "            <td></td>\n",
    "            <td></td>\n",
    "            <td></td>\n",
    "            <td>\n",
    "                <p>Hail</p>\n",
    "            </td>\n",
    "        </tr>\n",
    "        <tr>\n",
    "            <td></td>\n",
    "            <td></td>\n",
    "            <td></td>\n",
    "            <td></td>\n",
    "            <td>\n",
    "                <p>Lightning/thunderstorm</p>\n",
    "            </td>\n",
    "        </tr>\n",
    "        <tr>\n",
    "            <td></td>\n",
    "            <td></td>\n",
    "            <td></td>\n",
    "            <td></td>\n",
    "            <td>\n",
    "                <p>Rain</p>\n",
    "            </td>\n",
    "        </tr>\n",
    "        <tr>\n",
    "            <td></td>\n",
    "            <td></td>\n",
    "            <td></td>\n",
    "            <td></td>\n",
    "            <td>\n",
    "                <p>Tornado</p>\n",
    "            </td>\n",
    "        </tr>\n",
    "        <tr>\n",
    "            <td></td>\n",
    "            <td></td>\n",
    "            <td></td>\n",
    "            <td></td>\n",
    "            <td>\n",
    "                <p>Sand/dust storm</p>\n",
    "            </td>\n",
    "        </tr>\n",
    "        <tr>\n",
    "            <td></td>\n",
    "            <td></td>\n",
    "            <td></td>\n",
    "            <td></td>\n",
    "            <td>\n",
    "                <p>Winter storm/blizzard</p>\n",
    "            </td>\n",
    "        </tr>\n",
    "        <tr>\n",
    "            <td></td>\n",
    "            <td></td>\n",
    "            <td></td>\n",
    "            <td></td>\n",
    "            <td>\n",
    "                <p>Storm/surge</p>\n",
    "            </td>\n",
    "        </tr>\n",
    "        <tr>\n",
    "            <td></td>\n",
    "            <td></td>\n",
    "            <td></td>\n",
    "            <td></td>\n",
    "            <td>\n",
    "                <p>Wind</p>\n",
    "            </td>\n",
    "        </tr>\n",
    "        <tr>\n",
    "            <td></td>\n",
    "            <td></td>\n",
    "            <td></td>\n",
    "            <td></td>\n",
    "            <td>\n",
    "                <p>Severe Storm</p>\n",
    "            </td>\n",
    "        </tr>\n",
    "        <tr>\n",
    "            <td></td>\n",
    "            <td></td>\n",
    "            <td>\n",
    "                <p>Extreme Temperature</p>\n",
    "            </td>\n",
    "            <td>\n",
    "                <p>Cold wave</p>\n",
    "            </td>\n",
    "            <td></td>\n",
    "        </tr>\n",
    "        <tr>\n",
    "            <td></td>\n",
    "            <td></td>\n",
    "            <td></td>\n",
    "            <td>\n",
    "                <p>Heat Wave</p>\n",
    "            </td>\n",
    "            <td></td>\n",
    "        </tr>\n",
    "        <tr>\n",
    "            <td></td>\n",
    "            <td></td>\n",
    "            <td></td>\n",
    "            <td>\n",
    "                <p>Severe winter conditions</p>\n",
    "            </td>\n",
    "            <td>\n",
    "                <p>Snow/ice</p>\n",
    "            </td>\n",
    "        </tr>\n",
    "        <tr>\n",
    "            <td></td>\n",
    "            <td></td>\n",
    "            <td></td>\n",
    "            <td></td>\n",
    "            <td>\n",
    "                <p>Frost/freeze</p>\n",
    "            </td>\n",
    "        </tr>\n",
    "        <tr>\n",
    "            <td></td>\n",
    "            <td></td>\n",
    "            <td>\n",
    "                <p>Fog</p>\n",
    "            </td>\n",
    "            <td></td>\n",
    "            <td></td>\n",
    "        </tr>\n",
    "        <tr>\n",
    "            <td></td>\n",
    "            <td>\n",
    "                <p>Hydrological</p>\n",
    "            </td>\n",
    "            <td>\n",
    "                <p>Flood</p>\n",
    "            </td>\n",
    "            <td>\n",
    "                <p>Coastal flood</p>\n",
    "            </td>\n",
    "            <td></td>\n",
    "        </tr>\n",
    "        <tr>\n",
    "            <td></td>\n",
    "            <td></td>\n",
    "            <td></td>\n",
    "            <td>\n",
    "                <p>Riverine flood</p>\n",
    "            </td>\n",
    "            <td></td>\n",
    "        </tr>\n",
    "        <tr>\n",
    "            <td></td>\n",
    "            <td></td>\n",
    "            <td></td>\n",
    "            <td>\n",
    "                <p>Flash flood</p>\n",
    "            </td>\n",
    "            <td></td>\n",
    "        </tr>\n",
    "        <tr>\n",
    "            <td></td>\n",
    "            <td></td>\n",
    "            <td></td>\n",
    "            <td>\n",
    "                <p>Ice jam flood</p>\n",
    "            </td>\n",
    "            <td></td>\n",
    "        </tr>\n",
    "        <tr>\n",
    "            <td></td>\n",
    "            <td></td>\n",
    "            <td>\n",
    "                <p>Landslide</p>\n",
    "            </td>\n",
    "            <td>\n",
    "                <p>Avalanche (snow, debris, mudflow, rock fall)</p>\n",
    "            </td>\n",
    "            <td></td>\n",
    "        </tr>\n",
    "        <tr>\n",
    "            <td></td>\n",
    "            <td></td>\n",
    "            <td>\n",
    "                <p>Wave action</p>\n",
    "            </td>\n",
    "            <td>\n",
    "                <p>Rogue wave</p>\n",
    "            </td>\n",
    "            <td></td>\n",
    "        </tr>\n",
    "        <tr>\n",
    "            <td></td>\n",
    "            <td></td>\n",
    "            <td></td>\n",
    "            <td>\n",
    "                <p>Seiche</p>\n",
    "            </td>\n",
    "            <td></td>\n",
    "        </tr>\n",
    "        <tr>\n",
    "            <td></td>\n",
    "            <td>\n",
    "                <p>Climatological</p>\n",
    "            </td>\n",
    "            <td>\n",
    "                <p>Drought</p>\n",
    "            </td>\n",
    "            <td>\n",
    "                <p>Drought</p>\n",
    "            </td>\n",
    "            <td></td>\n",
    "        </tr>\n",
    "        <tr>\n",
    "            <td></td>\n",
    "            <td></td>\n",
    "            <td>\n",
    "                <p>Glacial Lake outburst</p>\n",
    "            </td>\n",
    "            <td></td>\n",
    "            <td></td>\n",
    "        </tr>\n",
    "        <tr>\n",
    "            <td></td>\n",
    "            <td></td>\n",
    "            <td>\n",
    "                <p>Wildfire</p>\n",
    "            </td>\n",
    "            <td>\n",
    "                <p>Forest fires</p>\n",
    "            </td>\n",
    "            <td></td>\n",
    "        </tr>\n",
    "        <tr>\n",
    "            <td></td>\n",
    "            <td></td>\n",
    "            <td></td>\n",
    "            <td>\n",
    "                <p>Land fire: Brush, bush, pasture</p>\n",
    "            </td>\n",
    "            <td></td>\n",
    "        </tr>\n",
    "        <tr>\n",
    "            <td></td>\n",
    "            <td>\n",
    "                <p>Biological</p>\n",
    "            </td>\n",
    "            <td>\n",
    "                <p>Epidemic</p>\n",
    "            </td>\n",
    "            <td>\n",
    "                <p>Viral diseases</p>\n",
    "            </td>\n",
    "            <td></td>\n",
    "        </tr>\n",
    "        <tr>\n",
    "            <td></td>\n",
    "            <td></td>\n",
    "            <td></td>\n",
    "            <td>\n",
    "                <p>Bacterial diseases</p>\n",
    "            </td>\n",
    "            <td></td>\n",
    "        </tr>\n",
    "        <tr>\n",
    "            <td></td>\n",
    "            <td></td>\n",
    "            <td></td>\n",
    "            <td>\n",
    "                <p>Parasitic diseases</p>\n",
    "            </td>\n",
    "            <td></td>\n",
    "        </tr>\n",
    "        <tr>\n",
    "            <td></td>\n",
    "            <td></td>\n",
    "            <td></td>\n",
    "            <td>\n",
    "                <p>Fungal diseases</p>\n",
    "            </td>\n",
    "            <td></td>\n",
    "        </tr>\n",
    "        <tr>\n",
    "            <td></td>\n",
    "            <td></td>\n",
    "            <td></td>\n",
    "            <td>\n",
    "                <p>Prion diseases</p>\n",
    "            </td>\n",
    "            <td></td>\n",
    "        </tr>\n",
    "        <tr>\n",
    "            <td></td>\n",
    "            <td></td>\n",
    "            <td>\n",
    "                <p>Insect Infestation</p>\n",
    "            </td>\n",
    "            <td>\n",
    "                <p>Locust</p>\n",
    "                <p>Grasshopper</p>\n",
    "            </td>\n",
    "            <td></td>\n",
    "        </tr>\n",
    "        <tr>\n",
    "            <td></td>\n",
    "            <td></td>\n",
    "            <td>\n",
    "                <p>Animal accident</p>\n",
    "            </td>\n",
    "            <td></td>\n",
    "            <td></td>\n",
    "        </tr>\n",
    "        <tr>\n",
    "            <td></td>\n",
    "            <td>\n",
    "                <p>Extra-terrestrial</p>\n",
    "            </td>\n",
    "            <td>\n",
    "                <p>Impact</p>\n",
    "            </td>\n",
    "            <td>\n",
    "                <p>Airburst</p>\n",
    "            </td>\n",
    "            <td></td>\n",
    "        </tr>\n",
    "        <tr>\n",
    "            <td></td>\n",
    "            <td></td>\n",
    "            <td>\n",
    "                <p>Space weather</p>\n",
    "            </td>\n",
    "            <td>\n",
    "                <p>Energic particles</p>\n",
    "            </td>\n",
    "            <td></td>\n",
    "        </tr>\n",
    "        <tr>\n",
    "            <td></td>\n",
    "            <td></td>\n",
    "            <td></td>\n",
    "            <td>\n",
    "                <p>Geomagnetic storm</p>\n",
    "            </td>\n",
    "            <td></td>\n",
    "        </tr>\n",
    "        <tr>\n",
    "            <td></td>\n",
    "            <td></td>\n",
    "            <td></td>\n",
    "            <td>\n",
    "                <p>Shockwave</p>\n",
    "            </td>\n",
    "            <td></td>\n",
    "        </tr>\n",
    "    </tbody>\n",
    "</table>"
   ]
  }
 ],
 "metadata": {
  "kernelspec": {
   "display_name": "Python 3 (ipykernel)",
   "language": "python",
   "name": "python3"
  },
  "language_info": {
   "codemirror_mode": {
    "name": "ipython",
    "version": 3
   },
   "file_extension": ".py",
   "mimetype": "text/x-python",
   "name": "python",
   "nbconvert_exporter": "python",
   "pygments_lexer": "ipython3",
   "version": "3.10.0"
  },
  "toc": {
   "base_numbering": 1,
   "nav_menu": {
    "height": "587.8px",
    "width": "707.8px"
   },
   "number_sections": true,
   "sideBar": true,
   "skip_h1_title": false,
   "title_cell": "Table of Contents",
   "title_sidebar": "Contents",
   "toc_cell": false,
   "toc_position": {},
   "toc_section_display": true,
   "toc_window_display": false
  }
 },
 "nbformat": 4,
 "nbformat_minor": 5
}
