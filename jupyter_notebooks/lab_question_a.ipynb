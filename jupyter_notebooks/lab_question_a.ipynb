{
 "cells": [
  {
   "cell_type": "markdown",
   "id": "9d6edd0a",
   "metadata": {},
   "source": [
    "# Lab for answering question A\n",
    "Responsible: Birgit"
   ]
  },
  {
   "cell_type": "code",
   "execution_count": 1,
   "id": "0c6de70c",
   "metadata": {},
   "outputs": [],
   "source": [
    "import numpy as np\n",
    "import pandas as pd\n",
    "import pickle\n",
    "%run -i utility_functions.py # importing the function from utility_functions.py"
   ]
  },
  {
   "cell_type": "code",
   "execution_count": 2,
   "id": "60b10c86",
   "metadata": {},
   "outputs": [],
   "source": [
    "transformed_df_a_serial_path = \"../data/data_transformed.pickle\"\n",
    "\n",
    "with open(transformed_df_a_serial_path, \"rb\") as file:\n",
    "    df_a: pd.DataFrame = pickle.load(file)\n",
    "\n",
    "assert isinstance(df_a, pd.DataFrame),f\"The serialized object in {transformed_df_a_serial_path} is not a pandas dataframe!\"\n",
    "assert len(df_a)!=0, \"The serialized dataframe contains no data!\""
   ]
  },
  {
   "cell_type": "code",
   "execution_count": 3,
   "id": "59570df7",
   "metadata": {},
   "outputs": [
    {
     "data": {
      "text/html": [
       "<div>\n",
       "<style scoped>\n",
       "    .dataframe tbody tr th:only-of-type {\n",
       "        vertical-align: middle;\n",
       "    }\n",
       "\n",
       "    .dataframe tbody tr th {\n",
       "        vertical-align: top;\n",
       "    }\n",
       "\n",
       "    .dataframe thead th {\n",
       "        text-align: right;\n",
       "    }\n",
       "</style>\n",
       "<table border=\"1\" class=\"dataframe\">\n",
       "  <thead>\n",
       "    <tr style=\"text-align: right;\">\n",
       "      <th></th>\n",
       "      <th>Disaster_Group</th>\n",
       "      <th>Disaster_Subgroup</th>\n",
       "      <th>Disaster_Type</th>\n",
       "      <th>Disaster_Subtype</th>\n",
       "      <th>Disaster_Subsubtype</th>\n",
       "      <th>Country</th>\n",
       "      <th>ISO</th>\n",
       "      <th>Region</th>\n",
       "      <th>Continent</th>\n",
       "      <th>Associated_Dis</th>\n",
       "      <th>Associated_Dis2</th>\n",
       "      <th>Start_Year</th>\n",
       "      <th>End_Year</th>\n",
       "      <th>Total_Deaths</th>\n",
       "      <th>Total_Affected</th>\n",
       "    </tr>\n",
       "  </thead>\n",
       "  <tbody>\n",
       "    <tr>\n",
       "      <th>0</th>\n",
       "      <td>Natural</td>\n",
       "      <td>Climatological</td>\n",
       "      <td>Drought</td>\n",
       "      <td>Drought</td>\n",
       "      <td>&lt;NA&gt;</td>\n",
       "      <td>Cabo Verde</td>\n",
       "      <td>CPV</td>\n",
       "      <td>Western Africa</td>\n",
       "      <td>Africa</td>\n",
       "      <td>Famine</td>\n",
       "      <td>&lt;NA&gt;</td>\n",
       "      <td>1900</td>\n",
       "      <td>1900</td>\n",
       "      <td>11000</td>\n",
       "      <td>&lt;NA&gt;</td>\n",
       "    </tr>\n",
       "    <tr>\n",
       "      <th>1</th>\n",
       "      <td>Natural</td>\n",
       "      <td>Climatological</td>\n",
       "      <td>Drought</td>\n",
       "      <td>Drought</td>\n",
       "      <td>&lt;NA&gt;</td>\n",
       "      <td>India</td>\n",
       "      <td>IND</td>\n",
       "      <td>Southern Asia</td>\n",
       "      <td>Asia</td>\n",
       "      <td>&lt;NA&gt;</td>\n",
       "      <td>&lt;NA&gt;</td>\n",
       "      <td>1900</td>\n",
       "      <td>1900</td>\n",
       "      <td>1250000</td>\n",
       "      <td>&lt;NA&gt;</td>\n",
       "    </tr>\n",
       "    <tr>\n",
       "      <th>2</th>\n",
       "      <td>Natural</td>\n",
       "      <td>Geophysical</td>\n",
       "      <td>Earthquake</td>\n",
       "      <td>Ground movement</td>\n",
       "      <td>&lt;NA&gt;</td>\n",
       "      <td>Guatemala</td>\n",
       "      <td>GTM</td>\n",
       "      <td>Central America</td>\n",
       "      <td>Americas</td>\n",
       "      <td>Tsunami/Tidal wave</td>\n",
       "      <td>&lt;NA&gt;</td>\n",
       "      <td>1902</td>\n",
       "      <td>1902</td>\n",
       "      <td>2000</td>\n",
       "      <td>&lt;NA&gt;</td>\n",
       "    </tr>\n",
       "    <tr>\n",
       "      <th>3</th>\n",
       "      <td>Natural</td>\n",
       "      <td>Geophysical</td>\n",
       "      <td>Volcanic activity</td>\n",
       "      <td>Ash fall</td>\n",
       "      <td>&lt;NA&gt;</td>\n",
       "      <td>Guatemala</td>\n",
       "      <td>GTM</td>\n",
       "      <td>Central America</td>\n",
       "      <td>Americas</td>\n",
       "      <td>&lt;NA&gt;</td>\n",
       "      <td>&lt;NA&gt;</td>\n",
       "      <td>1902</td>\n",
       "      <td>1902</td>\n",
       "      <td>1000</td>\n",
       "      <td>&lt;NA&gt;</td>\n",
       "    </tr>\n",
       "    <tr>\n",
       "      <th>4</th>\n",
       "      <td>Natural</td>\n",
       "      <td>Geophysical</td>\n",
       "      <td>Volcanic activity</td>\n",
       "      <td>Ash fall</td>\n",
       "      <td>&lt;NA&gt;</td>\n",
       "      <td>Guatemala</td>\n",
       "      <td>GTM</td>\n",
       "      <td>Central America</td>\n",
       "      <td>Americas</td>\n",
       "      <td>&lt;NA&gt;</td>\n",
       "      <td>&lt;NA&gt;</td>\n",
       "      <td>1902</td>\n",
       "      <td>1902</td>\n",
       "      <td>6000</td>\n",
       "      <td>&lt;NA&gt;</td>\n",
       "    </tr>\n",
       "    <tr>\n",
       "      <th>...</th>\n",
       "      <td>...</td>\n",
       "      <td>...</td>\n",
       "      <td>...</td>\n",
       "      <td>...</td>\n",
       "      <td>...</td>\n",
       "      <td>...</td>\n",
       "      <td>...</td>\n",
       "      <td>...</td>\n",
       "      <td>...</td>\n",
       "      <td>...</td>\n",
       "      <td>...</td>\n",
       "      <td>...</td>\n",
       "      <td>...</td>\n",
       "      <td>...</td>\n",
       "      <td>...</td>\n",
       "    </tr>\n",
       "    <tr>\n",
       "      <th>16483</th>\n",
       "      <td>Natural</td>\n",
       "      <td>Biological</td>\n",
       "      <td>Epidemic</td>\n",
       "      <td>Viral disease</td>\n",
       "      <td>&lt;NA&gt;</td>\n",
       "      <td>Congo (the Democratic Republic of the)</td>\n",
       "      <td>COD</td>\n",
       "      <td>Middle Africa</td>\n",
       "      <td>Africa</td>\n",
       "      <td>&lt;NA&gt;</td>\n",
       "      <td>&lt;NA&gt;</td>\n",
       "      <td>2022</td>\n",
       "      <td>2022</td>\n",
       "      <td>8</td>\n",
       "      <td>607</td>\n",
       "    </tr>\n",
       "    <tr>\n",
       "      <th>16484</th>\n",
       "      <td>Natural</td>\n",
       "      <td>Biological</td>\n",
       "      <td>Epidemic</td>\n",
       "      <td>Viral disease</td>\n",
       "      <td>&lt;NA&gt;</td>\n",
       "      <td>Congo (the Democratic Republic of the)</td>\n",
       "      <td>COD</td>\n",
       "      <td>Middle Africa</td>\n",
       "      <td>Africa</td>\n",
       "      <td>&lt;NA&gt;</td>\n",
       "      <td>&lt;NA&gt;</td>\n",
       "      <td>2022</td>\n",
       "      <td>2022</td>\n",
       "      <td>5</td>\n",
       "      <td>141</td>\n",
       "    </tr>\n",
       "    <tr>\n",
       "      <th>16485</th>\n",
       "      <td>Natural</td>\n",
       "      <td>Biological</td>\n",
       "      <td>Epidemic</td>\n",
       "      <td>Viral disease</td>\n",
       "      <td>&lt;NA&gt;</td>\n",
       "      <td>Zimbabwe</td>\n",
       "      <td>ZWE</td>\n",
       "      <td>Eastern Africa</td>\n",
       "      <td>Africa</td>\n",
       "      <td>&lt;NA&gt;</td>\n",
       "      <td>&lt;NA&gt;</td>\n",
       "      <td>2022</td>\n",
       "      <td>2022</td>\n",
       "      <td>750</td>\n",
       "      <td>6551</td>\n",
       "    </tr>\n",
       "    <tr>\n",
       "      <th>16486</th>\n",
       "      <td>Natural</td>\n",
       "      <td>Biological</td>\n",
       "      <td>Epidemic</td>\n",
       "      <td>Viral disease</td>\n",
       "      <td>&lt;NA&gt;</td>\n",
       "      <td>Timor-Leste</td>\n",
       "      <td>TLS</td>\n",
       "      <td>South-Eastern Asia</td>\n",
       "      <td>Asia</td>\n",
       "      <td>&lt;NA&gt;</td>\n",
       "      <td>&lt;NA&gt;</td>\n",
       "      <td>2022</td>\n",
       "      <td>2022</td>\n",
       "      <td>20</td>\n",
       "      <td>1353</td>\n",
       "    </tr>\n",
       "    <tr>\n",
       "      <th>16487</th>\n",
       "      <td>Natural</td>\n",
       "      <td>Hydrological</td>\n",
       "      <td>Flood</td>\n",
       "      <td>&lt;NA&gt;</td>\n",
       "      <td>&lt;NA&gt;</td>\n",
       "      <td>South Sudan</td>\n",
       "      <td>SSD</td>\n",
       "      <td>Northern Africa</td>\n",
       "      <td>Africa</td>\n",
       "      <td>&lt;NA&gt;</td>\n",
       "      <td>&lt;NA&gt;</td>\n",
       "      <td>2022</td>\n",
       "      <td>2022</td>\n",
       "      <td>&lt;NA&gt;</td>\n",
       "      <td>1000000</td>\n",
       "    </tr>\n",
       "  </tbody>\n",
       "</table>\n",
       "<p>16488 rows × 15 columns</p>\n",
       "</div>"
      ],
      "text/plain": [
       "      Disaster_Group Disaster_Subgroup      Disaster_Type Disaster_Subtype  \\\n",
       "0            Natural    Climatological            Drought          Drought   \n",
       "1            Natural    Climatological            Drought          Drought   \n",
       "2            Natural       Geophysical         Earthquake  Ground movement   \n",
       "3            Natural       Geophysical  Volcanic activity         Ash fall   \n",
       "4            Natural       Geophysical  Volcanic activity         Ash fall   \n",
       "...              ...               ...                ...              ...   \n",
       "16483        Natural        Biological           Epidemic    Viral disease   \n",
       "16484        Natural        Biological           Epidemic    Viral disease   \n",
       "16485        Natural        Biological           Epidemic    Viral disease   \n",
       "16486        Natural        Biological           Epidemic    Viral disease   \n",
       "16487        Natural      Hydrological              Flood             <NA>   \n",
       "\n",
       "      Disaster_Subsubtype                                 Country  ISO  \\\n",
       "0                    <NA>                              Cabo Verde  CPV   \n",
       "1                    <NA>                                   India  IND   \n",
       "2                    <NA>                               Guatemala  GTM   \n",
       "3                    <NA>                               Guatemala  GTM   \n",
       "4                    <NA>                               Guatemala  GTM   \n",
       "...                   ...                                     ...  ...   \n",
       "16483                <NA>  Congo (the Democratic Republic of the)  COD   \n",
       "16484                <NA>  Congo (the Democratic Republic of the)  COD   \n",
       "16485                <NA>                                Zimbabwe  ZWE   \n",
       "16486                <NA>                             Timor-Leste  TLS   \n",
       "16487                <NA>                             South Sudan  SSD   \n",
       "\n",
       "                   Region Continent      Associated_Dis Associated_Dis2  \\\n",
       "0          Western Africa    Africa              Famine            <NA>   \n",
       "1           Southern Asia      Asia                <NA>            <NA>   \n",
       "2         Central America  Americas  Tsunami/Tidal wave            <NA>   \n",
       "3         Central America  Americas                <NA>            <NA>   \n",
       "4         Central America  Americas                <NA>            <NA>   \n",
       "...                   ...       ...                 ...             ...   \n",
       "16483       Middle Africa    Africa                <NA>            <NA>   \n",
       "16484       Middle Africa    Africa                <NA>            <NA>   \n",
       "16485      Eastern Africa    Africa                <NA>            <NA>   \n",
       "16486  South-Eastern Asia      Asia                <NA>            <NA>   \n",
       "16487     Northern Africa    Africa                <NA>            <NA>   \n",
       "\n",
       "       Start_Year  End_Year  Total_Deaths  Total_Affected  \n",
       "0            1900      1900         11000            <NA>  \n",
       "1            1900      1900       1250000            <NA>  \n",
       "2            1902      1902          2000            <NA>  \n",
       "3            1902      1902          1000            <NA>  \n",
       "4            1902      1902          6000            <NA>  \n",
       "...           ...       ...           ...             ...  \n",
       "16483        2022      2022             8             607  \n",
       "16484        2022      2022             5             141  \n",
       "16485        2022      2022           750            6551  \n",
       "16486        2022      2022            20            1353  \n",
       "16487        2022      2022          <NA>         1000000  \n",
       "\n",
       "[16488 rows x 15 columns]"
      ]
     },
     "execution_count": 3,
     "metadata": {},
     "output_type": "execute_result"
    }
   ],
   "source": [
    "df_a"
   ]
  },
  {
   "cell_type": "code",
   "execution_count": 4,
   "id": "7e5c94b3",
   "metadata": {},
   "outputs": [],
   "source": [
    "import matplotlib.pyplot as plt"
   ]
  },
  {
   "cell_type": "markdown",
   "id": "02688746",
   "metadata": {},
   "source": [
    "Create a time series for the number of deaths for different levels of granularity (world, continent, countries of \n",
    "interest) \n",
    " Check if there are any trends visible in those series and try to understand if those trends are driven by \n",
    "special circumstances (big tsunami, …) or if those trends are persistent "
   ]
  },
  {
   "cell_type": "code",
   "execution_count": 5,
   "id": "f604aa06",
   "metadata": {},
   "outputs": [],
   "source": [
    "# new column (decade)\n",
    "decade = df_a['Start_Year']//10*10 \n",
    "df_a['Disaster_Decade'] = decade\n",
    "df_a = df_a.astype({\"Total_Deaths\": np.float64, \"Total_Affected\": np.float64, \"Start_Year\": np.int32, \"Disaster_Decade\":np.int32})"
   ]
  },
  {
   "cell_type": "markdown",
   "id": "ab8db1b5",
   "metadata": {},
   "source": [
    "Regrading the missing death data, we have discussed different options, how/ if to include the number of affected. \n",
    "One idea was, to use the number of affected if we do not have the number of deaths. However, this would lead to a big bias in our opinion.\n",
    "Then we had the idea of looking at the data that has both \"no deaths\" and \"no affected\" available. From those data we thought of extracting a percentage with which to multiply the \"no affected\" to get an approximation for the number of deaths. After thinking about this, we still have the impression, that this would change our data significantly and is not a good approximation, as different disasters can (depending on the serverity) have highly different percentages. \n",
    "Therefor we finally decided, even if that meant to leave out about 5.000 data point, to delete the unknown values of deaths and just work with the data where we have definite death numbers - at least for extracting information about the deaths."
   ]
  },
  {
   "cell_type": "code",
   "execution_count": 122,
   "id": "c8c9ac32",
   "metadata": {},
   "outputs": [
    {
     "name": "stdout",
     "output_type": "stream",
     "text": [
      "263944.73983739835\n",
      "201506.89\n",
      "65690.92\n"
     ]
    },
    {
     "name": "stderr",
     "output_type": "stream",
     "text": [
      "C:\\Users\\Birgit\\AppData\\Local\\Temp\\ipykernel_16812\\3697406073.py:1: FutureWarning: Dropping of nuisance columns in DataFrame reductions (with 'numeric_only=None') is deprecated; in a future version this will raise TypeError.  Select only valid columns before calling the reduction.\n",
      "  print(df.sum()['Total_Deaths']/(df.max()['Start_Year']-df.min()['Start_Year']+1))\n",
      "C:\\Users\\Birgit\\AppData\\Local\\Temp\\ipykernel_16812\\3697406073.py:4: FutureWarning: Dropping of nuisance columns in DataFrame reductions (with 'numeric_only=None') is deprecated; in a future version this will raise TypeError.  Select only valid columns before calling the reduction.\n",
      "  print(df_100.sum()['Total_Deaths']/(df_100.max()['Start_Year']-df_100.min()['Start_Year']+1))\n",
      "C:\\Users\\Birgit\\AppData\\Local\\Temp\\ipykernel_16812\\3697406073.py:7: FutureWarning: Dropping of nuisance columns in DataFrame reductions (with 'numeric_only=None') is deprecated; in a future version this will raise TypeError.  Select only valid columns before calling the reduction.\n",
      "  print(df_50.sum()['Total_Deaths']/(df_50.max()['Start_Year']-df_50.min()['Start_Year']+1))\n"
     ]
    }
   ],
   "source": [
    "print(df_a.sum()['Total_Deaths']/(df_a.max()['Start_Year']-df_a.min()['Start_Year']+1))\n",
    "cutoff_date = 1922 \n",
    "df_a_100 = df_a[df_a[\"Start_Year\"] > cutoff_date]\n",
    "print(df_a_100.sum()['Total_Deaths']/(df_a_100.max()['Start_Year']-df_a_100.min()['Start_Year']+1))\n",
    "cutoff_date = 1972 \n",
    "df_a_50 = df_a[df_a[\"Start_Year\"] > cutoff_date]\n",
    "print(df_a_50.sum()['Total_Deaths']/(df_a_50.max()['Start_Year']-df_a_50.min()['Start_Year']+1))"
   ]
  },
  {
   "cell_type": "markdown",
   "id": "f1beb4bc",
   "metadata": {},
   "source": [
    "Natural disasters killed globally on average 264 thousand people per year over the last 123 years. \n",
    "This average lowers to 201,5 thousand when only having a look at the last 100 years.\n",
    "There died on average 65,7 thousand people per year in the last 50 years."
   ]
  },
  {
   "cell_type": "code",
   "execution_count": 27,
   "id": "dc519caf",
   "metadata": {},
   "outputs": [
    {
     "data": {
      "text/plain": [
       "Text(0.5, 1.0, 'Average of deaths per natural disaster over years')"
      ]
     },
     "execution_count": 27,
     "metadata": {},
     "output_type": "execute_result"
    },
    {
     "data": {
      "image/png": "[encoded data removed]",
      "text/plain": [
       "<Figure size 432x288 with 1 Axes>"
      ]
     },
     "metadata": {
      "needs_background": "light"
     },
     "output_type": "display_data"
    }
   ],
   "source": [
    "# calc mean deaths per disaster over the years\n",
    "\n",
    "means = df_a.groupby([\"Start_Year\"]).mean()['Total_Deaths'].round()\n",
    "ax = means.plot(kind = 'line')\n",
    "ax.set_ylabel('Average deaths in Million')\n",
    "ax.set_xlabel ('year of disaster')\n",
    "ax.set_title('Average of deaths per natural disaster over years')\n",
    "#max(means)"
   ]
  },
  {
   "cell_type": "markdown",
   "id": "e3b02a2a",
   "metadata": {},
   "source": [
    "The graphic shows how many people died on average per natural disaster per year. As there is only one event with 1.2 million death in 1921 it leads to that big spike. Therefor we decided to use decades instead of years."
   ]
  },
  {
   "cell_type": "code",
   "execution_count": 64,
   "id": "ab584010",
   "metadata": {},
   "outputs": [
    {
     "data": {
      "image/png": "[encoded data removed]",
      "text/plain": [
       "<Figure size 504x288 with 1 Axes>"
      ]
     },
     "metadata": {
      "needs_background": "light"
     },
     "output_type": "display_data"
    }
   ],
   "source": [
    "# calc mean deaths, per Decade and plot them in a bar plot\n",
    "means = df_a.groupby([\"Disaster_Decade\"]).mean()['Total_Deaths'].round()\n",
    "ax = means.plot(kind = 'bar', figsize = (7,4))\n",
    "ax.set_ylabel('Average deaths')\n",
    "ax.set_xlabel ('Decade of disaster')\n",
    "ax.set_title('Average of deaths per natural disaster over decades')\n",
    "ax.bar_label(ax.containers[0])\n",
    "plt.show()"
   ]
  },
  {
   "cell_type": "markdown",
   "id": "2afd0716",
   "metadata": {},
   "source": [
    "When having a look at the average deaths per decade per natural disaster, it can be seen that there was a peek in the 1920th and the number of deaths decreased over the years. However, this does not automatically mean that the number of natural disasters is decreasing. "
   ]
  },
  {
   "cell_type": "code",
   "execution_count": 56,
   "id": "4bbe324a",
   "metadata": {},
   "outputs": [
    {
     "data": {
      "image/png": "[encoded data removed]",
      "text/plain": [
       "<Figure size 432x288 with 1 Axes>"
      ]
     },
     "metadata": {
      "needs_background": "light"
     },
     "output_type": "display_data"
    }
   ],
   "source": [
    "# calc median deaths, per Decade and plot them in a bar plot\n",
    "medians = df_a.groupby([\"Disaster_Decade\"]).median()['Total_Deaths']\n",
    "ax = medians.plot(kind = 'bar', figsize = (6,4))\n",
    "ax.set_ylabel('Median deaths')\n",
    "ax.set_xlabel ('Decade of disaster')\n",
    "ax.set_title('Median of deaths per natural disaster over decades')\n",
    "ax.bar_label(ax.containers[0])\n",
    "plt.show()"
   ]
  },
  {
   "cell_type": "markdown",
   "id": "2620c9de",
   "metadata": {},
   "source": [
    "The median compared to the mean shows that there seem to have been some events in 1920 leading to a really high number of deaths. Still we can see, that the number of deaths have significantly decreased in the last 90 years."
   ]
  },
  {
   "cell_type": "code",
   "execution_count": 103,
   "id": "9297f263",
   "metadata": {},
   "outputs": [
    {
     "data": {
      "image/png": "[encoded data removed]",
      "text/plain": [
       "<Figure size 720x288 with 2 Axes>"
      ]
     },
     "metadata": {
      "needs_background": "light"
     },
     "output_type": "display_data"
    },
    {
     "name": "stdout",
     "output_type": "stream",
     "text": [
      "Disaster_Decade\n",
      "1900      79\n",
      "1910      77\n",
      "1920     106\n",
      "1930     135\n",
      "1940     170\n",
      "1950     310\n",
      "1960     593\n",
      "1970     871\n",
      "1980    1755\n",
      "1990    2957\n",
      "2000    4473\n",
      "2010    3758\n",
      "2020    1204\n",
      "Name: Continent, dtype: int64\n",
      "Last Start_year of data : 2022\n",
      "Hochgerechnete Number of natural disasters 2020-2029: 4214.0\n"
     ]
    }
   ],
   "source": [
    "# calc count, per Decade and plot them in a bar plot\n",
    "counts = df_a.groupby([\"Disaster_Decade\"]).count()['Total_Deaths']\n",
    "plt.subplot(1, 2,1)\n",
    "ax = counts.plot(kind = 'bar', figsize = (6,4), color =\"green\")\n",
    "ax.set_ylabel('# disasters (with known No. deaths)')\n",
    "ax.set_xlabel ('Decade of disaster')\n",
    "ax.set_title('Number of disasters with/without known number of deaths')\n",
    "#ax.bar_label(ax.containers[0])\n",
    "\n",
    "counts = df_a.groupby([\"Disaster_Decade\"]).count()['Continent'] # continent just used, because then we to not have a look at na values\n",
    "plt.subplot(1, 2, 2)\n",
    "ax = counts.plot(kind = 'bar', figsize = (10,4), color =\"green\")\n",
    "ax.set_ylabel('# disasters (without known No. deaths)')\n",
    "ax.set_xlabel ('Decade of disaster')\n",
    "#ax.bar_label(ax.containers[0])\n",
    "plt.show()\n",
    "\n",
    "print(counts)\n",
    "print(\"Last Start_year of data : \" +str(df_a[\"Start_Year\"].max()))\n",
    "print( \"Hochgerechnete Number of natural disasters 2020-2029: \" + str(1204*3.5))"
   ]
  },
  {
   "cell_type": "markdown",
   "id": "f3cad244",
   "metadata": {},
   "source": [
    "In the last decade, the number of deaths/disasters is of course much smaller, since the data only contain information up to the year 2022. The year 2022 has not yet been fully mapped. This value would have to be multiplied by about 3.5 to get a correct ratio.\n",
    "Additionally it can be seen, that (as the graphics above have shown) the number of deaths per natural disaster decreased in the last century, but the number of natural disasters has definitifly constantly increased. This could either mean, that there are more natural disasters with a lower impact or that e.g. due to better health care or faster help there are just less people dying and the intensity of the disasters did not change that much."
   ]
  },
  {
   "cell_type": "markdown",
   "id": "bf72194a",
   "metadata": {},
   "source": [
    "To look a bit more into that, we decided to have a look at the number of affected."
   ]
  },
  {
   "cell_type": "code",
   "execution_count": 11,
   "id": "16e0d902",
   "metadata": {},
   "outputs": [],
   "source": []
  },
  {
   "cell_type": "code",
   "execution_count": 102,
   "id": "550be5a7",
   "metadata": {},
   "outputs": [
    {
     "name": "stdout",
     "output_type": "stream",
     "text": [
      "Disaster_Decade\n",
      "1900    0.03\n",
      "1910    0.29\n",
      "1920    1.86\n",
      "1930    0.38\n",
      "1940    0.08\n",
      "1950    0.24\n",
      "1960    0.58\n",
      "1970    0.96\n",
      "1980    1.11\n",
      "1990    0.95\n",
      "2000    0.64\n",
      "2010    0.59\n",
      "2020    0.33\n",
      "Name: No_Affected, dtype: float64\n"
     ]
    },
    {
     "data": {
      "image/png": "[encoded data removed]",
      "text/plain": [
       "<Figure size 432x288 with 1 Axes>"
      ]
     },
     "metadata": {
      "needs_background": "light"
     },
     "output_type": "display_data"
    },
    {
     "data": {
      "image/png": "[encoded data removed]",
      "text/plain": [
       "<Figure size 432x288 with 1 Axes>"
      ]
     },
     "metadata": {
      "needs_background": "light"
     },
     "output_type": "display_data"
    },
    {
     "name": "stdout",
     "output_type": "stream",
     "text": [
      "Disaster_Decade\n",
      "1900     5.47\n",
      "1910     1.55\n",
      "1920    10.50\n",
      "1930     4.76\n",
      "1940     5.07\n",
      "1950     2.90\n",
      "1960    16.36\n",
      "1970    10.00\n",
      "1980    10.00\n",
      "1990     5.76\n",
      "2000     3.00\n",
      "2010     9.11\n",
      "2020     5.99\n",
      "Name: No_Affected, dtype: float64\n"
     ]
    }
   ],
   "source": [
    "# calc mean affected, per Decade and plot them in a bar plot\n",
    "means_aff = round(df_a.groupby([\"Disaster_Decade\"]).mean()['Total_Affected'].round()/1_000_000,2)\n",
    "#plt.subplot(1, 2,1)\n",
    "ax = means_aff.plot(kind = 'bar', figsize = (6,4), color =\"red\")\n",
    "ax.set_ylabel('Average Affected in million')\n",
    "ax.set_xlabel ('Decade of disaster')\n",
    "ax.set_title('Average of affected per natural disaster over decades')\n",
    "print(means_aff)\n",
    "ax.bar_label(ax.containers[0])\n",
    "plt.show()\n",
    "\n",
    "# calc median deaths, per Decade and plot them in a bar plot\n",
    "medians_aff = round(df_a.groupby([\"Disaster_Decade\"]).median()['Total_Affected']/1_000,2)\n",
    "#plt.subplot(1, 2,2)\n",
    "plt.tight_layout()\n",
    "ax = medians_aff.plot(kind = 'bar', figsize = (6,4), color =\"red\")\n",
    "ax.set_ylabel('Median Affected in thousand')\n",
    "ax.set_xlabel ('Decade of disaster')\n",
    "ax.set_title('Median of affected per natural disaster over decades')\n",
    "ax.bar_label(ax.containers[0])\n",
    "plt.show()\n",
    "\n",
    "print(medians_aff)"
   ]
  },
  {
   "cell_type": "markdown",
   "id": "7736c878",
   "metadata": {},
   "source": [
    "The number of affected shows a different picture than the one from the number of deaths. This supports our supposition, that less people die but that there are more and more people affected from natural disasters."
   ]
  },
  {
   "cell_type": "code",
   "execution_count": 13,
   "id": "2af1976c",
   "metadata": {},
   "outputs": [
    {
     "data": {
      "text/html": [
       "<div>\n",
       "<style scoped>\n",
       "    .dataframe tbody tr th:only-of-type {\n",
       "        vertical-align: middle;\n",
       "    }\n",
       "\n",
       "    .dataframe tbody tr th {\n",
       "        vertical-align: top;\n",
       "    }\n",
       "\n",
       "    .dataframe thead th {\n",
       "        text-align: right;\n",
       "    }\n",
       "</style>\n",
       "<table border=\"1\" class=\"dataframe\">\n",
       "  <thead>\n",
       "    <tr style=\"text-align: right;\">\n",
       "      <th></th>\n",
       "      <th>Disaster_Group</th>\n",
       "      <th>Disaster_Subgroup</th>\n",
       "      <th>Disaster_Type</th>\n",
       "      <th>Disaster_Subtype</th>\n",
       "      <th>Disaster_Subsubtype</th>\n",
       "      <th>Country</th>\n",
       "      <th>ISO</th>\n",
       "      <th>Region</th>\n",
       "      <th>Continent</th>\n",
       "      <th>Associated_Dis</th>\n",
       "      <th>Associated_Dis2</th>\n",
       "      <th>Start_Year</th>\n",
       "      <th>End_Year</th>\n",
       "      <th>Total_Deaths</th>\n",
       "      <th>Total_Affected</th>\n",
       "      <th>Disaster_Decade</th>\n",
       "      <th>No_Affected</th>\n",
       "    </tr>\n",
       "  </thead>\n",
       "  <tbody>\n",
       "    <tr>\n",
       "      <th>96</th>\n",
       "      <td>Natural</td>\n",
       "      <td>Climatological</td>\n",
       "      <td>Drought</td>\n",
       "      <td>Drought</td>\n",
       "      <td>&lt;NA&gt;</td>\n",
       "      <td>China</td>\n",
       "      <td>CHN</td>\n",
       "      <td>Eastern Asia</td>\n",
       "      <td>Asia</td>\n",
       "      <td>&lt;NA&gt;</td>\n",
       "      <td>&lt;NA&gt;</td>\n",
       "      <td>1928</td>\n",
       "      <td>1928</td>\n",
       "      <td>3000000.0</td>\n",
       "      <td>NaN</td>\n",
       "      <td>1920</td>\n",
       "      <td>NaN</td>\n",
       "    </tr>\n",
       "    <tr>\n",
       "      <th>58</th>\n",
       "      <td>Natural</td>\n",
       "      <td>Biological</td>\n",
       "      <td>Epidemic</td>\n",
       "      <td>Bacterial disease</td>\n",
       "      <td>&lt;NA&gt;</td>\n",
       "      <td>India</td>\n",
       "      <td>IND</td>\n",
       "      <td>Southern Asia</td>\n",
       "      <td>Asia</td>\n",
       "      <td>&lt;NA&gt;</td>\n",
       "      <td>&lt;NA&gt;</td>\n",
       "      <td>1920</td>\n",
       "      <td>1920</td>\n",
       "      <td>2000000.0</td>\n",
       "      <td>NaN</td>\n",
       "      <td>1920</td>\n",
       "      <td>NaN</td>\n",
       "    </tr>\n",
       "    <tr>\n",
       "      <th>906</th>\n",
       "      <td>Natural</td>\n",
       "      <td>Climatological</td>\n",
       "      <td>Drought</td>\n",
       "      <td>Drought</td>\n",
       "      <td>&lt;NA&gt;</td>\n",
       "      <td>Soviet Union</td>\n",
       "      <td>SUN</td>\n",
       "      <td>Russian Federation</td>\n",
       "      <td>Europe</td>\n",
       "      <td>Crop failure</td>\n",
       "      <td>Famine</td>\n",
       "      <td>1921</td>\n",
       "      <td>1921</td>\n",
       "      <td>1200000.0</td>\n",
       "      <td>5000000.0</td>\n",
       "      <td>1920</td>\n",
       "      <td>5000000.0</td>\n",
       "    </tr>\n",
       "    <tr>\n",
       "      <th>56</th>\n",
       "      <td>Natural</td>\n",
       "      <td>Climatological</td>\n",
       "      <td>Drought</td>\n",
       "      <td>Drought</td>\n",
       "      <td>&lt;NA&gt;</td>\n",
       "      <td>China</td>\n",
       "      <td>CHN</td>\n",
       "      <td>Eastern Asia</td>\n",
       "      <td>Asia</td>\n",
       "      <td>&lt;NA&gt;</td>\n",
       "      <td>&lt;NA&gt;</td>\n",
       "      <td>1920</td>\n",
       "      <td>1920</td>\n",
       "      <td>500000.0</td>\n",
       "      <td>20000000.0</td>\n",
       "      <td>1920</td>\n",
       "      <td>20000000.0</td>\n",
       "    </tr>\n",
       "    <tr>\n",
       "      <th>59</th>\n",
       "      <td>Natural</td>\n",
       "      <td>Biological</td>\n",
       "      <td>Epidemic</td>\n",
       "      <td>Bacterial disease</td>\n",
       "      <td>&lt;NA&gt;</td>\n",
       "      <td>India</td>\n",
       "      <td>IND</td>\n",
       "      <td>Southern Asia</td>\n",
       "      <td>Asia</td>\n",
       "      <td>&lt;NA&gt;</td>\n",
       "      <td>&lt;NA&gt;</td>\n",
       "      <td>1920</td>\n",
       "      <td>1920</td>\n",
       "      <td>500000.0</td>\n",
       "      <td>NaN</td>\n",
       "      <td>1920</td>\n",
       "      <td>NaN</td>\n",
       "    </tr>\n",
       "    <tr>\n",
       "      <th>85</th>\n",
       "      <td>Natural</td>\n",
       "      <td>Biological</td>\n",
       "      <td>Epidemic</td>\n",
       "      <td>Viral disease</td>\n",
       "      <td>&lt;NA&gt;</td>\n",
       "      <td>India</td>\n",
       "      <td>IND</td>\n",
       "      <td>Southern Asia</td>\n",
       "      <td>Asia</td>\n",
       "      <td>&lt;NA&gt;</td>\n",
       "      <td>&lt;NA&gt;</td>\n",
       "      <td>1926</td>\n",
       "      <td>1926</td>\n",
       "      <td>423000.0</td>\n",
       "      <td>NaN</td>\n",
       "      <td>1920</td>\n",
       "      <td>NaN</td>\n",
       "    </tr>\n",
       "  </tbody>\n",
       "</table>\n",
       "</div>"
      ],
      "text/plain": [
       "    Disaster_Group Disaster_Subgroup Disaster_Type   Disaster_Subtype  \\\n",
       "96         Natural    Climatological       Drought            Drought   \n",
       "58         Natural        Biological      Epidemic  Bacterial disease   \n",
       "906        Natural    Climatological       Drought            Drought   \n",
       "56         Natural    Climatological       Drought            Drought   \n",
       "59         Natural        Biological      Epidemic  Bacterial disease   \n",
       "85         Natural        Biological      Epidemic      Viral disease   \n",
       "\n",
       "    Disaster_Subsubtype       Country  ISO              Region Continent  \\\n",
       "96                 <NA>         China  CHN        Eastern Asia      Asia   \n",
       "58                 <NA>         India  IND       Southern Asia      Asia   \n",
       "906                <NA>  Soviet Union  SUN  Russian Federation    Europe   \n",
       "56                 <NA>         China  CHN        Eastern Asia      Asia   \n",
       "59                 <NA>         India  IND       Southern Asia      Asia   \n",
       "85                 <NA>         India  IND       Southern Asia      Asia   \n",
       "\n",
       "    Associated_Dis Associated_Dis2  Start_Year  End_Year  Total_Deaths  \\\n",
       "96            <NA>            <NA>        1928      1928     3000000.0   \n",
       "58            <NA>            <NA>        1920      1920     2000000.0   \n",
       "906   Crop failure          Famine        1921      1921     1200000.0   \n",
       "56            <NA>            <NA>        1920      1920      500000.0   \n",
       "59            <NA>            <NA>        1920      1920      500000.0   \n",
       "85            <NA>            <NA>        1926      1926      423000.0   \n",
       "\n",
       "     Total_Affected  Disaster_Decade  No_Affected  \n",
       "96              NaN             1920          NaN  \n",
       "58              NaN             1920          NaN  \n",
       "906       5000000.0             1920    5000000.0  \n",
       "56       20000000.0             1920   20000000.0  \n",
       "59              NaN             1920          NaN  \n",
       "85              NaN             1920          NaN  "
      ]
     },
     "execution_count": 13,
     "metadata": {},
     "output_type": "execute_result"
    }
   ],
   "source": [
    "data_1920 = df_a.loc[df_a[\"Disaster_Decade\"]==1920]\n",
    "data_1920.nlargest(6,\"Total_Deaths\")\n",
    "#df_a.nlargest(15,\"Total_Deaths\")"
   ]
  },
  {
   "cell_type": "markdown",
   "id": "47eb0ccd",
   "metadata": {},
   "source": [
    "Conclusions:\n",
    "The number of deaths over the last century due to natural disaster has definitly decreased.\n",
    "The number of natural disasters itself and also the number of people affected by natural disasters however has increased.\n",
    "\n",
    "Trend Analysis: Have a look, why the number of deaths in the 1920th is so high (5 from the 15 biggest disasters happend in the 1920th)\n",
    "\n",
    "- Drought in China (1928): more political than natural (warlords using grain for themselves, less production due to opium plantation); Reference: https://disasterhistory.org/the-northwest-china-famine-1928-1930\n",
    "\n",
    "- Epidemic in India (1920): Encephalitis lethargica; Reference https://simplifiedupsc.in/epidemics-that-have-hit-india-since-1900/\n",
    "\n",
    "- Drought in Soviet Union (1921): natural and human caused - (Civil War, Russian Revolution: confiscation of stored grain) ; Reference: https://www.norkarussia.info/famine-1921-1924.html\n",
    "\n",
    "- Viral disease (1926): Spanish flu brought back from soldiers; Reference: https://simplifiedupsc.in/epidemics-that-have-hit-india-since-1900/\n",
    "\n",
    "- Drought in China (1920): rainless 12 months - total failure of Harvest; Reference: http://disasterhistory.org/north-china-famine-1920-21\n",
    "\n",
    "Natural disasters in the early 1920s are partly also consequences of the first world war."
   ]
  },
  {
   "cell_type": "code",
   "execution_count": 111,
   "id": "93c88340",
   "metadata": {},
   "outputs": [
    {
     "data": {
      "text/html": [
       "<div>\n",
       "<style scoped>\n",
       "    .dataframe tbody tr th:only-of-type {\n",
       "        vertical-align: middle;\n",
       "    }\n",
       "\n",
       "    .dataframe tbody tr th {\n",
       "        vertical-align: top;\n",
       "    }\n",
       "\n",
       "    .dataframe thead th {\n",
       "        text-align: right;\n",
       "    }\n",
       "</style>\n",
       "<table border=\"1\" class=\"dataframe\">\n",
       "  <thead>\n",
       "    <tr style=\"text-align: right;\">\n",
       "      <th></th>\n",
       "      <th>Total_Deaths</th>\n",
       "    </tr>\n",
       "    <tr>\n",
       "      <th>Continent</th>\n",
       "      <th></th>\n",
       "    </tr>\n",
       "  </thead>\n",
       "  <tbody>\n",
       "    <tr>\n",
       "      <th>Africa</th>\n",
       "      <td>928757.0</td>\n",
       "    </tr>\n",
       "    <tr>\n",
       "      <th>Americas</th>\n",
       "      <td>453975.0</td>\n",
       "    </tr>\n",
       "    <tr>\n",
       "      <th>Asia</th>\n",
       "      <td>1693840.0</td>\n",
       "    </tr>\n",
       "    <tr>\n",
       "      <th>Europe</th>\n",
       "      <td>200905.0</td>\n",
       "    </tr>\n",
       "    <tr>\n",
       "      <th>Oceania</th>\n",
       "      <td>7069.0</td>\n",
       "    </tr>\n",
       "  </tbody>\n",
       "</table>\n",
       "</div>"
      ],
      "text/plain": [
       "           Total_Deaths\n",
       "Continent              \n",
       "Africa         928757.0\n",
       "Americas       453975.0\n",
       "Asia          1693840.0\n",
       "Europe         200905.0\n",
       "Oceania          7069.0"
      ]
     },
     "execution_count": 111,
     "metadata": {},
     "output_type": "execute_result"
    }
   ],
   "source": [
    "#continent\n",
    "df_a[[\"Continent\", \"Total_Deaths\"]].groupby([\"Continent\"]).sum()\n",
    "#df_a_50[[\"Continent\", \"Total_Deaths\"]].groupby([\"Continent\"]).sum()\n",
    "#df_a[[\"Continent\", \"Disaster_Decade\",\"Total_Deaths\"]].groupby([\"Continent\",\"Disaster_Decade\"]).mean()"
   ]
  },
  {
   "cell_type": "markdown",
   "id": "503e5b5a",
   "metadata": {},
   "source": [
    "Asia an Europe suffered the most from natural disasters in the last 123 years."
   ]
  },
  {
   "cell_type": "markdown",
   "id": "7bf28280",
   "metadata": {},
   "source": [
    "Up until now we have used \"Start_Year\" as the relevant year. Now let's look at how the results change if we distribute the deaths per event equally over all years (from \"Start_Year\" to \"End_Year)"
   ]
  },
  {
   "cell_type": "code",
   "execution_count": 15,
   "id": "fc08d4a8",
   "metadata": {},
   "outputs": [
    {
     "data": {
      "text/html": [
       "<div>\n",
       "<style scoped>\n",
       "    .dataframe tbody tr th:only-of-type {\n",
       "        vertical-align: middle;\n",
       "    }\n",
       "\n",
       "    .dataframe tbody tr th {\n",
       "        vertical-align: top;\n",
       "    }\n",
       "\n",
       "    .dataframe thead th {\n",
       "        text-align: right;\n",
       "    }\n",
       "</style>\n",
       "<table border=\"1\" class=\"dataframe\">\n",
       "  <thead>\n",
       "    <tr style=\"text-align: right;\">\n",
       "      <th></th>\n",
       "      <th>Year</th>\n",
       "      <th>Total_Deaths</th>\n",
       "    </tr>\n",
       "  </thead>\n",
       "  <tbody>\n",
       "    <tr>\n",
       "      <th>0</th>\n",
       "      <td>1900</td>\n",
       "      <td>1267500.0</td>\n",
       "    </tr>\n",
       "    <tr>\n",
       "      <th>1</th>\n",
       "      <td>1901</td>\n",
       "      <td>200018.0</td>\n",
       "    </tr>\n",
       "    <tr>\n",
       "      <th>2</th>\n",
       "      <td>1902</td>\n",
       "      <td>48438.0</td>\n",
       "    </tr>\n",
       "    <tr>\n",
       "      <th>3</th>\n",
       "      <td>1903</td>\n",
       "      <td>7136.0</td>\n",
       "    </tr>\n",
       "    <tr>\n",
       "      <th>4</th>\n",
       "      <td>1904</td>\n",
       "      <td>152.0</td>\n",
       "    </tr>\n",
       "    <tr>\n",
       "      <th>...</th>\n",
       "      <td>...</td>\n",
       "      <td>...</td>\n",
       "    </tr>\n",
       "    <tr>\n",
       "      <th>118</th>\n",
       "      <td>2018</td>\n",
       "      <td>13832.5</td>\n",
       "    </tr>\n",
       "    <tr>\n",
       "      <th>119</th>\n",
       "      <td>2019</td>\n",
       "      <td>23838.166667</td>\n",
       "    </tr>\n",
       "    <tr>\n",
       "      <th>120</th>\n",
       "      <td>2020</td>\n",
       "      <td>15690.166667</td>\n",
       "    </tr>\n",
       "    <tr>\n",
       "      <th>121</th>\n",
       "      <td>2021</td>\n",
       "      <td>14522.166667</td>\n",
       "    </tr>\n",
       "    <tr>\n",
       "      <th>122</th>\n",
       "      <td>2022</td>\n",
       "      <td>14877.0</td>\n",
       "    </tr>\n",
       "  </tbody>\n",
       "</table>\n",
       "<p>123 rows × 2 columns</p>\n",
       "</div>"
      ],
      "text/plain": [
       "     Year  Total_Deaths\n",
       "0    1900     1267500.0\n",
       "1    1901      200018.0\n",
       "2    1902       48438.0\n",
       "3    1903        7136.0\n",
       "4    1904         152.0\n",
       "..    ...           ...\n",
       "118  2018       13832.5\n",
       "119  2019  23838.166667\n",
       "120  2020  15690.166667\n",
       "121  2021  14522.166667\n",
       "122  2022       14877.0\n",
       "\n",
       "[123 rows x 2 columns]"
      ]
     },
     "execution_count": 15,
     "metadata": {},
     "output_type": "execute_result"
    }
   ],
   "source": [
    "df_a_deaths = get_yearly_deaths(df_a, include_zero=True).to_frame().reset_index()\n",
    "df_a_deaths"
   ]
  },
  {
   "cell_type": "code",
   "execution_count": 112,
   "id": "d725fdb4",
   "metadata": {},
   "outputs": [
    {
     "data": {
      "text/plain": [
       "263944.7398373984"
      ]
     },
     "execution_count": 112,
     "metadata": {},
     "output_type": "execute_result"
    }
   ],
   "source": [
    "# new column (decade)\n",
    "decade = df_a_deaths['Year']//10*10 \n",
    "df_a_deaths['Disaster_Decade'] = decade\n",
    "df_a_deaths = df_a_deaths.astype({\"Total_Deaths\": np.float64, \"Year\": np.int32, \"Disaster_Decade\":np.int32})\n",
    "df_a_deaths.sum()['Total_Deaths']/(df_a_deaths.max()['Year']-df_a_deaths.min()['Year']+1)# check, daran verändert sich nichts"
   ]
  },
  {
   "cell_type": "code",
   "execution_count": 17,
   "id": "313d7367",
   "metadata": {},
   "outputs": [
    {
     "data": {
      "text/plain": [
       "Text(0.5, 1.0, ' Deaths per year from natural disaster')"
      ]
     },
     "execution_count": 17,
     "metadata": {},
     "output_type": "execute_result"
    },
    {
     "data": {
      "image/png": "[encoded data removed]",
      "text/plain": [
       "<Figure size 432x288 with 1 Axes>"
      ]
     },
     "metadata": {
      "needs_background": "light"
     },
     "output_type": "display_data"
    }
   ],
   "source": [
    "# calc mean deaths, per year and plot them in a bar plot\n",
    "\n",
    "dth_distr = df_a_deaths.groupby([\"Year\"]).sum()['Total_Deaths'].round()\n",
    "ax = dth_distr.plot(kind = 'line')\n",
    "ax.set_ylabel('Total deaths in Million')\n",
    "ax.set_xlabel ('year of disaster')\n",
    "ax.set_title(' Deaths per year from natural disaster')\n",
    "#max(means)\n",
    "\n"
   ]
  },
  {
   "cell_type": "code",
   "execution_count": 18,
   "id": "71adb50d",
   "metadata": {},
   "outputs": [],
   "source": []
  },
  {
   "cell_type": "code",
   "execution_count": 19,
   "id": "87a001d7",
   "metadata": {},
   "outputs": [],
   "source": []
  },
  {
   "cell_type": "code",
   "execution_count": 20,
   "id": "bc21ac6b",
   "metadata": {},
   "outputs": [],
   "source": []
  },
  {
   "cell_type": "code",
   "execution_count": 21,
   "id": "71fcbde9",
   "metadata": {},
   "outputs": [],
   "source": []
  },
  {
   "cell_type": "code",
   "execution_count": 22,
   "id": "1963df17",
   "metadata": {},
   "outputs": [],
   "source": []
  },
  {
   "cell_type": "code",
   "execution_count": 96,
   "id": "b991cff1",
   "metadata": {},
   "outputs": [
    {
     "data": {
      "image/png": "[encoded data removed]",
      "text/plain": [
       "<Figure size 432x288 with 1 Axes>"
      ]
     },
     "metadata": {
      "needs_background": "light"
     },
     "output_type": "display_data"
    }
   ],
   "source": [
    "# calc deaths per Decade and plot them in a bar plot\n",
    "sum_distr = round(df_a_deaths.groupby([\"Disaster_Decade\"]).sum()['Total_Deaths']/1_000_000,2)\n",
    "ax = sum_distr.plot(kind = 'bar')\n",
    "ax.set_ylabel('Total deaths in million')\n",
    "ax.set_xlabel ('Decade of disaster')\n",
    "ax.set_title('Deaths per decade from natural disaster')\n",
    "ax.bar_label(ax.containers[0])\n",
    "plt.show()\n",
    "#print(medians_distr)\n",
    "#print(medians)"
   ]
  },
  {
   "cell_type": "code",
   "execution_count": 99,
   "id": "46af1b2f",
   "metadata": {},
   "outputs": [
    {
     "data": {
      "image/png": "[encoded data removed]",
      "text/plain": [
       "<Figure size 504x288 with 1 Axes>"
      ]
     },
     "metadata": {
      "needs_background": "light"
     },
     "output_type": "display_data"
    }
   ],
   "source": [
    "# calc deaths per Decade and plot them in a bar plot without distrubuting between start and end year\n",
    "means = round(df_a.groupby([\"Disaster_Decade\"]).sum()['Total_Deaths'].round()/1000000,2)\n",
    "ax = means.plot(kind = 'bar', figsize = (7,4))\n",
    "ax.set_ylabel('Average deaths')\n",
    "ax.set_xlabel ('Decade of disaster')\n",
    "ax.set_title('Average of deaths over decades')\n",
    "ax.bar_label(ax.containers[0])\n",
    "plt.show()"
   ]
  },
  {
   "cell_type": "code",
   "execution_count": null,
   "id": "5b863a5b",
   "metadata": {},
   "outputs": [],
   "source": []
  }
 ],
 "metadata": {
  "kernelspec": {
   "display_name": "Python 3 (ipykernel)",
   "language": "python",
   "name": "python3"
  },
  "language_info": {
   "codemirror_mode": {
    "name": "ipython",
    "version": 3
   },
   "file_extension": ".py",
   "mimetype": "text/x-python",
   "name": "python",
   "nbconvert_exporter": "python",
   "pygments_lexer": "ipython3",
   "version": "3.9.12"
  }
 },
 "nbformat": 4,
 "nbformat_minor": 5
}
