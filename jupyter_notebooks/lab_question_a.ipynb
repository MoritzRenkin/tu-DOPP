{
 "cells": [
  {
   "cell_type": "markdown",
   "id": "9d6edd0a",
   "metadata": {},
   "source": [
    "# Lab for answering question A\n",
    "Responsible: Birgit"
   ]
  },
  {
   "cell_type": "code",
   "execution_count": null,
   "id": "0c6de70c",
   "metadata": {},
   "outputs": [],
   "source": [
    "import numpy as np\n",
    "import pandas as pd\n",
    "import pickle"
   ]
  },
  {
   "cell_type": "code",
   "execution_count": null,
   "id": "60b10c86",
   "metadata": {},
   "outputs": [],
   "source": [
    "transformed_df_serial_path = \"../data/data_transformed.pickle\"\n",
    "\n",
    "with open(transformed_df_serial_path, \"rb\") as file:\n",
    "    df: pd.DataFrame = pickle.load(file)\n",
    "\n",
    "assert isinstance(df, pd.DataFrame),f\"The serialized object in {transformed_df_serial_path} is not a pandas dataframe!\"\n",
    "assert len(df)!=0, \"The serialized dataframe contains no data!\""
   ]
  },
  {
   "cell_type": "code",
   "execution_count": null,
   "id": "59570df7",
   "metadata": {},
   "outputs": [],
   "source": [
    "df"
   ]
  }
 ],
 "metadata": {
  "kernelspec": {
   "display_name": "Python 3 (ipykernel)",
   "language": "python",
   "name": "python3"
  },
  "language_info": {
   "codemirror_mode": {
    "name": "ipython",
    "version": 3
   },
   "file_extension": ".py",
   "mimetype": "text/x-python",
   "name": "python",
   "nbconvert_exporter": "python",
   "pygments_lexer": "ipython3",
   "version": "3.9.2"
  }
 },
 "nbformat": 4,
 "nbformat_minor": 5
}
