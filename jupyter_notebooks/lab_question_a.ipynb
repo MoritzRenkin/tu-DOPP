{
 "cells": [
  {
   "cell_type": "markdown",
   "id": "9d6edd0a",
   "metadata": {},
   "source": [
    "# Lab for answering question A\n",
    "Responsible: Birgit"
   ]
  },
  {
   "cell_type": "code",
   "execution_count": 1,
   "id": "0c6de70c",
   "metadata": {},
   "outputs": [],
   "source": [
    "import numpy as np\n",
    "import pandas as pd\n",
    "import pickle"
   ]
  },
  {
   "cell_type": "code",
   "execution_count": 2,
   "id": "60b10c86",
   "metadata": {},
   "outputs": [],
   "source": [
    "transformed_df_serial_path = \"../data/data_transformed.pickle\"\n",
    "\n",
    "with open(transformed_df_serial_path, \"rb\") as file:\n",
    "    df: pd.DataFrame = pickle.load(file)\n",
    "\n",
    "assert isinstance(df, pd.DataFrame),f\"The serialized object in {transformed_df_serial_path} is not a pandas dataframe!\"\n",
    "assert len(df)!=0, \"The serialized dataframe contains no data!\""
   ]
  },
  {
   "cell_type": "code",
   "execution_count": 3,
   "id": "59570df7",
   "metadata": {},
   "outputs": [
    {
     "data": {
      "text/html": [
       "<div>\n",
       "<style scoped>\n",
       "    .dataframe tbody tr th:only-of-type {\n",
       "        vertical-align: middle;\n",
       "    }\n",
       "\n",
       "    .dataframe tbody tr th {\n",
       "        vertical-align: top;\n",
       "    }\n",
       "\n",
       "    .dataframe thead th {\n",
       "        text-align: right;\n",
       "    }\n",
       "</style>\n",
       "<table border=\"1\" class=\"dataframe\">\n",
       "  <thead>\n",
       "    <tr style=\"text-align: right;\">\n",
       "      <th></th>\n",
       "      <th>Disaster_Group</th>\n",
       "      <th>Disaster_Subgroup</th>\n",
       "      <th>Disaster_Type</th>\n",
       "      <th>Country</th>\n",
       "      <th>ISO</th>\n",
       "      <th>Region</th>\n",
       "      <th>Continent</th>\n",
       "      <th>Start_Year</th>\n",
       "      <th>Total_Deaths</th>\n",
       "      <th>No_Affected</th>\n",
       "    </tr>\n",
       "  </thead>\n",
       "  <tbody>\n",
       "    <tr>\n",
       "      <th>0</th>\n",
       "      <td>Natural</td>\n",
       "      <td>Climatological</td>\n",
       "      <td>Drought</td>\n",
       "      <td>Cabo Verde</td>\n",
       "      <td>CPV</td>\n",
       "      <td>Western Africa</td>\n",
       "      <td>Africa</td>\n",
       "      <td>1900</td>\n",
       "      <td>11000</td>\n",
       "      <td>&lt;NA&gt;</td>\n",
       "    </tr>\n",
       "    <tr>\n",
       "      <th>1</th>\n",
       "      <td>Natural</td>\n",
       "      <td>Climatological</td>\n",
       "      <td>Drought</td>\n",
       "      <td>India</td>\n",
       "      <td>IND</td>\n",
       "      <td>Southern Asia</td>\n",
       "      <td>Asia</td>\n",
       "      <td>1900</td>\n",
       "      <td>1250000</td>\n",
       "      <td>&lt;NA&gt;</td>\n",
       "    </tr>\n",
       "    <tr>\n",
       "      <th>2</th>\n",
       "      <td>Natural</td>\n",
       "      <td>Geophysical</td>\n",
       "      <td>Earthquake</td>\n",
       "      <td>Guatemala</td>\n",
       "      <td>GTM</td>\n",
       "      <td>Central America</td>\n",
       "      <td>Americas</td>\n",
       "      <td>1902</td>\n",
       "      <td>2000</td>\n",
       "      <td>&lt;NA&gt;</td>\n",
       "    </tr>\n",
       "    <tr>\n",
       "      <th>3</th>\n",
       "      <td>Natural</td>\n",
       "      <td>Geophysical</td>\n",
       "      <td>Volcanic activity</td>\n",
       "      <td>Guatemala</td>\n",
       "      <td>GTM</td>\n",
       "      <td>Central America</td>\n",
       "      <td>Americas</td>\n",
       "      <td>1902</td>\n",
       "      <td>1000</td>\n",
       "      <td>&lt;NA&gt;</td>\n",
       "    </tr>\n",
       "    <tr>\n",
       "      <th>4</th>\n",
       "      <td>Natural</td>\n",
       "      <td>Geophysical</td>\n",
       "      <td>Volcanic activity</td>\n",
       "      <td>Guatemala</td>\n",
       "      <td>GTM</td>\n",
       "      <td>Central America</td>\n",
       "      <td>Americas</td>\n",
       "      <td>1902</td>\n",
       "      <td>6000</td>\n",
       "      <td>&lt;NA&gt;</td>\n",
       "    </tr>\n",
       "    <tr>\n",
       "      <th>...</th>\n",
       "      <td>...</td>\n",
       "      <td>...</td>\n",
       "      <td>...</td>\n",
       "      <td>...</td>\n",
       "      <td>...</td>\n",
       "      <td>...</td>\n",
       "      <td>...</td>\n",
       "      <td>...</td>\n",
       "      <td>...</td>\n",
       "      <td>...</td>\n",
       "    </tr>\n",
       "    <tr>\n",
       "      <th>16483</th>\n",
       "      <td>Natural</td>\n",
       "      <td>Biological</td>\n",
       "      <td>Epidemic</td>\n",
       "      <td>Congo (the Democratic Republic of the)</td>\n",
       "      <td>COD</td>\n",
       "      <td>Middle Africa</td>\n",
       "      <td>Africa</td>\n",
       "      <td>2022</td>\n",
       "      <td>8</td>\n",
       "      <td>&lt;NA&gt;</td>\n",
       "    </tr>\n",
       "    <tr>\n",
       "      <th>16484</th>\n",
       "      <td>Natural</td>\n",
       "      <td>Biological</td>\n",
       "      <td>Epidemic</td>\n",
       "      <td>Congo (the Democratic Republic of the)</td>\n",
       "      <td>COD</td>\n",
       "      <td>Middle Africa</td>\n",
       "      <td>Africa</td>\n",
       "      <td>2022</td>\n",
       "      <td>5</td>\n",
       "      <td>&lt;NA&gt;</td>\n",
       "    </tr>\n",
       "    <tr>\n",
       "      <th>16485</th>\n",
       "      <td>Natural</td>\n",
       "      <td>Biological</td>\n",
       "      <td>Epidemic</td>\n",
       "      <td>Zimbabwe</td>\n",
       "      <td>ZWE</td>\n",
       "      <td>Eastern Africa</td>\n",
       "      <td>Africa</td>\n",
       "      <td>2022</td>\n",
       "      <td>750</td>\n",
       "      <td>&lt;NA&gt;</td>\n",
       "    </tr>\n",
       "    <tr>\n",
       "      <th>16486</th>\n",
       "      <td>Natural</td>\n",
       "      <td>Biological</td>\n",
       "      <td>Epidemic</td>\n",
       "      <td>Timor-Leste</td>\n",
       "      <td>TLS</td>\n",
       "      <td>South-Eastern Asia</td>\n",
       "      <td>Asia</td>\n",
       "      <td>2022</td>\n",
       "      <td>20</td>\n",
       "      <td>1353</td>\n",
       "    </tr>\n",
       "    <tr>\n",
       "      <th>16487</th>\n",
       "      <td>Natural</td>\n",
       "      <td>Hydrological</td>\n",
       "      <td>Flood</td>\n",
       "      <td>South Sudan</td>\n",
       "      <td>SSD</td>\n",
       "      <td>Northern Africa</td>\n",
       "      <td>Africa</td>\n",
       "      <td>2022</td>\n",
       "      <td>&lt;NA&gt;</td>\n",
       "      <td>1000000</td>\n",
       "    </tr>\n",
       "  </tbody>\n",
       "</table>\n",
       "<p>16488 rows × 10 columns</p>\n",
       "</div>"
      ],
      "text/plain": [
       "      Disaster_Group Disaster_Subgroup      Disaster_Type  \\\n",
       "0            Natural    Climatological            Drought   \n",
       "1            Natural    Climatological            Drought   \n",
       "2            Natural       Geophysical         Earthquake   \n",
       "3            Natural       Geophysical  Volcanic activity   \n",
       "4            Natural       Geophysical  Volcanic activity   \n",
       "...              ...               ...                ...   \n",
       "16483        Natural        Biological           Epidemic   \n",
       "16484        Natural        Biological           Epidemic   \n",
       "16485        Natural        Biological           Epidemic   \n",
       "16486        Natural        Biological           Epidemic   \n",
       "16487        Natural      Hydrological              Flood   \n",
       "\n",
       "                                      Country  ISO              Region  \\\n",
       "0                                  Cabo Verde  CPV      Western Africa   \n",
       "1                                       India  IND       Southern Asia   \n",
       "2                                   Guatemala  GTM     Central America   \n",
       "3                                   Guatemala  GTM     Central America   \n",
       "4                                   Guatemala  GTM     Central America   \n",
       "...                                       ...  ...                 ...   \n",
       "16483  Congo (the Democratic Republic of the)  COD       Middle Africa   \n",
       "16484  Congo (the Democratic Republic of the)  COD       Middle Africa   \n",
       "16485                                Zimbabwe  ZWE      Eastern Africa   \n",
       "16486                             Timor-Leste  TLS  South-Eastern Asia   \n",
       "16487                             South Sudan  SSD     Northern Africa   \n",
       "\n",
       "      Continent  Start_Year  Total_Deaths  No_Affected  \n",
       "0        Africa        1900         11000         <NA>  \n",
       "1          Asia        1900       1250000         <NA>  \n",
       "2      Americas        1902          2000         <NA>  \n",
       "3      Americas        1902          1000         <NA>  \n",
       "4      Americas        1902          6000         <NA>  \n",
       "...         ...         ...           ...          ...  \n",
       "16483    Africa        2022             8         <NA>  \n",
       "16484    Africa        2022             5         <NA>  \n",
       "16485    Africa        2022           750         <NA>  \n",
       "16486      Asia        2022            20         1353  \n",
       "16487    Africa        2022          <NA>      1000000  \n",
       "\n",
       "[16488 rows x 10 columns]"
      ]
     },
     "execution_count": 3,
     "metadata": {},
     "output_type": "execute_result"
    }
   ],
   "source": [
    "df"
   ]
  },
  {
   "cell_type": "code",
   "execution_count": 4,
   "id": "7e5c94b3",
   "metadata": {},
   "outputs": [],
   "source": [
    "import matplotlib.pyplot as plt"
   ]
  },
  {
   "cell_type": "markdown",
   "id": "02688746",
   "metadata": {},
   "source": [
    "Create a time series for the number of deaths for different levels of granularity (world, continent, countries of \n",
    "interest) \n",
    " Check if there are any trends visible in those series and try to understand if those trends are driven by \n",
    "special circumstances (big tsunami, …) or if those trends are persistent "
   ]
  },
  {
   "cell_type": "code",
   "execution_count": 5,
   "id": "f604aa06",
   "metadata": {},
   "outputs": [],
   "source": [
    "# new column (decade)\n",
    "decade = df['Start_Year']//10*10 \n",
    "df['Disaster_Decade'] = decade"
   ]
  },
  {
   "cell_type": "markdown",
   "id": "ab8db1b5",
   "metadata": {},
   "source": [
    "Regrading the missing death data, we have discussed different options, how/ if to include the number of affected. \n",
    "One idea was, to use the number of affected if we do not have the number of deaths. However, this would lead to a big bias in our opinion.\n",
    "Then we had the idea of looking at the data that has both \"no deaths\" and \"no affected\" available. From those data we htought of extracting a percentage with which to multiply the \"no affected\" to get a approximation for the number of deaths. After thinking about this, we still have the impression, that this would change our data significantly and is not a good approximation, as different disasters can (depending on the serverity) have highly different percentages. \n",
    "Therefor we finally decided, even if that meant to leave out about 5.000 data point, to delet the unknown values of deaths and just work with the data where we have definite death numbers - at least for extracting information about the deaths."
   ]
  },
  {
   "cell_type": "code",
   "execution_count": 6,
   "id": "ab584010",
   "metadata": {},
   "outputs": [
    {
     "data": {
      "text/plain": [
       "Disaster_Decade\n",
       "1900    62993.0\n",
       "1910    56508.0\n",
       "1920    99557.0\n",
       "1930    38909.0\n",
       "1940    27315.0\n",
       "1950     7493.0\n",
       "1960     3881.0\n",
       "1970     1624.0\n",
       "1980      697.0\n",
       "1990      256.0\n",
       "2000      265.0\n",
       "2010      185.0\n",
       "2020       55.0\n",
       "Name: Total_Deaths, dtype: Float64"
      ]
     },
     "execution_count": 6,
     "metadata": {},
     "output_type": "execute_result"
    },
    {
     "data": {
      "image/png": "[encoded data removed]",
      "text/plain": [
       "<Figure size 432x288 with 1 Axes>"
      ]
     },
     "metadata": {
      "needs_background": "light"
     },
     "output_type": "display_data"
    }
   ],
   "source": [
    "# calc mean deaths, per Decade and plot them in a bar plot\n",
    "means = df.groupby([\"Disaster_Decade\"]).mean()['Total_Deaths'].round()\n",
    "ax = means.plot(kind = 'bar')\n",
    "ax.set_ylabel('Average deaths')\n",
    "ax.set_xlabel ('Decade of disaster')\n",
    "ax.set_title('Average of deaths per decade from natural disaster')\n",
    "means"
   ]
  },
  {
   "cell_type": "markdown",
   "id": "2afd0716",
   "metadata": {},
   "source": [
    "When having a look at the average deaths per decade due to natural disaster, it can be seen that there was a peek in the 1920th and the number of deaths decreased over the years. However, this does not automatically mean that the number of natural disasters is decreasing. "
   ]
  },
  {
   "cell_type": "code",
   "execution_count": 7,
   "id": "4bbe324a",
   "metadata": {},
   "outputs": [
    {
     "data": {
      "text/plain": [
       "Disaster_Decade\n",
       "1900    231.0\n",
       "1910    500.0\n",
       "1920    233.5\n",
       "1930    200.0\n",
       "1940    190.5\n",
       "1950     88.0\n",
       "1960     57.0\n",
       "1970     35.0\n",
       "1980     34.0\n",
       "1990     22.0\n",
       "2000     13.0\n",
       "2010     13.0\n",
       "2020      7.0\n",
       "Name: Total_Deaths, dtype: Float64"
      ]
     },
     "execution_count": 7,
     "metadata": {},
     "output_type": "execute_result"
    },
    {
     "data": {
      "image/png": "[encoded data removed]",
      "text/plain": [
       "<Figure size 432x288 with 1 Axes>"
      ]
     },
     "metadata": {
      "needs_background": "light"
     },
     "output_type": "display_data"
    }
   ],
   "source": [
    "# calc median deaths, per Decade and plot them in a bar plot\n",
    "medians = df.groupby([\"Disaster_Decade\"]).median()['Total_Deaths']\n",
    "ax = medians.plot(kind = 'bar')\n",
    "ax.set_ylabel('Median deaths')\n",
    "ax.set_xlabel ('Decade of disaster')\n",
    "ax.set_title('Median of deaths per decade from natural disaster')\n",
    "medians"
   ]
  },
  {
   "cell_type": "markdown",
   "id": "2620c9de",
   "metadata": {},
   "source": [
    "The median compared to the mean shows that there seem to have been some events in 1920 leading to a really high number of deaths. Still we can see, that the number of deaths have significantly decreased in the last 90 years."
   ]
  },
  {
   "cell_type": "code",
   "execution_count": 8,
   "id": "9297f263",
   "metadata": {},
   "outputs": [
    {
     "data": {
      "text/plain": [
       "Disaster_Decade\n",
       "1900      79\n",
       "1910      77\n",
       "1920     106\n",
       "1930     135\n",
       "1940     170\n",
       "1950     310\n",
       "1960     593\n",
       "1970     871\n",
       "1980    1755\n",
       "1990    2957\n",
       "2000    4473\n",
       "2010    3758\n",
       "2020    1204\n",
       "Name: Continent, dtype: int64"
      ]
     },
     "execution_count": 8,
     "metadata": {},
     "output_type": "execute_result"
    },
    {
     "data": {
      "image/png": "[encoded data removed]",
      "text/plain": [
       "<Figure size 432x288 with 2 Axes>"
      ]
     },
     "metadata": {
      "needs_background": "light"
     },
     "output_type": "display_data"
    }
   ],
   "source": [
    "# calc count, per Decade and plot them in a bar plot\n",
    "counts = df.groupby([\"Disaster_Decade\"]).count()['Total_Deaths']\n",
    "plt.subplot(1, 2,1)\n",
    "ax = counts.plot(kind = 'bar')\n",
    "ax.set_ylabel('Number of disasters (with known No deaths)')\n",
    "ax.set_xlabel ('Decade of disaster')\n",
    "ax.set_title('Number of disasters with/without known number of deaths')\n",
    "\n",
    "counts = df.groupby([\"Disaster_Decade\"]).count()['Continent']\n",
    "plt.subplot(1, 2, 2)\n",
    "ax = counts.plot(kind = 'bar')\n",
    "ax.set_xlabel ('Decade of disaster')\n",
    "\n",
    "counts"
   ]
  },
  {
   "cell_type": "markdown",
   "id": "f3cad244",
   "metadata": {},
   "source": [
    "Im letzten Jahrzehntist die Anzahl der Toten bzw. Katastrophen natürlich deutlich kleiner, da die Daten nur Informationen bis zum Jahr 2022 enthalten. Wobei das Jahr 2022 noch nicht vollständig abgebildet ist. Diesen Wert müsste man also, um ein korrektes Verhältnis zu erhalten mit etwa 3,5 multiplizieren.\n"
   ]
  },
  {
   "cell_type": "code",
   "execution_count": 9,
   "id": "2c6836fa",
   "metadata": {},
   "outputs": [
    {
     "name": "stdout",
     "output_type": "stream",
     "text": [
      "Last Start_year of data : 2022\n",
      "Hochgerechnete Number of natural disasters 2020-2029: 4214.0\n"
     ]
    }
   ],
   "source": [
    "print(\"Last Start_year of data : \" +str(df[\"Start_Year\"].max()))\n",
    "print( \"Hochgerechnete Number of natural disasters 2020-2029: \" + str(1204*3.5))"
   ]
  },
  {
   "cell_type": "markdown",
   "id": "47eb0ccd",
   "metadata": {},
   "source": [
    "Questions:\n",
    "- Create a time series for the number of deaths for different levels of granularity (world, continent, countries of \n",
    "interest) \n",
    "- Check if there are any trends visible in those series and try to understand if those trends are driven by \n",
    "special circumstances (big tsunami, …) or if those trends are persistent \n",
    "\n",
    "Conclusions:\n",
    "The number of deaths over the last century due to natural disaster has definitly decreased.\n",
    "The number of natural disasters itself however has definitely increased.\n",
    "\n",
    "Trends: Have a look, why the number of deaths in the 1920th is so high."
   ]
  },
  {
   "cell_type": "code",
   "execution_count": null,
   "id": "16e0d902",
   "metadata": {},
   "outputs": [],
   "source": []
  },
  {
   "cell_type": "code",
   "execution_count": null,
   "id": "550be5a7",
   "metadata": {},
   "outputs": [],
   "source": []
  }
 ],
 "metadata": {
  "kernelspec": {
   "display_name": "Python 3 (ipykernel)",
   "language": "python",
   "name": "python3"
  },
  "language_info": {
   "codemirror_mode": {
    "name": "ipython",
    "version": 3
   },
   "file_extension": ".py",
   "mimetype": "text/x-python",
   "name": "python",
   "nbconvert_exporter": "python",
   "pygments_lexer": "ipython3",
   "version": "3.9.12"
  }
 },
 "nbformat": 4,
 "nbformat_minor": 5
}
