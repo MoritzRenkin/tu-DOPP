{
 "cells": [
  {
   "cell_type": "markdown",
   "id": "927a072f",
   "metadata": {},
   "source": [
    "# Management Summary\n",
    "\n",
    "The project aims to address questions related to the impact of natural disasters in the last decades and how they potentially changed due to climate change. The specific questions to be answered are:\n",
    "\n",
    " - How did the number of deaths per year from natural disasters change over the last hundred years?\n",
    " - How does this vary by country? How does this vary by type of natural disaster? \n",
    " - Are there trends visible that could be due to climate change?\n",
    "\n",
    "To answer the questions, the publicly available data set EM-DAT of the Centre for Research on the Epidemiology of Disasters - CRED was used. The characteristics of the dataset are the long history of more than 100 years, the granular distinction between different types of natural disasters and the global coverage. Since the database is compiled from various sources, including UN agencies, non-governmental organizations, insurance companies, research institutes, and press agencies, missing data with respect to the number of deaths or the number of affected people by an event can't be avoided. In our opinion, interpolations are not useful for this kind of data, because natural catastrophes are too diverse and the database is too small to make meaningful adaptations. Where appropriate, the number of people affected by a disaster was used as a proxy instead of the number of deaths. Therefore, in all subsequent evaluations, it must always be taken into account that there are potentially missing data. Based on 16488 catastrophes registered worldwide, the geographic distribution of missing data (in terms of fatalities) is as follows:\n",
    "\n",
    "| Africa | Americas | Asia | Europe | Oceania |\n",
    "| --- | --- | --- | --- |--- |\n",
    "| 947 | 1309 | 1240 | 798 | 353 |"
   ]
  },
  {
   "cell_type": "markdown",
   "id": "049f8edf",
   "metadata": {},
   "source": [
    "### How did the number of deaths per year from natural disasters change over the last hundred years?\n"
   ]
  },
  {
   "cell_type": "markdown",
   "id": "f50a5019",
   "metadata": {},
   "source": [
    "    Number of natural disasters is increasing.\n",
    "\n",
    "    On average 266.000 people per year died from natural disasters over the last 122 years, wheras\n",
    "\n",
    "    On average 65.800 died per year in the last 50 years.\n",
    "\n",
    "    There are less people dying from natural disasters nowadays although there are on average more affected people.\n",
    "    (Grafik 4,8)"
   ]
  },
  {
   "cell_type": "markdown",
   "id": "a771eb03",
   "metadata": {},
   "source": [
    "### How does this vary by country? How does this vary by type of natural disaster?\n"
   ]
  },
  {
   "cell_type": "markdown",
   "id": "03b156c3",
   "metadata": {},
   "source": [
    "### Are there trends visible that could be due to climate change?"
   ]
  },
  {
   "cell_type": "code",
   "execution_count": null,
   "id": "0d0e454e",
   "metadata": {},
   "outputs": [],
   "source": []
  }
 ],
 "metadata": {
  "kernelspec": {
   "display_name": "Python 3 (ipykernel)",
   "language": "python",
   "name": "python3"
  },
  "language_info": {
   "codemirror_mode": {
    "name": "ipython",
    "version": 3
   },
   "file_extension": ".py",
   "mimetype": "text/x-python",
   "name": "python",
   "nbconvert_exporter": "python",
   "pygments_lexer": "ipython3",
   "version": "3.9.12"
  }
 },
 "nbformat": 4,
 "nbformat_minor": 5
}
