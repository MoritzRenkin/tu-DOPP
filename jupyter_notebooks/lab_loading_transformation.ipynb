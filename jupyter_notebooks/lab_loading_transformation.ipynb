{
 "cells": [
  {
   "cell_type": "markdown",
   "id": "8de5b8be",
   "metadata": {},
   "source": [
    "# Lab for loading and transforming the data\n",
    "Responsible: Fabian (01126693)"
   ]
  },
  {
   "cell_type": "markdown",
   "id": "bd21f474",
   "metadata": {},
   "source": [
    "## Task\n",
    "\n",
    "As group 5 we have chosen task 6. Task 6 deals with natural disasters and poses 3 questions to be answered:\n",
    "\n",
    "1. How did the number of deaths per year from natural disasters change over the last hundred years? \n",
    "2. How does this vary by country? How does this vary by type of natural disaster?  \n",
    "3. Are there trends visible that could be due to climate change? \n",
    "\n",
    "Based on the questions posed, some requirements for the data set emerge. Question 1 aims at the change in death counts over the last 100 years. Therefore, the dataset must contain death counts as well as a history as long as possible (optimally in the range of 100 years). Question 2 focuses on the development in different countries and whether there are differences between different types of natural disasters. Therefore, the data set must include both geographic characteristics and attributes to distinguish between different types of natural disasters. "
   ]
  },
  {
   "cell_type": "code",
   "execution_count": 59,
   "id": "5391e80d",
   "metadata": {},
   "outputs": [],
   "source": [
    "import numpy as np\n",
    "import pandas as pd\n",
    "import pickle"
   ]
  },
  {
   "cell_type": "code",
   "execution_count": 60,
   "id": "e44bb934",
   "metadata": {},
   "outputs": [
    {
     "name": "stdout",
     "output_type": "stream",
     "text": [
      "  Disaster_Group Disaster_Subgroup      Disaster_Type     Country  ISO  \\\n",
      "0        Natural    Climatological            Drought  Cabo Verde  CPV   \n",
      "1        Natural    Climatological            Drought       India  IND   \n",
      "2        Natural       Geophysical         Earthquake   Guatemala  GTM   \n",
      "3        Natural       Geophysical  Volcanic activity   Guatemala  GTM   \n",
      "4        Natural       Geophysical  Volcanic activity   Guatemala  GTM   \n",
      "\n",
      "            Region Continent  Start_Year  Total_Deaths  No_Affected  \n",
      "0   Western Africa    Africa        1900       11000.0          NaN  \n",
      "1    Southern Asia      Asia        1900     1250000.0          NaN  \n",
      "2  Central America  Americas        1902        2000.0          NaN  \n",
      "3  Central America  Americas        1902        1000.0          NaN  \n",
      "4  Central America  Americas        1902        6000.0          NaN  \n"
     ]
    }
   ],
   "source": [
    "df_transformed = pd.DataFrame() \n",
    "\n",
    "raw_data = pd.read_csv(\"../data/data_raw.csv\",\n",
    "                       sep = ';')\n",
    "print(raw_data.head(5))\n",
    "raw_data.dtypes\n",
    "df_transformed = raw_data.convert_dtypes()"
   ]
  },
  {
   "cell_type": "markdown",
   "id": "c4d8a613",
   "metadata": {},
   "source": [
    "## Data Source(s)\n",
    "Based on these requirements, publicly available datasets were sought. The 2 most relevant of these are presented briefly here and an explanation is given of how the final choice of dataset was made. \n",
    "\n",
    "### WHO data [<sup>1</sup>](#fn1) ( Explored but not used)\n",
    "\n",
    "The data was queried from the Mortality Database provided by the WHO. With regard to the origin, completeness and scope of the data, the WHO says: \n",
    "\n",
    "> The WHO Mortality Database is a compilation of mortality data by country and area, year, sex, age and cause of death, as transmitted annually by national authorities from their civil registration and vital statistics system. It comprises data since 1950 to date. Only data with at least 65% completeness are published here\n",
    "\n",
    "##### Requirements met\n",
    " - Total death counts per year \n",
    " - Split by country and geographical region \n",
    " - Split by sex (additional information)\n",
    " - Split by age (additional information)\n",
    "\n",
    "##### Requirements not met\n",
    " - Long history missing: data for natural disasters starts 1979\n",
    " - Missing split by type of natural disaster\n",
    " \n",
    "It can be seen that the WHO data are more detailed in terms of gender and age categories, but they have no distinction of natural disaster categories and also have a limited history of only 50 years. \n",
    "\n",
    "### EM-DAT data [<sup>2</sup>](#fn2) (Explored and used)\n",
    "\n",
    "> In 1988, the Centre for Research on the Epidemiology of Disasters (CRED) launched the Emergency  Events Database (EM-DAT). EM-DAT was created with the initial support of the World Health Organisation (WHO) and the Belgian Government.\n",
    ">\n",
    ">The main objective of the database is to serve the purposes of humanitarian action at national and international levels. The initiative aims to rationalise decision making for disaster preparedness, as well as provide an objective base for vulnerability assessment and priority setting.\n",
    ">\n",
    ">EM-DAT contains essential core data on the occurrence and effects of over 22,000 mass disasters in the world from 1900 to the present day. The database is compiled from various sources, including UN agencies, non-governmental organisations, insurance companies, research institutes and press agencies.\n",
    ">\n",
    "> -- Source: https://www.emdat.be/\n",
    "\n",
    "##### Requirements met\n",
    " - Total death counts per event \n",
    " - Country, region and continent information per event\n",
    " - Events dated back till 1900\n",
    " - Disaster type per event\n",
    " \n",
    "Since the questions do not require an analysis based on gender or age categories, but the EM-DAT dataset covers a much longer period (since 1900) and also assigns a category to each natural disaster, this dataset is perfectly suited for the task and therefore used for the analysis. In the following section, a detailed overview of the attributes used in the further analysis will be given. \n",
    "\n",
    "#### Data fields\n",
    "\n",
    " - `Disaster_Group`: Two different types of disasters can be distinguished in the EM-DAT database: natural disasters and technological disasters. Since we are only interested in natural disasters, only they were requested and consequently this field contains only the value *Natural*. No missing values are present for this attribute. \n",
    " - `Disaster_Subgroup`: Every natural disaster is assigned to one of the following six subgroups: *Biological, Geophysical, Climatological, Hydrological, Meteorological and Extra-terrestrial* to describe the type of natural disaster. No missing values are present for this attribute. \n",
    " - `Disaster_type`: For every natural disaster event one main disaster type is identified. If two or more disasters are related because they are consequences of each other, then this information is encoded in the attributes `Associated_Dis` and `Associated_Dis2`. No missing values are present for this attribute. \n",
    " \n",
    "> Types of natural disasters could be further broken down using two more categories which would be available in the database. For example, the Disaster type *Storm* could be further subdivided into *Tropical storm*, *Extra-tropical storm* or *Convective storm*. Even a further subdivision of the category *Convective storm* would be possible. Since the analysis is aimed at detecting trends on a high level, the classification of each event based on the attributes `Disaster_Subgroup` and `Disaster _Type` was considered sufficient and the further subdivisions into `Disaster Subtype` and `Disaster Subsubtype` are not considered in the analysis. For a full list of splits see table 1 (https://public.emdat.be/about).\n",
    "\n",
    " - `Associated_Dis`: Secondary event triggered by a natural disaster (i.e. Landslide for a flood, explosion after an earthquake, ...)\n",
    " - `Associated_Dis2`: Another secondary event triggered by a natural disaster. (i.e. Landslide for a flood, explosion after an earthquake, ...)\n",
    " \n",
    " Example: If a tsunami is triggered by an earthquake, then the attribute `Disaster_Type` would be *Earthquake*, the attribute `Disaster_Subtype` would be *Ground movement* and the attribute `Associated_Dis` would be *Tsunami/Tidal wave*.\n",
    " \n",
    " - `Country`: The country in which the disaster has occurred or had an impact. If a disaster has affected more than one country, a seperate entry is created in the database for each country affected. No missing values are present for this attribute. \n",
    " - `ISO`: Unique 3-letter code for each country defined by ISO 3166. No missing values are present for this attribute. \n",
    " - `Region`: The region to which the country belongs, based on the UN regional division. No missing values are present for this attribute. \n",
    " - `Continent`: The continent to which the country belongs. No missing values are present for this attribute. \n",
    " - `Start_Year`: The year when the disaster occurred. No missing values are present for this attribute. \n",
    " \n",
    "> For sudden-impact disasters also the month and the day are well defined and available. For disaster situations developing gradually over a longer time period (i.e. drought) with no specific start date the day attribute is empty. For our questions the exact date plays a subordinate role and therefore the year of the beginning of the disaster is completely sufficient for our analysis.    \n",
    "\n",
    " - `Total_Deaths`: Number of people who lost their life because the event happened plus the number of people whose whereabouts since the disaster are unknown, and presumed dead based on official figures. Missing values present for approx. 25% of all events.\n",
    " \n",
    " - `No_Affected`: Number of people which requiring immediate assistance during an emergency situation. The indicator affected is often reported and is widely used by different actors to convey the extent, impact, or severity of a disaster in non-spatial terms. In case that no values for the attribute `Total_Deaths` are available this attribute could be used as a proxy. "
   ]
  },
  {
   "cell_type": "markdown",
   "id": "540d8b62",
   "metadata": {},
   "source": [
    "We can serialize the transformed dataframe with pickle; it is better than saving to csv because it will include data types etc."
   ]
  },
  {
   "cell_type": "code",
   "execution_count": 61,
   "id": "f850d048",
   "metadata": {
    "scrolled": true
   },
   "outputs": [],
   "source": [
    "transformed_df_serial_path = \"../data/data_transformed.pickle\"\n",
    "\n",
    "# some sanity checks\n",
    "assert isinstance(df_transformed, pd.DataFrame), \"\\\"df_transformed\\\" is not a pandas dataframe!\"\n",
    "\n",
    "assert len(df_transformed)!=0, \"\\\"df_transformed\\\" contains no data!\"\n",
    "\n",
    "# serializing the dataframe object to a binary file\n",
    "with open(transformed_df_serial_path, 'wb') as file:\n",
    "    pickle.dump(df_transformed, file)"
   ]
  },
  {
   "cell_type": "markdown",
   "id": "ce3883ec",
   "metadata": {},
   "source": [
    "<sup>1</sup> WHO data: <span id=\"fn1\"> https://platform.who.int/mortality/themes/theme-details/topics/indicator-groups/indicator-group-details/MDB/natural-disasters</span>\n",
    "\n",
    "<sup>2</sup> EM-dat data: <span id=\"fn2\"> https://public.emdat.be/data Based on the terms of use, the data can be used for this exercise:  \n",
    "    \n",
    "> If you are an academic organization, a university, a non-profit research institution and/or an international public organization (UN agencies, multi-lateral banks, other multi-lateral institution and national governments) and/or part of a Media agency (journalist, press agencies) with the intention to use the EM-DAT database (hereafter ‘EM-DAT’) for research, teaching or information purposes, you shall, conditional upon the acceptance of the present conditions of use, be granted free access to EM-DAT (also ‘Authorized Use’)."
   ]
  },
  {
   "cell_type": "code",
   "execution_count": null,
   "id": "db443e84",
   "metadata": {},
   "outputs": [],
   "source": []
  },
  {
   "cell_type": "code",
   "execution_count": null,
   "id": "20f19e97",
   "metadata": {},
   "outputs": [],
   "source": []
  }
 ],
 "metadata": {
  "kernelspec": {
   "display_name": "Python 3",
   "language": "python",
   "name": "python3"
  },
  "language_info": {
   "codemirror_mode": {
    "name": "ipython",
    "version": 3
   },
   "file_extension": ".py",
   "mimetype": "text/x-python",
   "name": "python",
   "nbconvert_exporter": "python",
   "pygments_lexer": "ipython3",
   "version": "3.8.8"
  }
 },
 "nbformat": 4,
 "nbformat_minor": 5
}
