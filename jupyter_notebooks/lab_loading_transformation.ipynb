{
 "cells": [
  {
   "cell_type": "markdown",
   "id": "8de5b8be",
   "metadata": {},
   "source": [
    "# Lab for loading and transforming the data\n",
    "Responsible: Fabian"
   ]
  },
  {
   "cell_type": "code",
   "execution_count": null,
   "id": "5391e80d",
   "metadata": {},
   "outputs": [],
   "source": [
    "import numpy as np\n",
    "import pandas as pd\n",
    "import pickle"
   ]
  },
  {
   "cell_type": "markdown",
   "id": "c4d8a613",
   "metadata": {},
   "source": [
    "# Ideas\n",
    "\n",
    "for text entries: Cell > Cell Type > Markdown\n",
    "\n",
    "* Idea 1\n",
    "    *sub idea"
   ]
  },
  {
   "cell_type": "code",
   "execution_count": null,
   "id": "8aa866f5",
   "metadata": {},
   "outputs": [],
   "source": [
    "df_transformed = pd.DataFrame() \n",
    "# TODO add transformation code"
   ]
  },
  {
   "cell_type": "markdown",
   "id": "540d8b62",
   "metadata": {},
   "source": [
    "We can serialize the transformed dataframe with pickle; it is better than saving to csv because it will include data types etc."
   ]
  },
  {
   "cell_type": "code",
   "execution_count": null,
   "id": "f850d048",
   "metadata": {
    "scrolled": true
   },
   "outputs": [],
   "source": [
    "transformed_df_serial_path = \"../data/data_transformed.pickle\"\n",
    "\n",
    "# some sanity checks\n",
    "assert isinstance(df_transformed, pd.DataFrame), \"\\\"df_transformed\\\" is not a pandas dataframe!\"\n",
    "\n",
    "assert len(df_transformed)!=0, \"\\\"df_transformed\\\" contains no data!\"\n",
    "\n",
    "# serializing the dataframe object to a binary file\n",
    "with open(transformed_df_serial_path, 'wb') as file:\n",
    "    pickle.dump(df_transformed, file)"
   ]
  }
 ],
 "metadata": {
  "kernelspec": {
   "display_name": "Python 3 (ipykernel)",
   "language": "python",
   "name": "python3"
  },
  "language_info": {
   "codemirror_mode": {
    "name": "ipython",
    "version": 3
   },
   "file_extension": ".py",
   "mimetype": "text/x-python",
   "name": "python",
   "nbconvert_exporter": "python",
   "pygments_lexer": "ipython3",
   "version": "3.9.2"
  }
 },
 "nbformat": 4,
 "nbformat_minor": 5
}
