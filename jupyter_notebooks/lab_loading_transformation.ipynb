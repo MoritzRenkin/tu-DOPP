{
 "cells": [
  {
   "cell_type": "markdown",
   "id": "8de5b8be",
   "metadata": {},
   "source": [
    "# Lab for loading and transforming the data\n",
    "Responsible: Fabian (01126693)"
   ]
  },
  {
   "cell_type": "markdown",
   "id": "bd21f474",
   "metadata": {},
   "source": [
    "## Task\n",
    "\n",
    "As group 5 we have chosen task 6. Task 6 deals with natural disasters and poses 3 questions to be answered:\n",
    "\n",
    "1. How did the number of deaths per year from natural disasters change over the last hundred years? \n",
    "2. How does this vary by country? How does this vary by type of natural disaster?  \n",
    "3. Are there trends visible that could be due to climate change? \n",
    "\n",
    "Based on the questions posed, some requirements for the data set emerge. Question 1 aims at the change in death counts over the last 100 years. Therefore, the dataset must contain death counts as well as a history as long as possible (optimally in the range of 100 years). Question 2 focuses on the development in different countries and whether there are differences between different types of natural disasters. Therefore, the data set must include both geographic characteristics and attributes to distinguish between different types of natural disasters. "
   ]
  },
  {
   "cell_type": "code",
   "execution_count": 1,
   "id": "5391e80d",
   "metadata": {},
   "outputs": [],
   "source": [
    "import numpy as np\n",
    "import pandas as pd\n",
    "import pickle\n",
    "from collections import OrderedDict, defaultdict"
   ]
  },
  {
   "cell_type": "code",
   "execution_count": 2,
   "id": "e44bb934",
   "metadata": {},
   "outputs": [
    {
     "data": {
      "text/plain": "'\\nraw_data = pd.read_csv(\"../data/data_raw.csv\",\\n                       sep = \\';\\') # manually specify columns to keep\\nprint(raw_data.head(5))\\nraw_data.dtypes\\ndf_transformed = raw_data.convert_dtypes()\\n'"
     },
     "execution_count": 2,
     "metadata": {},
     "output_type": "execute_result"
    }
   ],
   "source": [
    "df_transformed = pd.DataFrame() \n",
    "'''\n",
    "raw_data = pd.read_csv(\"../data/data_raw.csv\",\n",
    "                       sep = ';') # manually specify columns to keep\n",
    "print(raw_data.head(5))\n",
    "raw_data.dtypes\n",
    "df_transformed = raw_data.convert_dtypes()\n",
    "'''"
   ]
  },
  {
   "cell_type": "code",
   "execution_count": 3,
   "id": "89ac01fe",
   "metadata": {},
   "outputs": [
    {
     "name": "stderr",
     "output_type": "stream",
     "text": [
      "C:\\Users\\Koffe\\AppData\\Local\\Programs\\Python\\Python311\\Lib\\site-packages\\openpyxl\\styles\\stylesheet.py:226: UserWarning: Workbook contains no default style, apply openpyxl's default\n",
      "  warn(\"Workbook contains no default style, apply openpyxl's default\")\n"
     ]
    },
    {
     "data": {
      "text/plain": "  Disaster_Group Disaster_Subgroup      Disaster_Type Disaster_Subtype  \\\n0        Natural    Climatological            Drought          Drought   \n1        Natural    Climatological            Drought          Drought   \n2        Natural       Geophysical         Earthquake  Ground movement   \n3        Natural       Geophysical  Volcanic activity         Ash fall   \n4        Natural       Geophysical  Volcanic activity         Ash fall   \n\n  Disaster_Subsubtype     Country  ISO           Region Continent  \\\n0                 NaN  Cabo Verde  CPV   Western Africa    Africa   \n1                 NaN       India  IND    Southern Asia      Asia   \n2                 NaN   Guatemala  GTM  Central America  Americas   \n3                 NaN   Guatemala  GTM  Central America  Americas   \n4                 NaN   Guatemala  GTM  Central America  Americas   \n\n       Associated_Dis Associated_Dis2  Start_Year  End_Year  Total_Deaths  \\\n0              Famine             NaN        1900      1900       11000.0   \n1                 NaN             NaN        1900      1900     1250000.0   \n2  Tsunami/Tidal wave             NaN        1902      1902        2000.0   \n3                 NaN             NaN        1902      1902        1000.0   \n4                 NaN             NaN        1902      1902        6000.0   \n\n   Total_Affected  \n0             NaN  \n1             NaN  \n2             NaN  \n3             NaN  \n4             NaN  ",
      "text/html": "<div>\n<style scoped>\n    .dataframe tbody tr th:only-of-type {\n        vertical-align: middle;\n    }\n\n    .dataframe tbody tr th {\n        vertical-align: top;\n    }\n\n    .dataframe thead th {\n        text-align: right;\n    }\n</style>\n<table border=\"1\" class=\"dataframe\">\n  <thead>\n    <tr style=\"text-align: right;\">\n      <th></th>\n      <th>Disaster_Group</th>\n      <th>Disaster_Subgroup</th>\n      <th>Disaster_Type</th>\n      <th>Disaster_Subtype</th>\n      <th>Disaster_Subsubtype</th>\n      <th>Country</th>\n      <th>ISO</th>\n      <th>Region</th>\n      <th>Continent</th>\n      <th>Associated_Dis</th>\n      <th>Associated_Dis2</th>\n      <th>Start_Year</th>\n      <th>End_Year</th>\n      <th>Total_Deaths</th>\n      <th>Total_Affected</th>\n    </tr>\n  </thead>\n  <tbody>\n    <tr>\n      <th>0</th>\n      <td>Natural</td>\n      <td>Climatological</td>\n      <td>Drought</td>\n      <td>Drought</td>\n      <td>NaN</td>\n      <td>Cabo Verde</td>\n      <td>CPV</td>\n      <td>Western Africa</td>\n      <td>Africa</td>\n      <td>Famine</td>\n      <td>NaN</td>\n      <td>1900</td>\n      <td>1900</td>\n      <td>11000.0</td>\n      <td>NaN</td>\n    </tr>\n    <tr>\n      <th>1</th>\n      <td>Natural</td>\n      <td>Climatological</td>\n      <td>Drought</td>\n      <td>Drought</td>\n      <td>NaN</td>\n      <td>India</td>\n      <td>IND</td>\n      <td>Southern Asia</td>\n      <td>Asia</td>\n      <td>NaN</td>\n      <td>NaN</td>\n      <td>1900</td>\n      <td>1900</td>\n      <td>1250000.0</td>\n      <td>NaN</td>\n    </tr>\n    <tr>\n      <th>2</th>\n      <td>Natural</td>\n      <td>Geophysical</td>\n      <td>Earthquake</td>\n      <td>Ground movement</td>\n      <td>NaN</td>\n      <td>Guatemala</td>\n      <td>GTM</td>\n      <td>Central America</td>\n      <td>Americas</td>\n      <td>Tsunami/Tidal wave</td>\n      <td>NaN</td>\n      <td>1902</td>\n      <td>1902</td>\n      <td>2000.0</td>\n      <td>NaN</td>\n    </tr>\n    <tr>\n      <th>3</th>\n      <td>Natural</td>\n      <td>Geophysical</td>\n      <td>Volcanic activity</td>\n      <td>Ash fall</td>\n      <td>NaN</td>\n      <td>Guatemala</td>\n      <td>GTM</td>\n      <td>Central America</td>\n      <td>Americas</td>\n      <td>NaN</td>\n      <td>NaN</td>\n      <td>1902</td>\n      <td>1902</td>\n      <td>1000.0</td>\n      <td>NaN</td>\n    </tr>\n    <tr>\n      <th>4</th>\n      <td>Natural</td>\n      <td>Geophysical</td>\n      <td>Volcanic activity</td>\n      <td>Ash fall</td>\n      <td>NaN</td>\n      <td>Guatemala</td>\n      <td>GTM</td>\n      <td>Central America</td>\n      <td>Americas</td>\n      <td>NaN</td>\n      <td>NaN</td>\n      <td>1902</td>\n      <td>1902</td>\n      <td>6000.0</td>\n      <td>NaN</td>\n    </tr>\n  </tbody>\n</table>\n</div>"
     },
     "execution_count": 3,
     "metadata": {},
     "output_type": "execute_result"
    }
   ],
   "source": [
    "raw_xlsx = pd.read_excel(\"../data/emdat.xlsx\",\n",
    "                         skiprows = 5,\n",
    "                         header = 1,\n",
    "                         usecols = ['Disaster Group',\n",
    "                                    'Disaster Subgroup',\n",
    "                                    'Disaster Type',\n",
    "                                    'Disaster Subtype',\n",
    "                                    'Disaster Subsubtype',\n",
    "                                    'Associated Dis',\n",
    "                                    'Associated Dis2',\n",
    "                                    'Country',\n",
    "                                    'ISO',\n",
    "                                    'Region',\n",
    "                                    'Continent',\n",
    "                                    'Start Year',\n",
    "                                    'End Year',\n",
    "                                    'Total Deaths',\n",
    "                                    'Total Affected'])\n",
    "raw_xlsx.columns = raw_xlsx.columns.str.replace(' ', '_')\n",
    "raw_xlsx.head()"
   ]
  },
  {
   "cell_type": "code",
   "execution_count": 4,
   "id": "ecc8ebb8",
   "metadata": {},
   "outputs": [
    {
     "data": {
      "text/plain": "Disaster_Group         string\nDisaster_Subgroup      string\nDisaster_Type          string\nDisaster_Subtype       string\nDisaster_Subsubtype    string\nCountry                string\nISO                    string\nRegion                 string\nContinent              string\nAssociated_Dis         string\nAssociated_Dis2        string\nStart_Year              Int64\nEnd_Year                Int64\nTotal_Deaths            Int64\nTotal_Affected          Int64\ndtype: object"
     },
     "execution_count": 4,
     "metadata": {},
     "output_type": "execute_result"
    }
   ],
   "source": [
    "df_transformed = raw_xlsx.convert_dtypes()\n",
    "df_transformed.dtypes"
   ]
  },
  {
   "cell_type": "markdown",
   "id": "c4d8a613",
   "metadata": {},
   "source": [
    "## Data Source(s)\n",
    "Based on these requirements, publicly available datasets were sought. The 2 most relevant of these are presented briefly here and an explanation is given of how the final choice of dataset was made. \n",
    "\n",
    "### WHO data [<sup>1</sup>](#fn1) ( Explored but not used)\n",
    "\n",
    "The data was queried from the Mortality Database provided by the WHO. With regard to the origin, completeness and scope of the data, the WHO says: \n",
    "\n",
    "> The WHO Mortality Database is a compilation of mortality data by country and area, year, sex, age and cause of death, as transmitted annually by national authorities from their civil registration and vital statistics system. It comprises data since 1950 to date. Only data with at least 65% completeness are published here\n",
    "\n",
    "##### Requirements met\n",
    " - Total death counts per year \n",
    " - Split by country and geographical region \n",
    " - Split by sex (additional information)\n",
    " - Split by age (additional information)\n",
    "\n",
    "##### Requirements not met\n",
    " - Long history missing: data for natural disasters starts 1979\n",
    " - Missing split by type of natural disaster\n",
    " \n",
    "It can be seen that the WHO data are more detailed in terms of gender and age categories, but they have no distinction of natural disaster categories and also have a limited history of only 50 years. \n",
    "\n",
    "### EM-DAT data [<sup>2</sup>](#fn2) (Explored and used)\n",
    "\n",
    "> In 1988, the Centre for Research on the Epidemiology of Disasters (CRED) launched the Emergency  Events Database (EM-DAT). EM-DAT was created with the initial support of the World Health Organisation (WHO) and the Belgian Government.\n",
    ">\n",
    ">The main objective of the database is to serve the purposes of humanitarian action at national and international levels. The initiative aims to rationalise decision making for disaster preparedness, as well as provide an objective base for vulnerability assessment and priority setting.\n",
    ">\n",
    ">EM-DAT contains essential core data on the occurrence and effects of over 22,000 mass disasters in the world from 1900 to the present day. The database is compiled from various sources, including UN agencies, non-governmental organisations, insurance companies, research institutes and press agencies.\n",
    ">\n",
    "> -- Source: https://www.emdat.be/\n",
    "\n",
    "##### Requirements met\n",
    " - Total death counts per event \n",
    " - Country, region and continent information per event\n",
    " - Events dated back till 1900\n",
    " - Disaster type per event\n",
    " \n",
    "Since the questions do not require an analysis based on gender or age categories, but the EM-DAT dataset covers a much longer period (since 1900) and also assigns a category to each natural disaster, this dataset is perfectly suited for the task and therefore used for the analysis. In the following section, a detailed overview of the attributes used in the further analysis will be given. \n",
    "\n",
    "#### Data fields\n",
    "\n",
    " - `Disaster_Group`: Two different types of disasters can be distinguished in the EM-DAT database: natural disasters and technological disasters. Since we are only interested in natural disasters, only they were requested and consequently this field contains only the value *Natural*. No missing values are present for this attribute. \n",
    " - `Disaster_Subgroup`: Every natural disaster is assigned to one of the following six subgroups: *Biological, Geophysical, Climatological, Hydrological, Meteorological and Extra-terrestrial* to describe the type of natural disaster. No missing values are present for this attribute. \n",
    " - `Disaster_type`: For every natural disaster event one main disaster type is identified. If two or more disasters are related because they are consequences of each other, then this information is encoded in the attributes `Associated_Dis` and `Associated_Dis2`. No missing values are present for this attribute. \n",
    " \n",
    "> Types of natural disasters could be further broken down using two more categories which would be available in the database. For example, the Disaster type *Storm* could be further subdivided into *Tropical storm*, *Extra-tropical storm* or *Convective storm*. Even a further subdivision of the category *Convective storm* would be possible. Since the analysis is aimed at detecting trends on a high level, the classification of each event based on the attributes `Disaster_Subgroup` and `Disaster _Type` was considered sufficient and the further subdivisions into `Disaster Subtype` and `Disaster Subsubtype` are not considered in the analysis. The full table is saved in /data/disaster_classification (w/o the technological disaster group) and shown in the Appendix of this notebook.\n",
    "\n",
    " - `Associated_Dis`: Secondary event triggered by a natural disaster (i.e. Landslide for a flood, explosion after an earthquake, ...)\n",
    " - `Associated_Dis2`: Another secondary event triggered by a natural disaster. (i.e. Landslide for a flood, explosion after an earthquake, ...)\n",
    " \n",
    " Example: If a tsunami is triggered by an earthquake, then the attribute `Disaster_Type` would be *Earthquake*, the attribute `Disaster_Subtype` would be *Ground movement* and the attribute `Associated_Dis` would be *Tsunami/Tidal wave*.\n",
    " \n",
    " - `Country`: The country in which the disaster has occurred or had an impact. If a disaster has affected more than one country, a seperate entry is created in the database for each country affected. No missing values are present for this attribute. \n",
    " - `ISO`: Unique 3-letter code for each country defined by ISO 3166. No missing values are present for this attribute. \n",
    " - `Region`: The region to which the country belongs, based on the UN regional division. No missing values are present for this attribute. \n",
    " - `Continent`: The continent to which the country belongs. No missing values are present for this attribute. \n",
    " - `Start_Year`: The year when the disaster occurred. No missing values are present for this attribute. \n",
    " \n",
    "> For sudden-impact disasters also the month and the day are well defined and available. For disaster situations developing gradually over a longer time period (i.e. drought) with no specific start date the day attribute is empty. For our questions the exact date plays a subordinate role and therefore the year of the beginning of the disaster is completely sufficient for our analysis.    \n",
    "\n",
    " - `Total_Deaths`: Number of people who lost their life because the event happened plus the number of people whose whereabouts since the disaster are unknown, and presumed dead based on official figures. Missing values present for approx. 25% of all events.\n",
    " \n",
    " - `No_Affected`: Number of people which requiring immediate assistance during an emergency situation. The indicator affected is often reported and is widely used by different actors to convey the extent, impact, or severity of a disaster in non-spatial terms. In case that no values for the attribute `Total_Deaths` are available this attribute could be used as a proxy. "
   ]
  },
  {
   "cell_type": "markdown",
   "id": "540d8b62",
   "metadata": {},
   "source": [
    "We can serialize the transformed dataframe with pickle; it is better than saving to csv because it will include data types etc."
   ]
  },
  {
   "cell_type": "code",
   "execution_count": 5,
   "id": "f850d048",
   "metadata": {
    "scrolled": true
   },
   "outputs": [],
   "source": [
    "transformed_df_serial_path = \"../data/data_transformed.pickle\"\n",
    "\n",
    "# some sanity checks\n",
    "assert isinstance(df_transformed, pd.DataFrame), \"\\\"df_transformed\\\" is not a pandas dataframe!\"\n",
    "\n",
    "assert len(df_transformed)!=0, \"\\\"df_transformed\\\" contains no data!\"\n",
    "\n",
    "# serializing the dataframe object to a binary file\n",
    "with open(transformed_df_serial_path, 'wb') as file:\n",
    "    pickle.dump(df_transformed, file)"
   ]
  },
  {
   "cell_type": "markdown",
   "id": "ce3883ec",
   "metadata": {},
   "source": [
    "<sup>1</sup> WHO data: <span id=\"fn1\"> https://platform.who.int/mortality/themes/theme-details/topics/indicator-groups/indicator-group-details/MDB/natural-disasters</span>\n",
    "\n",
    "<sup>2</sup> EM-dat data: <span id=\"fn2\"> https://public.emdat.be/data Based on the terms of use, the data can be used for this exercise:  \n",
    "    \n",
    "> If you are an academic organization, a university, a non-profit research institution and/or an international public organization (UN agencies, multi-lateral banks, other multilateral institution and national governments) and/or part of a Media agency (journalist, press agencies) with the intention to use the EM-DAT database (hereafter ‘EM-DAT’) for research, teaching or information purposes, you shall, conditional upon the acceptance of the present conditions of use, be granted free access to EM-DAT (also ‘Authorized Use’)."
   ]
  },
  {
   "cell_type": "markdown",
   "id": "41c708fa",
   "metadata": {},
   "source": [
    "Filter and dropping of columns in pandas. delete columns \n",
    "Specifiy which data is downloaded from EM data\n",
    "table with categories also in the notebook\n",
    "add Sub-Type and subsubßType to data \n",
    "Explicitly stasting that data is missing\n"
   ]
  },
  {
   "cell_type": "markdown",
   "source": [
    "## Yearly Deaths"
   ],
   "metadata": {
    "collapsed": false
   }
  },
  {
   "cell_type": "code",
   "execution_count": 6,
   "outputs": [
    {
     "data": {
      "text/plain": "       Start_Year  Total_Deaths                                 Country  \\\n0            1900         11000                              Cabo Verde   \n1            1900       1250000                                   India   \n2            1902          2000                               Guatemala   \n3            1902          1000                               Guatemala   \n4            1902          6000                               Guatemala   \n...           ...           ...                                     ...   \n16483        2022             8  Congo (the Democratic Republic of the)   \n16484        2022             5  Congo (the Democratic Republic of the)   \n16485        2022           750                                Zimbabwe   \n16486        2022            20                             Timor-Leste   \n16487        2022          <NA>                             South Sudan   \n\n       Duration_CalendarYears  Yearly_Disaster_Deaths  \n0                           0                 11000.0  \n1                           0               1250000.0  \n2                           0                  2000.0  \n3                           0                  1000.0  \n4                           0                  6000.0  \n...                       ...                     ...  \n16483                       0                     8.0  \n16484                       0                     5.0  \n16485                       0                   750.0  \n16486                       0                    20.0  \n16487                       0                    <NA>  \n\n[16488 rows x 5 columns]",
      "text/html": "<div>\n<style scoped>\n    .dataframe tbody tr th:only-of-type {\n        vertical-align: middle;\n    }\n\n    .dataframe tbody tr th {\n        vertical-align: top;\n    }\n\n    .dataframe thead th {\n        text-align: right;\n    }\n</style>\n<table border=\"1\" class=\"dataframe\">\n  <thead>\n    <tr style=\"text-align: right;\">\n      <th></th>\n      <th>Start_Year</th>\n      <th>Total_Deaths</th>\n      <th>Country</th>\n      <th>Duration_CalendarYears</th>\n      <th>Yearly_Disaster_Deaths</th>\n    </tr>\n  </thead>\n  <tbody>\n    <tr>\n      <th>0</th>\n      <td>1900</td>\n      <td>11000</td>\n      <td>Cabo Verde</td>\n      <td>0</td>\n      <td>11000.0</td>\n    </tr>\n    <tr>\n      <th>1</th>\n      <td>1900</td>\n      <td>1250000</td>\n      <td>India</td>\n      <td>0</td>\n      <td>1250000.0</td>\n    </tr>\n    <tr>\n      <th>2</th>\n      <td>1902</td>\n      <td>2000</td>\n      <td>Guatemala</td>\n      <td>0</td>\n      <td>2000.0</td>\n    </tr>\n    <tr>\n      <th>3</th>\n      <td>1902</td>\n      <td>1000</td>\n      <td>Guatemala</td>\n      <td>0</td>\n      <td>1000.0</td>\n    </tr>\n    <tr>\n      <th>4</th>\n      <td>1902</td>\n      <td>6000</td>\n      <td>Guatemala</td>\n      <td>0</td>\n      <td>6000.0</td>\n    </tr>\n    <tr>\n      <th>...</th>\n      <td>...</td>\n      <td>...</td>\n      <td>...</td>\n      <td>...</td>\n      <td>...</td>\n    </tr>\n    <tr>\n      <th>16483</th>\n      <td>2022</td>\n      <td>8</td>\n      <td>Congo (the Democratic Republic of the)</td>\n      <td>0</td>\n      <td>8.0</td>\n    </tr>\n    <tr>\n      <th>16484</th>\n      <td>2022</td>\n      <td>5</td>\n      <td>Congo (the Democratic Republic of the)</td>\n      <td>0</td>\n      <td>5.0</td>\n    </tr>\n    <tr>\n      <th>16485</th>\n      <td>2022</td>\n      <td>750</td>\n      <td>Zimbabwe</td>\n      <td>0</td>\n      <td>750.0</td>\n    </tr>\n    <tr>\n      <th>16486</th>\n      <td>2022</td>\n      <td>20</td>\n      <td>Timor-Leste</td>\n      <td>0</td>\n      <td>20.0</td>\n    </tr>\n    <tr>\n      <th>16487</th>\n      <td>2022</td>\n      <td>&lt;NA&gt;</td>\n      <td>South Sudan</td>\n      <td>0</td>\n      <td>&lt;NA&gt;</td>\n    </tr>\n  </tbody>\n</table>\n<p>16488 rows × 5 columns</p>\n</div>"
     },
     "execution_count": 6,
     "metadata": {},
     "output_type": "execute_result"
    }
   ],
   "source": [
    "custom_index = [\"Country\"]\n",
    "\n",
    "df: pd.DataFrame = df_transformed.loc[:,[\"Start_Year\", \"End_Year\", \"Total_Deaths\"] + custom_index]\n",
    "df[\"Duration_CalendarYears\"] = df[\"End_Year\"].subtract(df[\"Start_Year\"], fill_value=0)\n",
    "df.drop(\"End_Year\", axis=1, inplace=True)\n",
    "df[\"Yearly_Disaster_Deaths\"] = df[\"Total_Deaths\"].div(df[\"Duration_CalendarYears\"]+1, fill_value=np.NaN)\n",
    "df"
   ],
   "metadata": {
    "collapsed": false
   }
  },
  {
   "cell_type": "code",
   "execution_count": 16,
   "outputs": [
    {
     "name": "stdout",
     "output_type": "stream",
     "text": [
      "-------------\n",
      "curr_year: 1910\n"
     ]
    },
    {
     "data": {
      "text/plain": "                                    Yearly_Disaster_Deaths\nDuration_CalendarYears Country                            \n4                      Niger (the)                 17000.0",
      "text/html": "<div>\n<style scoped>\n    .dataframe tbody tr th:only-of-type {\n        vertical-align: middle;\n    }\n\n    .dataframe tbody tr th {\n        vertical-align: top;\n    }\n\n    .dataframe thead th {\n        text-align: right;\n    }\n</style>\n<table border=\"1\" class=\"dataframe\">\n  <thead>\n    <tr style=\"text-align: right;\">\n      <th></th>\n      <th></th>\n      <th>Yearly_Disaster_Deaths</th>\n    </tr>\n    <tr>\n      <th>Duration_CalendarYears</th>\n      <th>Country</th>\n      <th></th>\n    </tr>\n  </thead>\n  <tbody>\n    <tr>\n      <th>4</th>\n      <th>Niger (the)</th>\n      <td>17000.0</td>\n    </tr>\n  </tbody>\n</table>\n</div>"
     },
     "metadata": {},
     "output_type": "display_data"
    },
    {
     "data": {
      "text/plain": "(4,\n                                     Yearly_Disaster_Deaths\n Duration_CalendarYears Country                            \n 4                      Niger (the)                 17000.0)"
     },
     "metadata": {},
     "output_type": "display_data"
    },
    {
     "name": "stdout",
     "output_type": "stream",
     "text": [
      "                Country  Yearly_Disaster_Deaths\n",
      "Start_Year                                     \n",
      "1914        Niger (the)                 17000.0\n",
      "-------------\n",
      "curr_year: 1940\n"
     ]
    },
    {
     "data": {
      "text/plain": "                                   Yearly_Disaster_Deaths\nDuration_CalendarYears Country                           \n4                      Cabo Verde                  4000.0",
      "text/html": "<div>\n<style scoped>\n    .dataframe tbody tr th:only-of-type {\n        vertical-align: middle;\n    }\n\n    .dataframe tbody tr th {\n        vertical-align: top;\n    }\n\n    .dataframe thead th {\n        text-align: right;\n    }\n</style>\n<table border=\"1\" class=\"dataframe\">\n  <thead>\n    <tr style=\"text-align: right;\">\n      <th></th>\n      <th></th>\n      <th>Yearly_Disaster_Deaths</th>\n    </tr>\n    <tr>\n      <th>Duration_CalendarYears</th>\n      <th>Country</th>\n      <th></th>\n    </tr>\n  </thead>\n  <tbody>\n    <tr>\n      <th>4</th>\n      <th>Cabo Verde</th>\n      <td>4000.0</td>\n    </tr>\n  </tbody>\n</table>\n</div>"
     },
     "metadata": {},
     "output_type": "display_data"
    },
    {
     "data": {
      "text/plain": "(4,\n                                    Yearly_Disaster_Deaths\n Duration_CalendarYears Country                           \n 4                      Cabo Verde                  4000.0)"
     },
     "metadata": {},
     "output_type": "display_data"
    },
    {
     "name": "stdout",
     "output_type": "stream",
     "text": [
      "               Country  Yearly_Disaster_Deaths\n",
      "Start_Year                                    \n",
      "1944        Cabo Verde                  4000.0\n",
      "-------------\n",
      "curr_year: 1959\n"
     ]
    },
    {
     "data": {
      "text/plain": "                                Yearly_Disaster_Deaths\nDuration_CalendarYears Country                        \n2                      China             666666.666667",
      "text/html": "<div>\n<style scoped>\n    .dataframe tbody tr th:only-of-type {\n        vertical-align: middle;\n    }\n\n    .dataframe tbody tr th {\n        vertical-align: top;\n    }\n\n    .dataframe thead th {\n        text-align: right;\n    }\n</style>\n<table border=\"1\" class=\"dataframe\">\n  <thead>\n    <tr style=\"text-align: right;\">\n      <th></th>\n      <th></th>\n      <th>Yearly_Disaster_Deaths</th>\n    </tr>\n    <tr>\n      <th>Duration_CalendarYears</th>\n      <th>Country</th>\n      <th></th>\n    </tr>\n  </thead>\n  <tbody>\n    <tr>\n      <th>2</th>\n      <th>China</th>\n      <td>666666.666667</td>\n    </tr>\n  </tbody>\n</table>\n</div>"
     },
     "metadata": {},
     "output_type": "display_data"
    },
    {
     "data": {
      "text/plain": "(2,\n                                 Yearly_Disaster_Deaths\n Duration_CalendarYears Country                        \n 2                      China             666666.666667)"
     },
     "metadata": {},
     "output_type": "display_data"
    },
    {
     "name": "stdout",
     "output_type": "stream",
     "text": [
      "           Country  Yearly_Disaster_Deaths\n",
      "Start_Year                                \n",
      "1961         China           666666.666667\n",
      "-------------\n",
      "curr_year: 1965\n"
     ]
    },
    {
     "data": {
      "text/plain": "                                Yearly_Disaster_Deaths\nDuration_CalendarYears Country                        \n2                      India                  500000.0",
      "text/html": "<div>\n<style scoped>\n    .dataframe tbody tr th:only-of-type {\n        vertical-align: middle;\n    }\n\n    .dataframe tbody tr th {\n        vertical-align: top;\n    }\n\n    .dataframe thead th {\n        text-align: right;\n    }\n</style>\n<table border=\"1\" class=\"dataframe\">\n  <thead>\n    <tr style=\"text-align: right;\">\n      <th></th>\n      <th></th>\n      <th>Yearly_Disaster_Deaths</th>\n    </tr>\n    <tr>\n      <th>Duration_CalendarYears</th>\n      <th>Country</th>\n      <th></th>\n    </tr>\n  </thead>\n  <tbody>\n    <tr>\n      <th>2</th>\n      <th>India</th>\n      <td>500000.0</td>\n    </tr>\n  </tbody>\n</table>\n</div>"
     },
     "metadata": {},
     "output_type": "display_data"
    },
    {
     "data": {
      "text/plain": "(2,\n                                 Yearly_Disaster_Deaths\n Duration_CalendarYears Country                        \n 2                      India                  500000.0)"
     },
     "metadata": {},
     "output_type": "display_data"
    },
    {
     "name": "stdout",
     "output_type": "stream",
     "text": [
      "           Country  Yearly_Disaster_Deaths\n",
      "Start_Year                                \n",
      "1967         India                500000.0\n",
      "-------------\n",
      "curr_year: 1967\n"
     ]
    },
    {
     "data": {
      "text/plain": "                                  Yearly_Disaster_Deaths\nDuration_CalendarYears Country                          \n2                      Australia                   200.0",
      "text/html": "<div>\n<style scoped>\n    .dataframe tbody tr th:only-of-type {\n        vertical-align: middle;\n    }\n\n    .dataframe tbody tr th {\n        vertical-align: top;\n    }\n\n    .dataframe thead th {\n        text-align: right;\n    }\n</style>\n<table border=\"1\" class=\"dataframe\">\n  <thead>\n    <tr style=\"text-align: right;\">\n      <th></th>\n      <th></th>\n      <th>Yearly_Disaster_Deaths</th>\n    </tr>\n    <tr>\n      <th>Duration_CalendarYears</th>\n      <th>Country</th>\n      <th></th>\n    </tr>\n  </thead>\n  <tbody>\n    <tr>\n      <th>2</th>\n      <th>Australia</th>\n      <td>200.0</td>\n    </tr>\n  </tbody>\n</table>\n</div>"
     },
     "metadata": {},
     "output_type": "display_data"
    },
    {
     "data": {
      "text/plain": "(2,\n                                   Yearly_Disaster_Deaths\n Duration_CalendarYears Country                          \n 2                      Australia                   200.0)"
     },
     "metadata": {},
     "output_type": "display_data"
    },
    {
     "name": "stdout",
     "output_type": "stream",
     "text": [
      "              Country  Yearly_Disaster_Deaths\n",
      "Start_Year                                   \n",
      "1969        Australia                   200.0\n",
      "-------------\n",
      "curr_year: 1973\n"
     ]
    },
    {
     "data": {
      "text/plain": "                                  Yearly_Disaster_Deaths\nDuration_CalendarYears Country                          \n1                      Australia                     6.0\n5                      Ethiopia             16666.666667",
      "text/html": "<div>\n<style scoped>\n    .dataframe tbody tr th:only-of-type {\n        vertical-align: middle;\n    }\n\n    .dataframe tbody tr th {\n        vertical-align: top;\n    }\n\n    .dataframe thead th {\n        text-align: right;\n    }\n</style>\n<table border=\"1\" class=\"dataframe\">\n  <thead>\n    <tr style=\"text-align: right;\">\n      <th></th>\n      <th></th>\n      <th>Yearly_Disaster_Deaths</th>\n    </tr>\n    <tr>\n      <th>Duration_CalendarYears</th>\n      <th>Country</th>\n      <th></th>\n    </tr>\n  </thead>\n  <tbody>\n    <tr>\n      <th>1</th>\n      <th>Australia</th>\n      <td>6.0</td>\n    </tr>\n    <tr>\n      <th>5</th>\n      <th>Ethiopia</th>\n      <td>16666.666667</td>\n    </tr>\n  </tbody>\n</table>\n</div>"
     },
     "metadata": {},
     "output_type": "display_data"
    },
    {
     "data": {
      "text/plain": "(1,\n                                   Yearly_Disaster_Deaths\n Duration_CalendarYears Country                          \n 1                      Australia                     6.0)"
     },
     "metadata": {},
     "output_type": "display_data"
    },
    {
     "name": "stdout",
     "output_type": "stream",
     "text": [
      "              Country  Yearly_Disaster_Deaths\n",
      "Start_Year                                   \n",
      "1974        Australia                     6.0\n",
      "-------------\n",
      "curr_year: 1974\n"
     ]
    },
    {
     "data": {
      "text/plain": "                                Yearly_Disaster_Deaths\nDuration_CalendarYears Country                        \n2                      Somalia             6333.333333",
      "text/html": "<div>\n<style scoped>\n    .dataframe tbody tr th:only-of-type {\n        vertical-align: middle;\n    }\n\n    .dataframe tbody tr th {\n        vertical-align: top;\n    }\n\n    .dataframe thead th {\n        text-align: right;\n    }\n</style>\n<table border=\"1\" class=\"dataframe\">\n  <thead>\n    <tr style=\"text-align: right;\">\n      <th></th>\n      <th></th>\n      <th>Yearly_Disaster_Deaths</th>\n    </tr>\n    <tr>\n      <th>Duration_CalendarYears</th>\n      <th>Country</th>\n      <th></th>\n    </tr>\n  </thead>\n  <tbody>\n    <tr>\n      <th>2</th>\n      <th>Somalia</th>\n      <td>6333.333333</td>\n    </tr>\n  </tbody>\n</table>\n</div>"
     },
     "metadata": {},
     "output_type": "display_data"
    },
    {
     "ename": "SystemExit",
     "evalue": "",
     "output_type": "error",
     "traceback": [
      "An exception has occurred, use %tb to see the full traceback.\n",
      "\u001B[1;31mSystemExit\u001B[0m\n"
     ]
    },
    {
     "name": "stderr",
     "output_type": "stream",
     "text": [
      "C:\\Users\\Koffe\\AppData\\Local\\Programs\\Python\\Python311\\Lib\\site-packages\\IPython\\core\\interactiveshell.py:3441: UserWarning: To exit: use 'exit', 'quit', or Ctrl-D.\n",
      "  warn(\"To exit: use 'exit', 'quit', or Ctrl-D.\", stacklevel=1)\n"
     ]
    }
   ],
   "source": [
    "\n",
    "min_start_year = df[\"Start_Year\"].min()\n",
    "max_start_year = df[\"Start_Year\"].max()\n",
    "\n",
    "\n",
    "index_value_dict = OrderedDict()\n",
    "for label in custom_index:\n",
    "    index_value_dict[label] = list(df[label].unique())\n",
    "custom_index_values = list(index_value_dict.values())\n",
    "index_labels = [\"Start_Year\"] + custom_index\n",
    "\n",
    "\n",
    "intra_year_disasters = df.loc[df[\"Duration_CalendarYears\"]==0, [\"Total_Deaths\"] + index_labels]\n",
    "perennial_disasters = df.loc[df[\"Duration_CalendarYears\"]!=0, [\"Yearly_Disaster_Deaths\", \"Duration_CalendarYears\"] + index_labels]\n",
    "\n",
    "complete_year_range = range(min_start_year, max_start_year+1)\n",
    "result_index = pd.MultiIndex.from_product(iterables=[complete_year_range] + custom_index_values, names=index_labels)\n",
    "empty_series = pd.Series(data=0, name=\"Total_Deaths\", index=result_index)\n",
    "\n",
    "intra_year_disaster_deaths = intra_year_disasters.groupby(index_labels).sum()\n",
    "intra_year_disaster_deaths = intra_year_disaster_deaths.loc[:,\"Total_Deaths\"]\n",
    "\n",
    "deaths_per_year = empty_series.add(intra_year_disaster_deaths, fill_value=0).astype(\"float32\") # will be filled with perennial disaster_deaths later\n",
    "\n",
    "def _flatten_death_distr(year_df: pd.DataFrame):\n",
    "\n",
    "    global deaths_per_year\n",
    "    curr_year = year_df['Start_Year'].iloc[0]\n",
    "    year_df.dropna(axis=0, inplace=True)\n",
    "    if len(year_df)==0:\n",
    "        return\n",
    "    print(\"-------------\")\n",
    "    print(f\"curr_year: {curr_year}\")\n",
    "    yearly_deaths_by_duration = year_df[[\"Duration_CalendarYears\" ,\"Yearly_Disaster_Deaths\"] + custom_index].groupby([\"Duration_CalendarYears\"] + custom_index, as_index=False).sum()\n",
    "\n",
    "    display(yearly_deaths_by_duration)\n",
    "    #yearly_deaths_by_duration[\"Start_Year\"] = yearly_deaths_by_duration[\"Duration_CalendarYears\"]# + curr_year\n",
    "    #add_series = yearly_deaths_by_duration.drop(\"Duration_CalendarYears\", axis=1).set_index(index_labels)[\"Yearly_Disaster_Deaths\"].rename(\"Total_Deaths\")\n",
    "    #deaths_per_year = deaths_per_year.add(add_series, fill_value=0)\n",
    "    if curr_year > 1973:\n",
    "        import sys\n",
    "        sys.exit()\n",
    "\n",
    "    duration_df:pd.DataFrame\n",
    "    for Duration_CalendarYears, duration_df in yearly_deaths_by_duration.groupby(level=\"Duration_CalendarYears\"):\n",
    "        duration_df.reset_index(inplace=\"True\")\n",
    "        year_range = range(curr_year, curr_year + Duration_CalendarYears +1)\n",
    "        add_series_index = duration_df.index.get_level\n",
    "        duration_df.reset_index(inplace=True)\n",
    "        duration_df[\"Start_Year\"] = duration_df[\"Duration_CalendarYears\"] + curr_year\n",
    "        year_df = duration_df.drop(\"Duration_CalendarYears\", axis=1).set_index(\"Start_Year\")\n",
    "        print(year_df)\n",
    "        break\n",
    "        add_series = pd.Series(index=year_index, data=Yearly_Disaster_Deaths, dtype=\"float32\", name=\"Total_Deaths\")\n",
    "        deaths_per_year = deaths_per_year.add(add_series, fill_value=0)\n",
    "\n",
    "perennial_disasters.groupby(\"Start_Year\", as_index=False).apply(_flatten_death_distr)\n",
    "deaths_per_year = deaths_per_year.groupby(level=0).sum()\n",
    "deaths_per_year"
   ],
   "metadata": {
    "collapsed": false
   }
  },
  {
   "cell_type": "code",
   "execution_count": null,
   "outputs": [],
   "source": [
    "df[[\"Total_Deaths\", \"Start_Year\", \"Country\"]].groupby([\"Start_Year\",\"Country\"]).sum().loc[1910]\n",
    "#df[df[\"Start_Year\"]==1910]"
   ],
   "metadata": {
    "collapsed": false
   }
  },
  {
   "cell_type": "code",
   "execution_count": null,
   "outputs": [],
   "source": [],
   "metadata": {
    "collapsed": false
   }
  },
  {
   "cell_type": "code",
   "execution_count": null,
   "outputs": [],
   "source": [
    "deaths_per_year = defaultdict(lambda: 0)\n",
    "\n",
    "def _flatten_death_distr(year_df: pd.DataFrame):\n",
    "    curr_year = year_df['Start_Year'].iloc[0]\n",
    "    year_df.dropna(axis=0, inplace=True)\n",
    "    yearly_deaths_by_duration = year_df[[\"Duration_CalendarYears\" ,\"Yearly_Disaster_Deaths\"]].groupby(\"Duration_CalendarYears\").sum().reset_index()\n",
    "    for _, (Duration_CalendarYears, Yearly_Disaster_Deaths)  in yearly_deaths_by_duration.iterrows():\n",
    "        years_affected = range(curr_year, curr_year + Duration_CalendarYears +1)\n",
    "        for year in years_affected:\n",
    "            deaths_per_year[year] += Yearly_Disaster_Deaths\n",
    "\n",
    "df.groupby(\"Start_Year\").apply(_flatten_death_distr)\n",
    "deaths_per_year = pd.Series(deaths_per_year).rename(\"Total_Deaths\")\n",
    "deaths_per_year"
   ],
   "metadata": {
    "collapsed": false
   }
  },
  {
   "cell_type": "markdown",
   "source": [
    "## Appendix"
   ],
   "metadata": {
    "collapsed": false
   }
  },
  {
   "cell_type": "markdown",
   "source": [
    "### Disaster Classification according to EM-DAT\n",
    "\n",
    "Sourced from https://public.emdat.be/about.\n",
    "\n",
    "<table style=\"border: 1px solid lightgray;float:left;\">\n",
    "    <tbody>\n",
    "        <tr>\n",
    "            <td>\n",
    "                <p><strong>Disaster </strong></p>\n",
    "                <p><strong>Group</strong></p>\n",
    "            </td>\n",
    "            <td>\n",
    "                <p><strong>Disaster </strong></p>\n",
    "                <p><strong>Sub-Group</strong></p>\n",
    "            </td>\n",
    "            <td>\n",
    "                <p><strong>Disaster </strong></p>\n",
    "                <p><strong>Type</strong></p>\n",
    "            </td>\n",
    "            <td>\n",
    "                <p><strong>Disaster </strong></p>\n",
    "                <p><strong>Sub-Type</strong></p>\n",
    "            </td>\n",
    "            <td>\n",
    "                <p><strong>Disaster </strong></p>\n",
    "                <p><strong>Sub-Sub Type</strong></p>\n",
    "            </td>\n",
    "        </tr>\n",
    "        <tr>\n",
    "            <td>\n",
    "                <p><strong>Natural</strong></p>\n",
    "            </td>\n",
    "            <td>\n",
    "                <p>Geophysical</p>\n",
    "            </td>\n",
    "            <td>\n",
    "                <p>Earthquake</p>\n",
    "            </td>\n",
    "            <td>\n",
    "                <p>Ground movement</p>\n",
    "            </td>\n",
    "            <td></td>\n",
    "        </tr>\n",
    "        <tr>\n",
    "            <td></td>\n",
    "            <td></td>\n",
    "            <td></td>\n",
    "            <td>\n",
    "                <p>Tsunami</p>\n",
    "            </td>\n",
    "            <td></td>\n",
    "        </tr>\n",
    "        <tr>\n",
    "            <td></td>\n",
    "            <td></td>\n",
    "            <td>\n",
    "                <p>Volcanic activity</p>\n",
    "            </td>\n",
    "            <td>\n",
    "                <p>Ash fall</p>\n",
    "            </td>\n",
    "            <td></td>\n",
    "        </tr>\n",
    "        <tr>\n",
    "            <td></td>\n",
    "            <td></td>\n",
    "            <td></td>\n",
    "            <td>\n",
    "                <p>Lahar</p>\n",
    "            </td>\n",
    "            <td></td>\n",
    "        </tr>\n",
    "        <tr>\n",
    "            <td></td>\n",
    "            <td></td>\n",
    "            <td></td>\n",
    "            <td>\n",
    "                <p>Pyroclastic flow</p>\n",
    "            </td>\n",
    "            <td></td>\n",
    "        </tr>\n",
    "        <tr>\n",
    "            <td></td>\n",
    "            <td></td>\n",
    "            <td></td>\n",
    "            <td>\n",
    "                <p>Lava flow</p>\n",
    "            </td>\n",
    "            <td></td>\n",
    "        </tr>\n",
    "        <tr>\n",
    "            <td></td>\n",
    "            <td></td>\n",
    "            <td>\n",
    "                <p>Mass Movement</p>\n",
    "            </td>\n",
    "            <td></td>\n",
    "            <td></td>\n",
    "        </tr>\n",
    "        <tr>\n",
    "            <td></td>\n",
    "            <td>\n",
    "                <p>Meteorological</p>\n",
    "            </td>\n",
    "            <td>\n",
    "                <p>Storm</p>\n",
    "            </td>\n",
    "            <td>\n",
    "                <p>Tropical storm</p>\n",
    "            </td>\n",
    "            <td></td>\n",
    "        </tr>\n",
    "        <tr>\n",
    "            <td></td>\n",
    "            <td></td>\n",
    "            <td></td>\n",
    "            <td>\n",
    "                <p>Extra-tropical storm</p>\n",
    "            </td>\n",
    "            <td></td>\n",
    "        </tr>\n",
    "        <tr>\n",
    "            <td></td>\n",
    "            <td></td>\n",
    "            <td></td>\n",
    "            <td>\n",
    "                <p>Convective storm</p>\n",
    "            </td>\n",
    "            <td>\n",
    "                <p>Derecho</p>\n",
    "            </td>\n",
    "        </tr>\n",
    "        <tr>\n",
    "            <td></td>\n",
    "            <td></td>\n",
    "            <td></td>\n",
    "            <td></td>\n",
    "            <td>\n",
    "                <p>Hail</p>\n",
    "            </td>\n",
    "        </tr>\n",
    "        <tr>\n",
    "            <td></td>\n",
    "            <td></td>\n",
    "            <td></td>\n",
    "            <td></td>\n",
    "            <td>\n",
    "                <p>Lightning/thunderstorm</p>\n",
    "            </td>\n",
    "        </tr>\n",
    "        <tr>\n",
    "            <td></td>\n",
    "            <td></td>\n",
    "            <td></td>\n",
    "            <td></td>\n",
    "            <td>\n",
    "                <p>Rain</p>\n",
    "            </td>\n",
    "        </tr>\n",
    "        <tr>\n",
    "            <td></td>\n",
    "            <td></td>\n",
    "            <td></td>\n",
    "            <td></td>\n",
    "            <td>\n",
    "                <p>Tornado</p>\n",
    "            </td>\n",
    "        </tr>\n",
    "        <tr>\n",
    "            <td></td>\n",
    "            <td></td>\n",
    "            <td></td>\n",
    "            <td></td>\n",
    "            <td>\n",
    "                <p>Sand/dust storm</p>\n",
    "            </td>\n",
    "        </tr>\n",
    "        <tr>\n",
    "            <td></td>\n",
    "            <td></td>\n",
    "            <td></td>\n",
    "            <td></td>\n",
    "            <td>\n",
    "                <p>Winter storm/blizzard</p>\n",
    "            </td>\n",
    "        </tr>\n",
    "        <tr>\n",
    "            <td></td>\n",
    "            <td></td>\n",
    "            <td></td>\n",
    "            <td></td>\n",
    "            <td>\n",
    "                <p>Storm/surge</p>\n",
    "            </td>\n",
    "        </tr>\n",
    "        <tr>\n",
    "            <td></td>\n",
    "            <td></td>\n",
    "            <td></td>\n",
    "            <td></td>\n",
    "            <td>\n",
    "                <p>Wind</p>\n",
    "            </td>\n",
    "        </tr>\n",
    "        <tr>\n",
    "            <td></td>\n",
    "            <td></td>\n",
    "            <td></td>\n",
    "            <td></td>\n",
    "            <td>\n",
    "                <p>Severe Storm</p>\n",
    "            </td>\n",
    "        </tr>\n",
    "        <tr>\n",
    "            <td></td>\n",
    "            <td></td>\n",
    "            <td>\n",
    "                <p>Extreme Temperature</p>\n",
    "            </td>\n",
    "            <td>\n",
    "                <p>Cold wave</p>\n",
    "            </td>\n",
    "            <td></td>\n",
    "        </tr>\n",
    "        <tr>\n",
    "            <td></td>\n",
    "            <td></td>\n",
    "            <td></td>\n",
    "            <td>\n",
    "                <p>Heat Wave</p>\n",
    "            </td>\n",
    "            <td></td>\n",
    "        </tr>\n",
    "        <tr>\n",
    "            <td></td>\n",
    "            <td></td>\n",
    "            <td></td>\n",
    "            <td>\n",
    "                <p>Severe winter conditions</p>\n",
    "            </td>\n",
    "            <td>\n",
    "                <p>Snow/ice</p>\n",
    "            </td>\n",
    "        </tr>\n",
    "        <tr>\n",
    "            <td></td>\n",
    "            <td></td>\n",
    "            <td></td>\n",
    "            <td></td>\n",
    "            <td>\n",
    "                <p>Frost/freeze</p>\n",
    "            </td>\n",
    "        </tr>\n",
    "        <tr>\n",
    "            <td></td>\n",
    "            <td></td>\n",
    "            <td>\n",
    "                <p>Fog</p>\n",
    "            </td>\n",
    "            <td></td>\n",
    "            <td></td>\n",
    "        </tr>\n",
    "        <tr>\n",
    "            <td></td>\n",
    "            <td>\n",
    "                <p>Hydrological</p>\n",
    "            </td>\n",
    "            <td>\n",
    "                <p>Flood</p>\n",
    "            </td>\n",
    "            <td>\n",
    "                <p>Coastal flood</p>\n",
    "            </td>\n",
    "            <td></td>\n",
    "        </tr>\n",
    "        <tr>\n",
    "            <td></td>\n",
    "            <td></td>\n",
    "            <td></td>\n",
    "            <td>\n",
    "                <p>Riverine flood</p>\n",
    "            </td>\n",
    "            <td></td>\n",
    "        </tr>\n",
    "        <tr>\n",
    "            <td></td>\n",
    "            <td></td>\n",
    "            <td></td>\n",
    "            <td>\n",
    "                <p>Flash flood</p>\n",
    "            </td>\n",
    "            <td></td>\n",
    "        </tr>\n",
    "        <tr>\n",
    "            <td></td>\n",
    "            <td></td>\n",
    "            <td></td>\n",
    "            <td>\n",
    "                <p>Ice jam flood</p>\n",
    "            </td>\n",
    "            <td></td>\n",
    "        </tr>\n",
    "        <tr>\n",
    "            <td></td>\n",
    "            <td></td>\n",
    "            <td>\n",
    "                <p>Landslide</p>\n",
    "            </td>\n",
    "            <td>\n",
    "                <p>Avalanche (snow, debris, mudflow, rock fall)</p>\n",
    "            </td>\n",
    "            <td></td>\n",
    "        </tr>\n",
    "        <tr>\n",
    "            <td></td>\n",
    "            <td></td>\n",
    "            <td>\n",
    "                <p>Wave action</p>\n",
    "            </td>\n",
    "            <td>\n",
    "                <p>Rogue wave</p>\n",
    "            </td>\n",
    "            <td></td>\n",
    "        </tr>\n",
    "        <tr>\n",
    "            <td></td>\n",
    "            <td></td>\n",
    "            <td></td>\n",
    "            <td>\n",
    "                <p>Seiche</p>\n",
    "            </td>\n",
    "            <td></td>\n",
    "        </tr>\n",
    "        <tr>\n",
    "            <td></td>\n",
    "            <td>\n",
    "                <p>Climatological</p>\n",
    "            </td>\n",
    "            <td>\n",
    "                <p>Drought</p>\n",
    "            </td>\n",
    "            <td>\n",
    "                <p>Drought</p>\n",
    "            </td>\n",
    "            <td></td>\n",
    "        </tr>\n",
    "        <tr>\n",
    "            <td></td>\n",
    "            <td></td>\n",
    "            <td>\n",
    "                <p>Glacial Lake outburst</p>\n",
    "            </td>\n",
    "            <td></td>\n",
    "            <td></td>\n",
    "        </tr>\n",
    "        <tr>\n",
    "            <td></td>\n",
    "            <td></td>\n",
    "            <td>\n",
    "                <p>Wildfire</p>\n",
    "            </td>\n",
    "            <td>\n",
    "                <p>Forest fires</p>\n",
    "            </td>\n",
    "            <td></td>\n",
    "        </tr>\n",
    "        <tr>\n",
    "            <td></td>\n",
    "            <td></td>\n",
    "            <td></td>\n",
    "            <td>\n",
    "                <p>Land fire: Brush, bush, pasture</p>\n",
    "            </td>\n",
    "            <td></td>\n",
    "        </tr>\n",
    "        <tr>\n",
    "            <td></td>\n",
    "            <td>\n",
    "                <p>Biological</p>\n",
    "            </td>\n",
    "            <td>\n",
    "                <p>Epidemic</p>\n",
    "            </td>\n",
    "            <td>\n",
    "                <p>Viral diseases</p>\n",
    "            </td>\n",
    "            <td></td>\n",
    "        </tr>\n",
    "        <tr>\n",
    "            <td></td>\n",
    "            <td></td>\n",
    "            <td></td>\n",
    "            <td>\n",
    "                <p>Bacterial diseases</p>\n",
    "            </td>\n",
    "            <td></td>\n",
    "        </tr>\n",
    "        <tr>\n",
    "            <td></td>\n",
    "            <td></td>\n",
    "            <td></td>\n",
    "            <td>\n",
    "                <p>Parasitic diseases</p>\n",
    "            </td>\n",
    "            <td></td>\n",
    "        </tr>\n",
    "        <tr>\n",
    "            <td></td>\n",
    "            <td></td>\n",
    "            <td></td>\n",
    "            <td>\n",
    "                <p>Fungal diseases</p>\n",
    "            </td>\n",
    "            <td></td>\n",
    "        </tr>\n",
    "        <tr>\n",
    "            <td></td>\n",
    "            <td></td>\n",
    "            <td></td>\n",
    "            <td>\n",
    "                <p>Prion diseases</p>\n",
    "            </td>\n",
    "            <td></td>\n",
    "        </tr>\n",
    "        <tr>\n",
    "            <td></td>\n",
    "            <td></td>\n",
    "            <td>\n",
    "                <p>Insect Infestation</p>\n",
    "            </td>\n",
    "            <td>\n",
    "                <p>Locust</p>\n",
    "                <p>Grasshopper</p>\n",
    "            </td>\n",
    "            <td></td>\n",
    "        </tr>\n",
    "        <tr>\n",
    "            <td></td>\n",
    "            <td></td>\n",
    "            <td>\n",
    "                <p>Animal accident</p>\n",
    "            </td>\n",
    "            <td></td>\n",
    "            <td></td>\n",
    "        </tr>\n",
    "        <tr>\n",
    "            <td></td>\n",
    "            <td>\n",
    "                <p>Extra-terrestrial</p>\n",
    "            </td>\n",
    "            <td>\n",
    "                <p>Impact</p>\n",
    "            </td>\n",
    "            <td>\n",
    "                <p>Airburst</p>\n",
    "            </td>\n",
    "            <td></td>\n",
    "        </tr>\n",
    "        <tr>\n",
    "            <td></td>\n",
    "            <td></td>\n",
    "            <td>\n",
    "                <p>Space weather</p>\n",
    "            </td>\n",
    "            <td>\n",
    "                <p>Energic particles</p>\n",
    "            </td>\n",
    "            <td></td>\n",
    "        </tr>\n",
    "        <tr>\n",
    "            <td></td>\n",
    "            <td></td>\n",
    "            <td></td>\n",
    "            <td>\n",
    "                <p>Geomagnetic storm</p>\n",
    "            </td>\n",
    "            <td></td>\n",
    "        </tr>\n",
    "        <tr>\n",
    "            <td></td>\n",
    "            <td></td>\n",
    "            <td></td>\n",
    "            <td>\n",
    "                <p>Shockwave</p>\n",
    "            </td>\n",
    "            <td></td>\n",
    "        </tr>\n",
    "    </tbody>\n",
    "</table>"
   ],
   "metadata": {
    "collapsed": false
   }
  },
  {
   "cell_type": "code",
   "execution_count": null,
   "outputs": [],
   "source": [],
   "metadata": {
    "collapsed": false
   }
  }
 ],
 "metadata": {
  "kernelspec": {
   "display_name": "Python 3 (ipykernel)",
   "language": "python",
   "name": "python3"
  },
  "language_info": {
   "codemirror_mode": {
    "name": "ipython",
    "version": 3
   },
   "file_extension": ".py",
   "mimetype": "text/x-python",
   "name": "python",
   "nbconvert_exporter": "python",
   "pygments_lexer": "ipython3",
   "version": "3.10.0"
  }
 },
 "nbformat": 4,
 "nbformat_minor": 5
}
